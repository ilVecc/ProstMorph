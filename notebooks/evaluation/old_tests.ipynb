{
 "cells": [
  {
   "cell_type": "code",
   "execution_count": null,
   "outputs": [],
   "source": [
    "from pathlib import Path\n",
    "\n",
    "import neurite as ne\n",
    "import numpy as np\n",
    "import tensorflow as tf\n",
    "\n",
    "from notebooks.utils import Generator, split_dataset, dice_coeff, prepare_model\n",
    "import matplotlib.pyplot as plt\n",
    "import seaborn as sns"
   ],
   "metadata": {
    "collapsed": false,
    "pycharm": {
     "name": "#%%\n"
    }
   }
  },
  {
   "cell_type": "code",
   "execution_count": null,
   "outputs": [],
   "source": [
    "results = np.load(f\"../results/results_5.0_2.0.npz\", allow_pickle=True)['arr_0'].tolist()"
   ],
   "metadata": {
    "collapsed": false,
    "pycharm": {
     "name": "#%%\n"
    }
   }
  },
  {
   "cell_type": "code",
   "execution_count": null,
   "metadata": {
    "collapsed": true
   },
   "outputs": [],
   "source": [
    "_, ax = plt.subplots(1, 2, figsize=(15, 5))\n",
    "\n",
    "sns.histplot(results[\"dice\"], bins=50, binrange=(0.0, 1.0), ax=ax[0])\n",
    "ax[0].set_title(\"Distribution of Dice coefficients\"), ax[0].set_xlabel(\"Dice\")\n",
    "\n",
    "sns.histplot(results[\"error\"], bins=20, ax=ax[1])\n",
    "ax[0].set_title(\"Distribution of TRE\"), ax[1].set_xlabel(\"TRE [mm]\")\n",
    "\n",
    "plt.subplots_adjust(wspace=0.2, hspace=0.2)\n",
    "plt.show()"
   ]
  },
  {
   "cell_type": "code",
   "execution_count": null,
   "outputs": [],
   "source": [
    "x = list(range(len(results[\"dice\"])))\n",
    "fig, ax1 = plt.subplots()\n",
    "ax1.plot(x, results[\"dice\"], 'tab:red')\n",
    "ax2 = ax1.twinx()\n",
    "ax2.plot(x, results[\"error\"], 'tab:blue')\n",
    "fig.tight_layout()\n",
    "plt.show()"
   ],
   "metadata": {
    "collapsed": false,
    "pycharm": {
     "name": "#%%\n"
    }
   }
  },
  {
   "cell_type": "markdown",
   "source": [
    "Show slices"
   ],
   "metadata": {
    "collapsed": false
   }
  },
  {
   "cell_type": "code",
   "execution_count": null,
   "outputs": [],
   "source": [
    "n_slice = 30\n",
    "images = [img[0, :, :, n_slice * 2].squeeze() for img in [test_input_target, test_pred_target, test_output_target]]\n",
    "titles = ['moving_target', 'moved_target', 'fixed_target']\n",
    "_ = ne.plot.slices(images, titles=titles, cmaps=['gray'], do_colorbars=True, grid=(1, 3), width=8)"
   ],
   "metadata": {
    "collapsed": false,
    "pycharm": {
     "name": "#%%\n"
    }
   }
  },
  {
   "cell_type": "code",
   "execution_count": null,
   "outputs": [],
   "source": [
    "test_pred = model.predict(test_input)"
   ],
   "metadata": {
    "collapsed": false,
    "pycharm": {
     "name": "#%%\n"
    }
   }
  },
  {
   "cell_type": "code",
   "execution_count": null,
   "outputs": [],
   "source": [
    "n_slice = 56\n",
    "images = [img[0, :, :, n_slice * 2].squeeze() for img in [test_input[0], test_pred[0], test_input[1]]]\n",
    "images += [img[0, :, :, n_slice].squeeze() for img in [test_input[2], test_pred[2], test_output[2]]]\n",
    "images += [img[0, :, :, n_slice * 2].squeeze() for img in [test_input_target, test_pred_target, test_output_target]]\n",
    "titles = ['moving', 'moved', 'fixed', 'moving_seg', 'moved_seg', 'fixed_seg', 'moving_target', 'moved_target', 'fixed_target']\n",
    "_ = ne.plot.slices(images, titles=titles, cmaps=['gray'], do_colorbars=True, grid=(3, 3), width=8)"
   ],
   "metadata": {
    "collapsed": false,
    "pycharm": {
     "name": "#%%\n"
    }
   }
  }
 ],
 "metadata": {
  "kernelspec": {
   "display_name": "Python 3",
   "language": "python",
   "name": "python3"
  },
  "language_info": {
   "codemirror_mode": {
    "name": "ipython",
    "version": 2
   },
   "file_extension": ".py",
   "mimetype": "text/x-python",
   "name": "python",
   "nbconvert_exporter": "python",
   "pygments_lexer": "ipython2",
   "version": "2.7.6"
  }
 },
 "nbformat": 4,
 "nbformat_minor": 0
}