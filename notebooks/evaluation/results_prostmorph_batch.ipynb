{
 "cells": [
  {
   "cell_type": "markdown",
   "source": [
    "# Batch results\n",
    "\n",
    "Here we load every `.npz` created above and compute some statistics."
   ],
   "metadata": {
    "collapsed": false
   }
  },
  {
   "cell_type": "code",
   "execution_count": 1,
   "outputs": [],
   "source": [
    "from pathlib import Path\n",
    "from notebooks.utils import get_index, init_stats, store_stats\n",
    "\n",
    "import numpy as np\n",
    "\n",
    "import matplotlib.pyplot as plt\n",
    "import seaborn as sns"
   ],
   "metadata": {
    "collapsed": false,
    "pycharm": {
     "name": "#%%\n"
    }
   }
  },
  {
   "cell_type": "code",
   "execution_count": 2,
   "outputs": [
    {
     "name": "stderr",
     "output_type": "stream",
     "text": [
      "U:\\2.magistrale\\laurea\\tesi\\MRI-US_fusion\\notebooks\\utils.py:685: RuntimeWarning: Mean of empty slice.\n",
      "  stats[\"target\"][\"final\"][\"good\"][\"dice\"][\"mean\"][l, g] = good_dice_vals.mean()\n",
      "u:\\2.magistrale\\laurea\\tesi\\mri-us_fusion\\venv\\lib\\site-packages\\numpy\\core\\_methods.py:189: RuntimeWarning: invalid value encountered in double_scalars\n",
      "  ret = ret.dtype.type(ret / rcount)\n",
      "u:\\2.magistrale\\laurea\\tesi\\mri-us_fusion\\venv\\lib\\site-packages\\numpy\\core\\_methods.py:264: RuntimeWarning: Degrees of freedom <= 0 for slice\n",
      "  ret = _var(a, axis=axis, dtype=dtype, out=out, ddof=ddof,\n",
      "u:\\2.magistrale\\laurea\\tesi\\mri-us_fusion\\venv\\lib\\site-packages\\numpy\\core\\_methods.py:222: RuntimeWarning: invalid value encountered in true_divide\n",
      "  arrmean = um.true_divide(arrmean, div, out=arrmean, casting='unsafe',\n",
      "u:\\2.magistrale\\laurea\\tesi\\mri-us_fusion\\venv\\lib\\site-packages\\numpy\\core\\_methods.py:256: RuntimeWarning: invalid value encountered in double_scalars\n",
      "  ret = ret.dtype.type(ret / rcount)\n",
      "U:\\2.magistrale\\laurea\\tesi\\MRI-US_fusion\\notebooks\\utils.py:687: RuntimeWarning: Mean of empty slice.\n",
      "  stats[\"target\"][\"final\"][\"good\"][\"error\"][\"mean\"][l, g] = good_error_vals.mean()\n",
      "U:\\2.magistrale\\laurea\\tesi\\MRI-US_fusion\\notebooks\\utils.py:691: RuntimeWarning: Mean of empty slice.\n",
      "  stats[\"target\"][\"def\"][\"good\"][\"dice\"][\"mean\"][l, g] = good_dice_vals.mean()\n",
      "U:\\2.magistrale\\laurea\\tesi\\MRI-US_fusion\\notebooks\\utils.py:693: RuntimeWarning: Mean of empty slice.\n",
      "  stats[\"target\"][\"def\"][\"good\"][\"error\"][\"mean\"][l, g] = good_error_vals.mean()\n",
      "U:\\2.magistrale\\laurea\\tesi\\MRI-US_fusion\\notebooks\\utils.py:713: RuntimeWarning: Mean of empty slice.\n",
      "  stats[\"target\"][\"final\"][\"bad\"][\"dice\"][\"mean\"][l, g] = bad_dice_vals.mean()\n",
      "U:\\2.magistrale\\laurea\\tesi\\MRI-US_fusion\\notebooks\\utils.py:715: RuntimeWarning: Mean of empty slice.\n",
      "  stats[\"target\"][\"final\"][\"bad\"][\"error\"][\"mean\"][l, g] = bad_error_vals.mean()\n",
      "U:\\2.magistrale\\laurea\\tesi\\MRI-US_fusion\\notebooks\\utils.py:719: RuntimeWarning: Mean of empty slice.\n",
      "  stats[\"target\"][\"def\"][\"bad\"][\"dice\"][\"mean\"][l, g] = bad_dice_vals.mean()\n",
      "U:\\2.magistrale\\laurea\\tesi\\MRI-US_fusion\\notebooks\\utils.py:721: RuntimeWarning: Mean of empty slice.\n",
      "  stats[\"target\"][\"def\"][\"bad\"][\"error\"][\"mean\"][l, g] = bad_error_vals.mean()\n"
     ]
    }
   ],
   "source": [
    "path_results = Path(r\"../../results\")\n",
    "l_labels = ('0', '0.5', '1', '2', '3', '4', '5')\n",
    "g_labels = ('0', '0.5', '1', '2', '3')\n",
    "stats = init_stats(len(l_labels), len(g_labels))\n",
    "for r in path_results.rglob(\"results*\"):\n",
    "    info = r.stem.split(\"_\")\n",
    "    if len(info) > 3:\n",
    "        # special case, skip\n",
    "        continue\n",
    "    _, l, g = info\n",
    "    l, g = get_index(l), get_index(g)\n",
    "    results = np.load(r, allow_pickle=True)['arr_0'].tolist()\n",
    "\n",
    "    stats = store_stats(stats, results, l, g)\n",
    "del r, l, g, results"
   ],
   "metadata": {
    "collapsed": false,
    "pycharm": {
     "name": "#%%\n"
    }
   }
  },
  {
   "cell_type": "markdown",
   "source": [
    "Some plots"
   ],
   "metadata": {
    "collapsed": false
   }
  },
  {
   "cell_type": "code",
   "execution_count": null,
   "outputs": [],
   "source": [
    "def plot_target_mean_stats(target_set):\n",
    "    _, ax = plt.subplots(1, 3, figsize=(20, 5), sharey='all')\n",
    "\n",
    "    sns.heatmap(target_set[\"ratio\"], annot=True, fmt='.2%', xticklabels=g_labels, yticklabels=l_labels, cmap=\"coolwarm\", ax=ax[0])\n",
    "    ax[0].set_title(\"% of decent Dice (Dice > 0)\"), ax[0].set_xlabel(\"Gamma\"), ax[0].set_ylabel(\"Lambda\")\n",
    "\n",
    "    sns.heatmap(target_set[\"dice\"][\"mean\"], annot=True, fmt='.2%', xticklabels=g_labels, yticklabels=l_labels, cmap=\"coolwarm\", ax=ax[1])\n",
    "    ax[1].set_title(\"Target Dice coefficients\"), ax[1].set_xlabel(\"Gamma\"), ax[1].set_ylabel(\"Lambda\")\n",
    "    #for t in hm.texts: t.set_text(f\"{t.get_text()}±{valid_dice_std[[int(p) for p in t.get_position()]]}\")\n",
    "\n",
    "    sns.heatmap(target_set[\"error\"][\"mean\"], annot=True, fmt='.2f', xticklabels=g_labels, yticklabels=l_labels, cmap=\"coolwarm\", ax=ax[2])\n",
    "    ax[2].set_title(\"Target Registration Error (TRE) [mm]\"), ax[2].set_xlabel(\"Gamma\"), ax[2].set_ylabel(\"Lambda\")\n",
    "\n",
    "    plt.subplots_adjust(wspace=0.2, hspace=0.2)\n",
    "    plt.show()\n",
    "\n",
    "plot_target_mean_stats(stats[\"target\"][\"final\"][\"valid\"])"
   ],
   "metadata": {
    "collapsed": false,
    "pycharm": {
     "name": "#%%\n"
    }
   }
  },
  {
   "cell_type": "code",
   "execution_count": null,
   "outputs": [],
   "source": [
    "def plots_1():\n",
    "    _, ax = plt.subplots(2, 3, figsize=(20, 10), sharey='all')\n",
    "\n",
    "    axx = ax[0, 0]\n",
    "    sns.heatmap(stats[\"target\"][\"pre\"][\"dice\"][\"mean\"], annot=True, fmt='.2%', xticklabels=g_labels, yticklabels=l_labels, cmap=\"coolwarm\", ax=axx)\n",
    "    axx.set_title(\"Target Dice PRE [MEAN]\"), axx.set_xlabel(\"Gamma\"), axx.set_ylabel(\"Lambda\")\n",
    "\n",
    "    axx = ax[1, 0]\n",
    "    sns.heatmap(stats[\"target\"][\"pre\"][\"dice\"][\"std\"], annot=True, fmt='.2f', xticklabels=g_labels, yticklabels=l_labels, cmap=\"coolwarm\", ax=axx)\n",
    "    axx.set_title(\"Target Dice PRE [STD]\"), axx.set_xlabel(\"Gamma\"), axx.set_ylabel(\"Lambda\")\n",
    "\n",
    "    axx = ax[0, 1]\n",
    "    sns.heatmap(stats[\"target\"][\"final\"][\"dice\"][\"mean\"], annot=True, fmt='.2%', xticklabels=g_labels, yticklabels=l_labels, cmap=\"coolwarm\", ax=axx)\n",
    "    axx.set_title(\"Target Dice PRE\"), axx.set_xlabel(\"Gamma\"), axx.set_ylabel(\"Lambda\")\n",
    "\n",
    "    axx = ax[1, 1]\n",
    "    sns.heatmap(stats[\"target\"][\"final\"][\"valid\"][\"error\"][\"mean\"], annot=True, fmt='.2f', xticklabels=g_labels, yticklabels=l_labels, cmap=\"coolwarm\", ax=axx)\n",
    "    axx.set_title(\"TRE PRE\"), axx.set_xlabel(\"Gamma\"), axx.set_ylabel(\"Lambda\")\n",
    "\n",
    "    axx = ax[0, 2]\n",
    "    sns.heatmap(stats[\"prostate\"][\"final\"][\"dice\"][\"std\"], annot=True, fmt='.2%', xticklabels=g_labels, yticklabels=l_labels, cmap=\"coolwarm\", ax=axx)\n",
    "    axx.set_title(\"Target Dice PRE STD\"), axx.set_xlabel(\"Gamma\"), axx.set_ylabel(\"Lambda\")\n",
    "\n",
    "    axx = ax[1, 2]\n",
    "    sns.heatmap(stats[\"target\"][\"final\"][\"valid\"][\"error\"][\"std\"], annot=True, fmt='.2f', xticklabels=g_labels, yticklabels=l_labels, cmap=\"coolwarm\", ax=axx)\n",
    "    axx.set_title(\"TRE PRE STD\"), axx.set_xlabel(\"Gamma\"), axx.set_ylabel(\"Lambda\")\n",
    "\n",
    "    plt.subplots_adjust(wspace=0.25, hspace=0.30)\n",
    "    plt.show()"
   ],
   "metadata": {
    "collapsed": false,
    "pycharm": {
     "name": "#%%\n"
    }
   }
  },
  {
   "cell_type": "code",
   "execution_count": null,
   "outputs": [],
   "source": [
    "def plots_2():\n",
    "    _, ax = plt.subplots(2, 3, figsize=(20, 12), sharey='all')\n",
    "\n",
    "    sns.heatmap(stats[\"prostate\"][\"final\"][\"dice\"][\"mean\"], annot=True, fmt='.2%', xticklabels=g_labels, yticklabels=l_labels, cmap=\"coolwarm\", ax=ax[0, 0])\n",
    "    ax[0, 0].set_title(\"Prostate Dice coefficients MEAN\"), ax[0, 0].set_xlabel(\"Gamma\"), ax[0, 0].set_ylabel(\"Lambda\")\n",
    "\n",
    "    sns.heatmap(stats[\"prostate\"][\"final\"][\"dice\"][\"std\"], annot=True, fmt='.2%', xticklabels=g_labels, yticklabels=l_labels, cmap=\"coolwarm\", ax=ax[1, 0])\n",
    "    ax[1, 0].set_title(\"Prostate Dice coefficients STD\"), ax[1, 0].set_xlabel(\"Gamma\"), ax[1, 0].set_ylabel(\"Lambda\")\n",
    "\n",
    "    sns.heatmap(stats[\"target\"][\"final\"][\"valid\"][\"dice\"][\"mean\"], annot=True, fmt='.2%', xticklabels=g_labels, yticklabels=l_labels, cmap=\"coolwarm\", ax=ax[0, 1])\n",
    "    ax[0, 1].set_title(\"Target Dice coefficients MEAN\"), ax[0, 1].set_xlabel(\"Gamma\"), ax[0, 1].set_ylabel(\"Lambda\")\n",
    "\n",
    "    sns.heatmap(stats[\"target\"][\"final\"][\"valid\"][\"dice\"][\"std\"], annot=True, fmt='.2%', xticklabels=g_labels, yticklabels=l_labels, cmap=\"coolwarm\", ax=ax[1, 1])\n",
    "    ax[1, 1].set_title(\"Target Dice coefficients STD\"), ax[1, 1].set_xlabel(\"Gamma\"), ax[1, 1].set_ylabel(\"Lambda\")\n",
    "\n",
    "    sns.heatmap(stats[\"target\"][\"final\"][\"valid\"][\"error\"][\"mean\"], annot=True, fmt='.2f', xticklabels=g_labels, yticklabels=l_labels, cmap=\"coolwarm\", ax=ax[0, 2])\n",
    "    ax[0, 2].set_title(\"Target Registration Error (TRE) MEAN [mm]\"), ax[0, 2].set_xlabel(\"Gamma\"), ax[0, 2].set_ylabel(\"Lambda\")\n",
    "\n",
    "    sns.heatmap(stats[\"target\"][\"final\"][\"valid\"][\"error\"][\"std\"], annot=True, fmt='.2f', xticklabels=g_labels, yticklabels=l_labels, cmap=\"coolwarm\", ax=ax[1, 2])\n",
    "    ax[1, 2].set_title(\"Target Registration Error (TRE) STD [mm]\"), ax[1, 2].set_xlabel(\"Gamma\"), ax[1, 2].set_ylabel(\"Lambda\")\n",
    "\n",
    "    plt.subplots_adjust(wspace=0.2, hspace=0.2)\n",
    "    plt.show()"
   ],
   "metadata": {
    "collapsed": false,
    "pycharm": {
     "name": "#%%\n"
    }
   }
  },
  {
   "cell_type": "markdown",
   "source": [
    "Save figures one by one"
   ],
   "metadata": {
    "collapsed": false
   }
  },
  {
   "cell_type": "code",
   "execution_count": 6,
   "outputs": [
    {
     "ename": "KeyError",
     "evalue": "'valid'",
     "output_type": "error",
     "traceback": [
      "\u001B[1;31m---------------------------------------------------------------------------\u001B[0m",
      "\u001B[1;31mKeyError\u001B[0m                                  Traceback (most recent call last)",
      "Input \u001B[1;32mIn [6]\u001B[0m, in \u001B[0;36m<cell line: 49>\u001B[1;34m()\u001B[0m\n\u001B[0;32m     46\u001B[0m save_plot(subject\u001B[38;5;241m=\u001B[39m\u001B[38;5;124m\"\u001B[39m\u001B[38;5;124mprostate\u001B[39m\u001B[38;5;124m\"\u001B[39m, stage\u001B[38;5;241m=\u001B[39m\u001B[38;5;124m\"\u001B[39m\u001B[38;5;124mpre\u001B[39m\u001B[38;5;124m\"\u001B[39m, how\u001B[38;5;241m=\u001B[39m\u001B[38;5;124m\"\u001B[39m\u001B[38;5;124m\"\u001B[39m, what\u001B[38;5;241m=\u001B[39m\u001B[38;5;124m\"\u001B[39m\u001B[38;5;124mdice\u001B[39m\u001B[38;5;124m\"\u001B[39m, value\u001B[38;5;241m=\u001B[39m\u001B[38;5;124m\"\u001B[39m\u001B[38;5;124mmean\u001B[39m\u001B[38;5;124m\"\u001B[39m, show\u001B[38;5;241m=\u001B[39m\u001B[38;5;28;01mFalse\u001B[39;00m)\n\u001B[0;32m     47\u001B[0m save_plot(subject\u001B[38;5;241m=\u001B[39m\u001B[38;5;124m\"\u001B[39m\u001B[38;5;124mprostate\u001B[39m\u001B[38;5;124m\"\u001B[39m, stage\u001B[38;5;241m=\u001B[39m\u001B[38;5;124m\"\u001B[39m\u001B[38;5;124mpre\u001B[39m\u001B[38;5;124m\"\u001B[39m, how\u001B[38;5;241m=\u001B[39m\u001B[38;5;124m\"\u001B[39m\u001B[38;5;124m\"\u001B[39m, what\u001B[38;5;241m=\u001B[39m\u001B[38;5;124m\"\u001B[39m\u001B[38;5;124mdice\u001B[39m\u001B[38;5;124m\"\u001B[39m, value\u001B[38;5;241m=\u001B[39m\u001B[38;5;124m\"\u001B[39m\u001B[38;5;124mstd\u001B[39m\u001B[38;5;124m\"\u001B[39m, show\u001B[38;5;241m=\u001B[39m\u001B[38;5;28;01mFalse\u001B[39;00m)\n\u001B[1;32m---> 49\u001B[0m \u001B[43msave_plot\u001B[49m\u001B[43m(\u001B[49m\u001B[43msubject\u001B[49m\u001B[38;5;241;43m=\u001B[39;49m\u001B[38;5;124;43m\"\u001B[39;49m\u001B[38;5;124;43mprostate\u001B[39;49m\u001B[38;5;124;43m\"\u001B[39;49m\u001B[43m,\u001B[49m\u001B[43m \u001B[49m\u001B[43mstage\u001B[49m\u001B[38;5;241;43m=\u001B[39;49m\u001B[38;5;124;43m\"\u001B[39;49m\u001B[38;5;124;43mdef\u001B[39;49m\u001B[38;5;124;43m\"\u001B[39;49m\u001B[43m,\u001B[49m\u001B[43m \u001B[49m\u001B[43mhow\u001B[49m\u001B[38;5;241;43m=\u001B[39;49m\u001B[38;5;124;43m\"\u001B[39;49m\u001B[38;5;124;43mvalid\u001B[39;49m\u001B[38;5;124;43m\"\u001B[39;49m\u001B[43m,\u001B[49m\u001B[43m \u001B[49m\u001B[43mwhat\u001B[49m\u001B[38;5;241;43m=\u001B[39;49m\u001B[38;5;124;43m\"\u001B[39;49m\u001B[38;5;124;43mdice\u001B[39;49m\u001B[38;5;124;43m\"\u001B[39;49m\u001B[43m,\u001B[49m\u001B[43m \u001B[49m\u001B[43mvalue\u001B[49m\u001B[38;5;241;43m=\u001B[39;49m\u001B[38;5;124;43m\"\u001B[39;49m\u001B[38;5;124;43mmean\u001B[39;49m\u001B[38;5;124;43m\"\u001B[39;49m\u001B[43m,\u001B[49m\u001B[43m \u001B[49m\u001B[43mshow\u001B[49m\u001B[38;5;241;43m=\u001B[39;49m\u001B[38;5;28;43;01mFalse\u001B[39;49;00m\u001B[43m)\u001B[49m\n\u001B[0;32m     50\u001B[0m save_plot(subject\u001B[38;5;241m=\u001B[39m\u001B[38;5;124m\"\u001B[39m\u001B[38;5;124mprostate\u001B[39m\u001B[38;5;124m\"\u001B[39m, stage\u001B[38;5;241m=\u001B[39m\u001B[38;5;124m\"\u001B[39m\u001B[38;5;124mdef\u001B[39m\u001B[38;5;124m\"\u001B[39m, how\u001B[38;5;241m=\u001B[39m\u001B[38;5;124m\"\u001B[39m\u001B[38;5;124mvalid\u001B[39m\u001B[38;5;124m\"\u001B[39m, what\u001B[38;5;241m=\u001B[39m\u001B[38;5;124m\"\u001B[39m\u001B[38;5;124mdice\u001B[39m\u001B[38;5;124m\"\u001B[39m, value\u001B[38;5;241m=\u001B[39m\u001B[38;5;124m\"\u001B[39m\u001B[38;5;124mstd\u001B[39m\u001B[38;5;124m\"\u001B[39m, show\u001B[38;5;241m=\u001B[39m\u001B[38;5;28;01mFalse\u001B[39;00m)\n\u001B[0;32m     51\u001B[0m save_plot(subject\u001B[38;5;241m=\u001B[39m\u001B[38;5;124m\"\u001B[39m\u001B[38;5;124mprostate\u001B[39m\u001B[38;5;124m\"\u001B[39m, stage\u001B[38;5;241m=\u001B[39m\u001B[38;5;124m\"\u001B[39m\u001B[38;5;124mdef\u001B[39m\u001B[38;5;124m\"\u001B[39m, how\u001B[38;5;241m=\u001B[39m\u001B[38;5;124m\"\u001B[39m\u001B[38;5;124mgood\u001B[39m\u001B[38;5;124m\"\u001B[39m, what\u001B[38;5;241m=\u001B[39m\u001B[38;5;124m\"\u001B[39m\u001B[38;5;124mdice\u001B[39m\u001B[38;5;124m\"\u001B[39m, value\u001B[38;5;241m=\u001B[39m\u001B[38;5;124m\"\u001B[39m\u001B[38;5;124mmean\u001B[39m\u001B[38;5;124m\"\u001B[39m, show\u001B[38;5;241m=\u001B[39m\u001B[38;5;28;01mFalse\u001B[39;00m)\n",
      "Input \u001B[1;32mIn [6]\u001B[0m, in \u001B[0;36msave_plot\u001B[1;34m(subject, stage, how, what, value, show, exclude_zero)\u001B[0m\n\u001B[0;32m      1\u001B[0m \u001B[38;5;28;01mdef\u001B[39;00m \u001B[38;5;21msave_plot\u001B[39m(subject, stage, how, what, value, show\u001B[38;5;241m=\u001B[39m\u001B[38;5;28;01mFalse\u001B[39;00m, exclude_zero\u001B[38;5;241m=\u001B[39m\u001B[38;5;28;01mTrue\u001B[39;00m):\n\u001B[0;32m      2\u001B[0m     stats_to_plot \u001B[38;5;241m=\u001B[39m stats[subject][stage]\n\u001B[1;32m----> 3\u001B[0m     stats_to_plot, focus \u001B[38;5;241m=\u001B[39m (\u001B[43mstats_to_plot\u001B[49m\u001B[43m[\u001B[49m\u001B[43mhow\u001B[49m\u001B[43m]\u001B[49m, \u001B[38;5;124mf\u001B[39m\u001B[38;5;124m\"\u001B[39m\u001B[38;5;132;01m{\u001B[39;00mstage\u001B[38;5;132;01m}\u001B[39;00m\u001B[38;5;124m_\u001B[39m\u001B[38;5;132;01m{\u001B[39;00mhow\u001B[38;5;132;01m}\u001B[39;00m\u001B[38;5;124m\"\u001B[39m) \u001B[38;5;28;01mif\u001B[39;00m stage \u001B[38;5;241m!=\u001B[39m \u001B[38;5;124m\"\u001B[39m\u001B[38;5;124mpre\u001B[39m\u001B[38;5;124m\"\u001B[39m \u001B[38;5;129;01mor\u001B[39;00m subject \u001B[38;5;241m==\u001B[39m \u001B[38;5;124m\"\u001B[39m\u001B[38;5;124mtarget\u001B[39m\u001B[38;5;124m\"\u001B[39m \u001B[38;5;28;01melse\u001B[39;00m (stats_to_plot, \u001B[38;5;124mf\u001B[39m\u001B[38;5;124m\"\u001B[39m\u001B[38;5;132;01m{\u001B[39;00mstage\u001B[38;5;132;01m}\u001B[39;00m\u001B[38;5;124m\"\u001B[39m)\n\u001B[0;32m      4\u001B[0m     stats_to_plot \u001B[38;5;241m=\u001B[39m stats_to_plot[what] \u001B[38;5;28;01mif\u001B[39;00m what \u001B[38;5;241m==\u001B[39m \u001B[38;5;124m\"\u001B[39m\u001B[38;5;124mratio\u001B[39m\u001B[38;5;124m\"\u001B[39m \u001B[38;5;28;01melse\u001B[39;00m stats_to_plot[what][value]\n\u001B[0;32m      5\u001B[0m     stats_to_plot \u001B[38;5;241m=\u001B[39m stats_to_plot[\u001B[38;5;241m1\u001B[39m:, \u001B[38;5;241m1\u001B[39m:] \u001B[38;5;28;01mif\u001B[39;00m exclude_zero \u001B[38;5;28;01melse\u001B[39;00m stats_to_plot\n",
      "\u001B[1;31mKeyError\u001B[0m: 'valid'"
     ]
    },
    {
     "data": {
      "text/plain": "<Figure size 360x432 with 1 Axes>",
      "image/png": "[encoded data removed]"
     },
     "metadata": {
      "needs_background": "light"
     },
     "output_type": "display_data"
    },
    {
     "data": {
      "text/plain": "<Figure size 360x432 with 1 Axes>",
      "image/png": "[encoded data removed]"
     },
     "metadata": {
      "needs_background": "light"
     },
     "output_type": "display_data"
    }
   ],
   "source": [
    "def save_plot(subject, stage, how, what, value, show=False, exclude_zero=True):\n",
    "    stats_to_plot = stats[subject][stage]\n",
    "    stats_to_plot, focus = (stats_to_plot[how], f\"{stage}_{how}\") if stage != \"pre\" or subject == \"target\" else (stats_to_plot, f\"{stage}\")\n",
    "    stats_to_plot = stats_to_plot[what] if what == \"ratio\" else stats_to_plot[what][value]\n",
    "    stats_to_plot = stats_to_plot[1:, 1:] if exclude_zero else stats_to_plot\n",
    "    fmt = \".2f\" if what == \"error\" else \".2%\"\n",
    "    topic = f\"{what}\" if what == \"ratio\" else f\"{what}_{value}\"\n",
    "    if stage == \"def\":\n",
    "        situation = \" (relative)\"\n",
    "    elif stage == \"pre\":\n",
    "        situation = \" (initial)\"\n",
    "    else:\n",
    "        situation = \"\"\n",
    "    if subject == \"target\":\n",
    "        if how == \"good\":\n",
    "            description = \", when Dice > 25%\"\n",
    "        elif how == \"valid\":\n",
    "            description = \", when Dice is valid\"\n",
    "        else:\n",
    "            description = f\", when Dice is {how}\"\n",
    "    else:\n",
    "        description = \"\"\n",
    "    cmap = \"coolwarm_r\" if what == \"error\" or (value == \"std\" and what != \"ratio\") else \"coolwarm\"\n",
    "\n",
    "    _, ax = plt.subplots(figsize=(5, 6))\n",
    "    sns.heatmap(\n",
    "        stats_to_plot,\n",
    "        annot=True, fmt=fmt,\n",
    "        xticklabels=g_labels[(1 if exclude_zero else 0):], yticklabels=l_labels[(1 if exclude_zero else 0):],\n",
    "        cmap=cmap, cbar=False,\n",
    "        ax=ax)\n",
    "    if what == \"dice\":\n",
    "        ax.set_title(f\"{subject.capitalize()} with \\\"{how}\\\" Dice{situation} [{value.upper()}]\")\n",
    "    elif what == \"ratio\":\n",
    "        ax.set_title(f\"Distribution of \\\"{how}\\\" targets [{what.upper()}]\")\n",
    "    else:\n",
    "        ax.set_title(f\"TRE of \\\"{how}\\\" targets{situation} (in mm) [{value.upper()}]\")\n",
    "    ax.set_xlabel(\"Gamma\")\n",
    "    ax.set_ylabel(\"Lambda\")\n",
    "    if show:\n",
    "        plt.show()\n",
    "    else:\n",
    "        plt.savefig(f\"figures/{subject}_{focus}_{topic}{'' if exclude_zero else '_zero'}.pdf\", bbox_inches=\"tight\")\n",
    "\n",
    "# prostate plots\n",
    "save_plot(subject=\"prostate\", stage=\"pre\", how=\"\", what=\"dice\", value=\"mean\", show=False)\n",
    "save_plot(subject=\"prostate\", stage=\"pre\", how=\"\", what=\"dice\", value=\"std\", show=False)\n",
    "\n",
    "save_plot(subject=\"prostate\", stage=\"def\", how=\"valid\", what=\"dice\", value=\"mean\", show=False)\n",
    "save_plot(subject=\"prostate\", stage=\"def\", how=\"valid\", what=\"dice\", value=\"std\", show=False)\n",
    "save_plot(subject=\"prostate\", stage=\"def\", how=\"good\", what=\"dice\", value=\"mean\", show=False)\n",
    "save_plot(subject=\"prostate\", stage=\"def\", how=\"good\", what=\"dice\", value=\"std\", show=False)\n",
    "\n",
    "save_plot(subject=\"prostate\", stage=\"final\", how=\"valid\", what=\"dice\", value=\"mean\", show=False, exclude_zero=False)\n",
    "save_plot(subject=\"prostate\", stage=\"final\", how=\"valid\", what=\"dice\", value=\"std\", show=False, exclude_zero=False)\n",
    "save_plot(subject=\"prostate\", stage=\"final\", how=\"valid\", what=\"dice\", value=\"mean\", show=False)\n",
    "save_plot(subject=\"prostate\", stage=\"final\", how=\"valid\", what=\"dice\", value=\"std\", show=False)\n",
    "\n",
    "# target plots\n",
    "save_plot(subject=\"target\", stage=\"pre\", how=\"\", what=\"dice\", value=\"mean\", show=False)\n",
    "save_plot(subject=\"target\", stage=\"pre\", how=\"\", what=\"dice\", value=\"std\", show=False)\n",
    "save_plot(subject=\"target\", stage=\"pre\", how=\"\", what=\"error\", value=\"mean\", show=False)\n",
    "save_plot(subject=\"target\", stage=\"pre\", how=\"\", what=\"error\", value=\"std\", show=False)\n",
    "\n",
    "save_plot(subject=\"target\", stage=\"def\", how=\"valid\", what=\"dice\", value=\"mean\", show=False)\n",
    "save_plot(subject=\"target\", stage=\"def\", how=\"valid\", what=\"dice\", value=\"std\", show=False)\n",
    "save_plot(subject=\"target\", stage=\"def\", how=\"valid\", what=\"error\", value=\"mean\", show=False)\n",
    "save_plot(subject=\"target\", stage=\"def\", how=\"valid\", what=\"error\", value=\"std\", show=False)\n",
    "\n",
    "save_plot(subject=\"target\", stage=\"def\", how=\"good\", what=\"dice\", value=\"mean\", show=False)\n",
    "save_plot(subject=\"target\", stage=\"def\", how=\"good\", what=\"dice\", value=\"std\", show=False)\n",
    "save_plot(subject=\"target\", stage=\"def\", how=\"good\", what=\"error\", value=\"mean\", show=False)\n",
    "save_plot(subject=\"target\", stage=\"def\", how=\"good\", what=\"error\", value=\"std\", show=False)\n",
    "\n",
    "save_plot(subject=\"target\", stage=\"final\", how=\"valid\", what=\"ratio\", value=\"\", show=False)\n",
    "save_plot(subject=\"target\", stage=\"final\", how=\"valid\", what=\"dice\", value=\"mean\", show=False)\n",
    "save_plot(subject=\"target\", stage=\"final\", how=\"valid\", what=\"dice\", value=\"std\", show=False)\n",
    "save_plot(subject=\"target\", stage=\"final\", how=\"valid\", what=\"error\", value=\"mean\", show=False)\n",
    "save_plot(subject=\"target\", stage=\"final\", how=\"valid\", what=\"error\", value=\"std\", show=False)\n",
    "\n",
    "save_plot(subject=\"target\", stage=\"final\", how=\"good\", what=\"ratio\", value=\"\", show=False)\n",
    "save_plot(subject=\"target\", stage=\"final\", how=\"good\", what=\"dice\", value=\"mean\", show=False)\n",
    "save_plot(subject=\"target\", stage=\"final\", how=\"good\", what=\"dice\", value=\"std\", show=False)\n",
    "save_plot(subject=\"target\", stage=\"final\", how=\"good\", what=\"error\", value=\"mean\", show=False)\n",
    "save_plot(subject=\"target\", stage=\"final\", how=\"good\", what=\"error\", value=\"std\", show=False)"
   ],
   "metadata": {
    "collapsed": false,
    "pycharm": {
     "name": "#%%\n"
    }
   }
  }
 ],
 "metadata": {
  "kernelspec": {
   "display_name": "Python 3",
   "language": "python",
   "name": "python3"
  },
  "language_info": {
   "codemirror_mode": {
    "name": "ipython",
    "version": 2
   },
   "file_extension": ".py",
   "mimetype": "text/x-python",
   "name": "python",
   "nbconvert_exporter": "python",
   "pygments_lexer": "ipython2",
   "version": "2.7.6"
  }
 },
 "nbformat": 4,
 "nbformat_minor": 0
}