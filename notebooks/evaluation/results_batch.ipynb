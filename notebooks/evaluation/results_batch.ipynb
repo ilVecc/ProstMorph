{
 "cells": [
  {
   "cell_type": "markdown",
   "source": [
    "# Batch results\n",
    "\n",
    "Here we load every `.npz` created above and compute some statistics."
   ],
   "metadata": {
    "collapsed": false
   }
  },
  {
   "cell_type": "code",
   "execution_count": 1,
   "outputs": [],
   "source": [
    "from pathlib import Path\n",
    "\n",
    "import numpy as np\n",
    "\n",
    "import matplotlib.pyplot as plt\n",
    "import seaborn as sns"
   ],
   "metadata": {
    "collapsed": false,
    "pycharm": {
     "name": "#%%\n"
    }
   }
  },
  {
   "cell_type": "code",
   "execution_count": 85,
   "metadata": {
    "collapsed": true
   },
   "outputs": [],
   "source": [
    "def get_index(string, shift=1):\n",
    "    if string.startswith('0.0'):\n",
    "        return 0 - shift\n",
    "    if string == '0.5':\n",
    "        return 1 - shift\n",
    "    if string == '1.0':\n",
    "        return 2 - shift\n",
    "    if string == '2.0':\n",
    "        return 3 - shift\n",
    "    if string == '3.0':\n",
    "        return 4 - shift\n",
    "    if string == '4.0':\n",
    "        return 5 - shift\n",
    "    if string == '5.0':\n",
    "        return 6 - shift\n",
    "    return None\n",
    "\n",
    "def init_stats(l_labels, g_labels):\n",
    "    grid_shape = (len(l_labels), len(g_labels))\n",
    "    stats = {\n",
    "        \"prostate\": {\n",
    "            \"final\": {\n",
    "                \"dice\": {\n",
    "                \"mean\": np.full(shape=grid_shape, fill_value=np.nan),\n",
    "                \"std\": np.full(shape=grid_shape, fill_value=np.nan)\n",
    "            }\n",
    "            },\n",
    "            \"pre\": {\n",
    "                \"dice\": {\n",
    "                \"mean\": np.full(shape=grid_shape, fill_value=np.nan),\n",
    "                \"std\": np.full(shape=grid_shape, fill_value=np.nan)\n",
    "            }\n",
    "            },\n",
    "            \"def\": {\n",
    "                \"dice\": {\n",
    "                \"mean\": np.full(shape=grid_shape, fill_value=np.nan),\n",
    "                \"std\": np.full(shape=grid_shape, fill_value=np.nan)\n",
    "            }\n",
    "            },\n",
    "        },\n",
    "        \"target\": {\n",
    "            \"final\": {\n",
    "                \"valid\": {\n",
    "                    \"ratio\": np.full(shape=grid_shape, fill_value=np.nan),\n",
    "                    \"dice\": {\n",
    "                        \"mean\": np.full(shape=grid_shape, fill_value=np.nan),\n",
    "                        \"std\": np.full(shape=grid_shape, fill_value=np.nan)\n",
    "                    },\n",
    "                    \"error\": {\n",
    "                        \"mean\": np.full(shape=grid_shape, fill_value=np.nan),\n",
    "                        \"std\": np.full(shape=grid_shape, fill_value=np.nan)\n",
    "                    }\n",
    "                },\n",
    "                \"good\": {\n",
    "                    \"ratio\": np.full(shape=grid_shape, fill_value=np.nan),\n",
    "                    \"dice\": {\n",
    "                        \"mean\": np.full(shape=grid_shape, fill_value=np.nan),\n",
    "                        \"std\": np.full(shape=grid_shape, fill_value=np.nan)\n",
    "                    },\n",
    "                    \"error\": {\n",
    "                        \"mean\": np.full(shape=grid_shape, fill_value=np.nan),\n",
    "                        \"std\": np.full(shape=grid_shape, fill_value=np.nan)\n",
    "                    }\n",
    "                },\n",
    "                \"decent\": {\n",
    "                    \"ratio\": np.full(shape=grid_shape, fill_value=np.nan),\n",
    "                    \"dice\": {\n",
    "                        \"mean\": np.full(shape=grid_shape, fill_value=np.nan),\n",
    "                        \"std\": np.full(shape=grid_shape, fill_value=np.nan)\n",
    "                    },\n",
    "                    \"error\": {\n",
    "                        \"mean\": np.full(shape=grid_shape, fill_value=np.nan),\n",
    "                        \"std\": np.full(shape=grid_shape, fill_value=np.nan)\n",
    "                    }\n",
    "                },\n",
    "                \"bad\": {\n",
    "                    \"ratio\": np.full(shape=grid_shape, fill_value=np.nan),\n",
    "                    \"dice\": {\n",
    "                        \"mean\": np.full(shape=grid_shape, fill_value=np.nan),\n",
    "                        \"std\": np.full(shape=grid_shape, fill_value=np.nan)\n",
    "                    },\n",
    "                    \"error\": {\n",
    "                        \"mean\": np.full(shape=grid_shape, fill_value=np.nan),\n",
    "                        \"std\": np.full(shape=grid_shape, fill_value=np.nan)\n",
    "                    }\n",
    "                },\n",
    "            },\n",
    "            \"pre\": {\n",
    "                \"dice\": {\n",
    "                    \"mean\": np.full(shape=grid_shape, fill_value=np.nan),\n",
    "                    \"std\": np.full(shape=grid_shape, fill_value=np.nan)\n",
    "                },\n",
    "                \"error\": {\n",
    "                    \"mean\": np.full(shape=grid_shape, fill_value=np.nan),\n",
    "                    \"std\": np.full(shape=grid_shape, fill_value=np.nan)\n",
    "                }\n",
    "            },\n",
    "            \"def\": {\n",
    "                \"dice\": {\n",
    "                    \"mean\": np.full(shape=grid_shape, fill_value=np.nan),\n",
    "                    \"std\": np.full(shape=grid_shape, fill_value=np.nan)\n",
    "                },\n",
    "                \"error\": {\n",
    "                    \"mean\": np.full(shape=grid_shape, fill_value=np.nan),\n",
    "                    \"std\": np.full(shape=grid_shape, fill_value=np.nan)\n",
    "                }\n",
    "            }\n",
    "        }\n",
    "    }\n",
    "    return stats\n",
    "\n",
    "def store_stats(stats, results, l, g, good_dice_threshold=0.25):\n",
    "    # PROSTATE: PRE AND DEF (only Dice)\n",
    "    stats[\"prostate\"][\"def\"][\"dice\"][\"mean\"][l, g] = results['prostate_dice_def'].mean()\n",
    "    stats[\"prostate\"][\"def\"][\"dice\"][\"std\"][l, g] = results['prostate_dice_def'].std()\n",
    "    stats[\"prostate\"][\"pre\"][\"dice\"][\"mean\"][l, g] = results['prostate_dice_pre'].mean()\n",
    "    stats[\"prostate\"][\"pre\"][\"dice\"][\"std\"][l, g] = results['prostate_dice_pre'].std()\n",
    "    # PROSTATE: FINAL (only Dice)\n",
    "    stats[\"prostate\"][\"final\"][\"dice\"][\"mean\"][l, g] = results['prostate_dice'].mean()\n",
    "    stats[\"prostate\"][\"final\"][\"dice\"][\"std\"][l, g] = results['prostate_dice'].std()\n",
    "\n",
    "    # TARGET: PRE AND DEF\n",
    "    stats[\"target\"][\"def\"][\"dice\"][\"mean\"][l, g] = results['target_dice_def'].mean()\n",
    "    stats[\"target\"][\"def\"][\"dice\"][\"std\"][l, g] = results['target_dice_def'].std()\n",
    "    stats[\"target\"][\"def\"][\"error\"][\"mean\"][l, g] = results['target_error_def'].mean()\n",
    "    stats[\"target\"][\"def\"][\"error\"][\"std\"][l, g] = results['target_error_def'].std()\n",
    "    stats[\"target\"][\"pre\"][\"dice\"][\"mean\"][l, g] = results['target_dice_pre'].mean()\n",
    "    stats[\"target\"][\"pre\"][\"dice\"][\"std\"][l, g] = results['target_dice_pre'].std()\n",
    "    stats[\"target\"][\"pre\"][\"error\"][\"mean\"][l, g] = results['target_error_pre'].mean()\n",
    "    stats[\"target\"][\"pre\"][\"error\"][\"std\"][l, g] = results['target_error_pre'].std()\n",
    "    # TARGET: FINAL (valid)\n",
    "    valid_dice_vals = results['target_dice'][np.isfinite(results['target_dice'])]\n",
    "    valid_error_vals = results['target_error'][np.isfinite(results['target_error'])]\n",
    "    stats[\"target\"][\"final\"][\"valid\"][\"ratio\"][l, g] = len(valid_dice_vals) / len(results['target_dice'])\n",
    "    stats[\"target\"][\"final\"][\"valid\"][\"dice\"][\"mean\"][l, g] = valid_dice_vals.mean()\n",
    "    stats[\"target\"][\"final\"][\"valid\"][\"dice\"][\"std\"][l, g] = valid_dice_vals.std()\n",
    "    stats[\"target\"][\"final\"][\"valid\"][\"error\"][\"mean\"][l, g] = valid_error_vals.mean()\n",
    "    stats[\"target\"][\"final\"][\"valid\"][\"error\"][\"std\"][l, g] = valid_error_vals.std()\n",
    "    # TARGET: FINAL (good)\n",
    "    good_dice_vals = results['target_dice'][results['target_dice'] > good_dice_threshold]\n",
    "    good_error_vals = results['target_error'][results['target_dice'] > good_dice_threshold]\n",
    "    stats[\"target\"][\"final\"][\"good\"][\"ratio\"][l, g] = len(good_dice_vals) / len(results['target_dice'])\n",
    "    stats[\"target\"][\"final\"][\"good\"][\"dice\"][\"mean\"][l, g] = good_dice_vals.mean()\n",
    "    stats[\"target\"][\"final\"][\"good\"][\"dice\"][\"std\"][l, g] = good_dice_vals.std()\n",
    "    stats[\"target\"][\"final\"][\"good\"][\"error\"][\"mean\"][l, g] = good_error_vals.mean()\n",
    "    stats[\"target\"][\"final\"][\"good\"][\"error\"][\"std\"][l, g] = good_error_vals.std()\n",
    "    # TARGET: FINAL (decent)\n",
    "    decent_dice_vals = results['target_dice'][results['target_dice'] > 0]\n",
    "    decent_error_vals = results['target_error'][results['target_dice'] > 0]\n",
    "    stats[\"target\"][\"final\"][\"decent\"][\"ratio\"][l, g] = len(decent_dice_vals) / len(results['target_dice'])\n",
    "    stats[\"target\"][\"final\"][\"decent\"][\"dice\"][\"mean\"][l, g] = decent_dice_vals.mean()\n",
    "    stats[\"target\"][\"final\"][\"decent\"][\"dice\"][\"std\"][l, g] = decent_dice_vals.std()\n",
    "    stats[\"target\"][\"final\"][\"decent\"][\"error\"][\"mean\"][l, g] = decent_error_vals.mean()\n",
    "    stats[\"target\"][\"final\"][\"decent\"][\"error\"][\"std\"][l, g] = decent_error_vals.std()\n",
    "    # TARGET: FINAL (bad)\n",
    "    bad_dice_vals = results['target_dice'][results['target_dice'] == 0]\n",
    "    bad_error_vals = results['target_error'][results['target_dice'] == 0]\n",
    "    stats[\"target\"][\"final\"][\"bad\"][\"ratio\"][l, g] = len(bad_dice_vals) / len(results['target_dice'])\n",
    "    stats[\"target\"][\"final\"][\"bad\"][\"dice\"][\"mean\"][l, g] = bad_dice_vals.mean()\n",
    "    stats[\"target\"][\"final\"][\"bad\"][\"dice\"][\"std\"][l, g] = bad_dice_vals.std()\n",
    "    stats[\"target\"][\"final\"][\"bad\"][\"error\"][\"mean\"][l, g] = bad_error_vals.mean()\n",
    "    stats[\"target\"][\"final\"][\"bad\"][\"error\"][\"std\"][l, g] = bad_error_vals.std()\n",
    "\n",
    "    return stats"
   ]
  },
  {
   "cell_type": "code",
   "execution_count": 86,
   "outputs": [
    {
     "name": "stderr",
     "output_type": "stream",
     "text": [
      "C:\\Users\\ML\\AppData\\Local\\Programs\\Python\\Python37\\lib\\site-packages\\ipykernel_launcher.py:143: RuntimeWarning: Mean of empty slice.\n",
      "C:\\Users\\ML\\AppData\\Local\\Programs\\Python\\Python37\\lib\\site-packages\\ipykernel_launcher.py:145: RuntimeWarning: Mean of empty slice.\n",
      "C:\\Users\\ML\\AppData\\Local\\Programs\\Python\\Python37\\lib\\site-packages\\ipykernel_launcher.py:151: RuntimeWarning: Mean of empty slice.\n",
      "C:\\Users\\ML\\AppData\\Local\\Programs\\Python\\Python37\\lib\\site-packages\\ipykernel_launcher.py:153: RuntimeWarning: Mean of empty slice.\n"
     ]
    }
   ],
   "source": [
    "path_results = Path(r\"../../results\")\n",
    "l_labels = ('0.5', '1', '2', '3', '4', '5')\n",
    "g_labels = ('0.5', '1', '2', '3')\n",
    "stats = init_stats(l_labels, g_labels)\n",
    "for r in path_results.rglob(\"results*\"):\n",
    "    _, l, g = r.stem.split(\"_\")\n",
    "    l, g = get_index(l), get_index(g)\n",
    "    results = np.load(r, allow_pickle=True)['arr_0'].tolist()\n",
    "\n",
    "    stats = store_stats(stats, results, l, g)"
   ],
   "metadata": {
    "collapsed": false,
    "pycharm": {
     "name": "#%%\n"
    }
   }
  },
  {
   "cell_type": "markdown",
   "source": [
    "Some plots"
   ],
   "metadata": {
    "collapsed": false
   }
  },
  {
   "cell_type": "code",
   "execution_count": null,
   "outputs": [],
   "source": [
    "def plot_target_mean_stats(target_set):\n",
    "    _, ax = plt.subplots(1, 3, figsize=(20, 5), sharey='all')\n",
    "\n",
    "    sns.heatmap(target_set[\"ratio\"], annot=True, fmt='.2%', xticklabels=g_labels, yticklabels=l_labels, cmap=\"coolwarm\", ax=ax[0])\n",
    "    ax[0].set_title(\"% of decent Dice (Dice > 0)\"), ax[0].set_xlabel(\"Gamma\"), ax[0].set_ylabel(\"Lambda\")\n",
    "\n",
    "    sns.heatmap(target_set[\"dice\"][\"mean\"], annot=True, fmt='.2%', xticklabels=g_labels, yticklabels=l_labels, cmap=\"coolwarm\", ax=ax[1])\n",
    "    ax[1].set_title(\"Target Dice coefficients\"), ax[1].set_xlabel(\"Gamma\"), ax[1].set_ylabel(\"Lambda\")\n",
    "    #for t in hm.texts: t.set_text(f\"{t.get_text()}±{valid_dice_std[[int(p) for p in t.get_position()]]}\")\n",
    "\n",
    "    sns.heatmap(target_set[\"error\"][\"mean\"], annot=True, fmt='.2f', xticklabels=g_labels, yticklabels=l_labels, cmap=\"coolwarm\", ax=ax[2])\n",
    "    ax[2].set_title(\"Target Registration Error (TRE) [mm]\"), ax[2].set_xlabel(\"Gamma\"), ax[2].set_ylabel(\"Lambda\")\n",
    "\n",
    "    plt.subplots_adjust(wspace=0.2, hspace=0.2)\n",
    "    plt.show()\n",
    "\n",
    "plot_target_mean_stats(stats[\"target\"][\"final\"][\"valid\"])"
   ],
   "metadata": {
    "collapsed": false,
    "pycharm": {
     "name": "#%%\n"
    }
   }
  },
  {
   "cell_type": "code",
   "execution_count": null,
   "outputs": [],
   "source": [
    "_, ax = plt.subplots(2, 3, figsize=(20, 10), sharey='all')\n",
    "\n",
    "axx = ax[0, 0]\n",
    "sns.heatmap(stats[\"target\"][\"pre\"][\"dice\"][\"mean\"], annot=True, fmt='.2%', xticklabels=g_labels, yticklabels=l_labels, cmap=\"coolwarm\", ax=axx)\n",
    "axx.set_title(\"Target Dice PRE [MEAN]\"), axx.set_xlabel(\"Gamma\"), axx.set_ylabel(\"Lambda\")\n",
    "\n",
    "axx = ax[1, 0]\n",
    "sns.heatmap(stats[\"target\"][\"pre\"][\"dice\"][\"std\"], annot=True, fmt='.2f', xticklabels=g_labels, yticklabels=l_labels, cmap=\"coolwarm\", ax=axx)\n",
    "axx.set_title(\"Target Dice PRE [STD]\"), axx.set_xlabel(\"Gamma\"), axx.set_ylabel(\"Lambda\")\n",
    "\n",
    "axx = ax[0, 1]\n",
    "sns.heatmap(stats[\"target\"][\"final\"][\"dice\"][\"mean\"], annot=True, fmt='.2%', xticklabels=g_labels, yticklabels=l_labels, cmap=\"coolwarm\", ax=axx)\n",
    "axx.set_title(\"Target Dice PRE\"), axx.set_xlabel(\"Gamma\"), axx.set_ylabel(\"Lambda\")\n",
    "\n",
    "axx = ax[1, 1]\n",
    "sns.heatmap(stats[\"target\"][\"final\"][\"valid\"][\"error\"][\"mean\"], annot=True, fmt='.2f', xticklabels=g_labels, yticklabels=l_labels, cmap=\"coolwarm\", ax=axx)\n",
    "axx.set_title(\"TRE PRE\"), axx.set_xlabel(\"Gamma\"), axx.set_ylabel(\"Lambda\")\n",
    "\n",
    "axx = ax[0, 2]\n",
    "sns.heatmap(stats[\"prostate\"][\"final\"][\"dice\"][\"std\"], annot=True, fmt='.2%', xticklabels=g_labels, yticklabels=l_labels, cmap=\"coolwarm\", ax=axx)\n",
    "axx.set_title(\"Target Dice PRE STD\"), axx.set_xlabel(\"Gamma\"), axx.set_ylabel(\"Lambda\")\n",
    "\n",
    "axx = ax[1, 2]\n",
    "sns.heatmap(stats[\"target\"][\"final\"][\"valid\"][\"error\"][\"std\"], annot=True, fmt='.2f', xticklabels=g_labels, yticklabels=l_labels, cmap=\"coolwarm\", ax=axx)\n",
    "axx.set_title(\"TRE PRE STD\"), axx.set_xlabel(\"Gamma\"), axx.set_ylabel(\"Lambda\")\n",
    "\n",
    "plt.subplots_adjust(wspace=0.25, hspace=0.30)\n",
    "plt.show()"
   ],
   "metadata": {
    "collapsed": false,
    "pycharm": {
     "name": "#%%\n"
    }
   }
  },
  {
   "cell_type": "code",
   "execution_count": null,
   "outputs": [],
   "source": [
    "_, ax = plt.subplots(2, 3, figsize=(20, 12), sharey='all')\n",
    "\n",
    "sns.heatmap(stats[\"prostate\"][\"final\"][\"dice\"][\"mean\"], annot=True, fmt='.2%', xticklabels=g_labels, yticklabels=l_labels, cmap=\"coolwarm\", ax=ax[0, 0])\n",
    "ax[0, 0].set_title(\"Prostate Dice coefficients MEAN\"), ax[0, 0].set_xlabel(\"Gamma\"), ax[0, 0].set_ylabel(\"Lambda\")\n",
    "\n",
    "sns.heatmap(stats[\"prostate\"][\"final\"][\"dice\"][\"std\"], annot=True, fmt='.2%', xticklabels=g_labels, yticklabels=l_labels, cmap=\"coolwarm\", ax=ax[1, 0])\n",
    "ax[1, 0].set_title(\"Prostate Dice coefficients STD\"), ax[1, 0].set_xlabel(\"Gamma\"), ax[1, 0].set_ylabel(\"Lambda\")\n",
    "\n",
    "sns.heatmap(stats[\"target\"][\"final\"][\"valid\"][\"dice\"][\"mean\"], annot=True, fmt='.2%', xticklabels=g_labels, yticklabels=l_labels, cmap=\"coolwarm\", ax=ax[0, 1])\n",
    "ax[0, 1].set_title(\"Target Dice coefficients MEAN\"), ax[0, 1].set_xlabel(\"Gamma\"), ax[0, 1].set_ylabel(\"Lambda\")\n",
    "\n",
    "sns.heatmap(stats[\"target\"][\"final\"][\"valid\"][\"dice\"][\"std\"], annot=True, fmt='.2%', xticklabels=g_labels, yticklabels=l_labels, cmap=\"coolwarm\", ax=ax[1, 1])\n",
    "ax[1, 1].set_title(\"Target Dice coefficients STD\"), ax[1, 1].set_xlabel(\"Gamma\"), ax[1, 1].set_ylabel(\"Lambda\")\n",
    "\n",
    "sns.heatmap(stats[\"target\"][\"final\"][\"valid\"][\"error\"][\"mean\"], annot=True, fmt='.2f', xticklabels=g_labels, yticklabels=l_labels, cmap=\"coolwarm\", ax=ax[0, 2])\n",
    "ax[0, 2].set_title(\"Target Registration Error (TRE) MEAN [mm]\"), ax[0, 2].set_xlabel(\"Gamma\"), ax[0, 2].set_ylabel(\"Lambda\")\n",
    "\n",
    "sns.heatmap(stats[\"target\"][\"final\"][\"valid\"][\"error\"][\"std\"], annot=True, fmt='.2f', xticklabels=g_labels, yticklabels=l_labels, cmap=\"coolwarm\", ax=ax[1, 2])\n",
    "ax[1, 2].set_title(\"Target Registration Error (TRE) STD [mm]\"), ax[1, 2].set_xlabel(\"Gamma\"), ax[1, 2].set_ylabel(\"Lambda\")\n",
    "\n",
    "plt.subplots_adjust(wspace=0.2, hspace=0.2)\n",
    "plt.show()"
   ],
   "metadata": {
    "collapsed": false,
    "pycharm": {
     "name": "#%%\n"
    }
   }
  },
  {
   "cell_type": "markdown",
   "source": [
    "Save figures one by one"
   ],
   "metadata": {
    "collapsed": false
   }
  },
  {
   "cell_type": "code",
   "execution_count": 87,
   "outputs": [
    {
     "data": {
      "text/plain": "<Figure size 432x432 with 1 Axes>",
      "image/png": "[encoded data removed]"
     },
     "metadata": {
      "needs_background": "light"
     },
     "output_type": "display_data"
    }
   ],
   "source": [
    "_, ax = plt.subplots(figsize=(6, 6))\n",
    "metric = \"mean\"\n",
    "dice = True\n",
    "what, how = (\"dice\", \".2%\") if dice else (\"error\", \".2f\")\n",
    "sns.heatmap(\n",
    "    stats[\"target\"][\"final\"][\"good\"][what][metric],\n",
    "    annot=True, fmt=how,\n",
    "    xticklabels=g_labels, yticklabels=l_labels,\n",
    "    cmap=\"coolwarm\", cbar=False,\n",
    "    ax=ax)\n",
    "ax.set_title(f\"TRE (in mm, with Dice > 0.25) [{metric.upper()}]\")\n",
    "ax.set_xlabel(\"Gamma\")\n",
    "ax.set_ylabel(\"Lambda\")\n",
    "plt.show()\n",
    "#plt.savefig(f\"figures/targets_final_good_{what}_{metric}.pdf\", bbox_inches=\"tight\")"
   ],
   "metadata": {
    "collapsed": false,
    "pycharm": {
     "name": "#%%\n"
    }
   }
  },
  {
   "cell_type": "code",
   "execution_count": 75,
   "outputs": [
    {
     "data": {
      "text/plain": "<Figure size 432x432 with 2 Axes>",
      "image/png": "[encoded data removed]"
     },
     "metadata": {
      "needs_background": "light"
     },
     "output_type": "display_data"
    }
   ],
   "source": [
    "_, ax = plt.subplots(figsize=(6, 6))\n",
    "metric = \"mean\"\n",
    "what = \"error\"\n",
    "sns.heatmap(stats[\"target\"][\"final\"][\"good\"][what][metric], annot=True, fmt='.2f', xticklabels=g_labels, yticklabels=l_labels, cmap=\"coolwarm\", ax=ax)\n",
    "ax.set_title(f\"TRE (in mm, with Dice > 0.25) [{metric.upper()}]\")\n",
    "ax.set_xlabel(\"Gamma\")\n",
    "ax.set_ylabel(\"Lambda\")\n",
    "#plt.show()\n",
    "plt.savefig(f\"figures/targets_final_good_{what}_{metric}.pdf\", bbox_inches=\"tight\")\n",
    "\n",
    "# _, ax = plt.subplots(figsize=(6, 6))\n",
    "# metric = \"ratio\"\n",
    "# sns.heatmap(stats[\"target\"][\"final\"][\"valid\"][metric], annot=True, fmt='.2%', xticklabels=g_labels, yticklabels=l_labels, cmap=\"coolwarm\", ax=ax)\n",
    "# ax.set_title(f\"Total cases [{metric.upper()}]\")\n",
    "# ax.set_xlabel(\"Gamma\")\n",
    "# ax.set_ylabel(\"Lambda\")\n",
    "# #plt.show()\n",
    "# plt.savefig(f\"figures/targets_final_valid_{metric}.pdf\", bbox_inches=\"tight\")"
   ],
   "metadata": {
    "collapsed": false,
    "pycharm": {
     "name": "#%%\n"
    }
   }
  }
 ],
 "metadata": {
  "kernelspec": {
   "display_name": "Python 3",
   "language": "python",
   "name": "python3"
  },
  "language_info": {
   "codemirror_mode": {
    "name": "ipython",
    "version": 2
   },
   "file_extension": ".py",
   "mimetype": "text/x-python",
   "name": "python",
   "nbconvert_exporter": "python",
   "pygments_lexer": "ipython2",
   "version": "2.7.6"
  }
 },
 "nbformat": 4,
 "nbformat_minor": 0
}