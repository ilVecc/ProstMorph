{
 "cells": [
  {
   "cell_type": "code",
   "execution_count": 1,
   "outputs": [],
   "source": [
    "import numpy as np\n",
    "\n",
    "from notebooks.utils import init_stats, store_stats, print_stats"
   ],
   "metadata": {
    "collapsed": false,
    "pycharm": {
     "name": "#%%\n"
    }
   }
  },
  {
   "cell_type": "code",
   "execution_count": 4,
   "metadata": {
    "collapsed": true
   },
   "outputs": [],
   "source": [
    "results = np.load(f\"../../results/results_4.0_2.0_final.npz\", allow_pickle=True)['arr_0'].tolist()"
   ]
  },
  {
   "cell_type": "code",
   "execution_count": 5,
   "outputs": [
    {
     "name": "stdout",
     "output_type": "stream",
     "text": [
      "prostate Dice PRE:   75.17±7.56%\n",
      "prostate Dice INTRA: 82.33±5.18%\n",
      "prostate Dice POST:  88.34±4.67%\n",
      "\n",
      "\n",
      "target Dice PRE:   6.71±12.74%\n",
      "TRE PRE:           12.80±6.45mm\n",
      "\n",
      "# valid target Dice: 100.00%\n",
      "target Dice INTRA:      31.10±25.25%\n",
      "TRE INTRA:              3.34±1.60mm\n",
      "valid Dice:          8.57±14.97%\n",
      "valid TRE:           12.82±6.86mm\n",
      "\n",
      "# good target Dice: 16.39%\n",
      "target Dice INTRA:      48.53±22.70%\n",
      "TRE INTRA:              3.28±1.43mm\n",
      "good Dice:          38.65±10.67%\n",
      "good TRE:           6.75±2.84mm\n",
      "\n",
      "# decent target Dice: 100.00%\n",
      "target Dice INTRA:      31.10±25.25%\n",
      "TRE INTRA:              3.34±1.60mm\n",
      "decent Dice:          8.57±14.97%\n",
      "decent TRE:           12.82±6.86mm\n",
      "\n",
      "# bad target Dice: 0.00%\n",
      "target Dice INTRA:      nan±nan%\n",
      "TRE INTRA:              nan±nanmm\n",
      "bad Dice:          nan±nan%\n",
      "bad TRE:           nan±nanmm\n",
      "\n"
     ]
    }
   ],
   "source": [
    "stats = init_stats(1, 1)\n",
    "stats = store_stats(stats, results, 0, 0)\n",
    "print_stats(stats, 0, 0)"
   ],
   "metadata": {
    "collapsed": false,
    "pycharm": {
     "name": "#%%\n"
    }
   }
  }
 ],
 "metadata": {
  "kernelspec": {
   "display_name": "Python 3",
   "language": "python",
   "name": "python3"
  },
  "language_info": {
   "codemirror_mode": {
    "name": "ipython",
    "version": 2
   },
   "file_extension": ".py",
   "mimetype": "text/x-python",
   "name": "python",
   "nbconvert_exporter": "python",
   "pygments_lexer": "ipython2",
   "version": "2.7.6"
  }
 },
 "nbformat": 4,
 "nbformat_minor": 0
}