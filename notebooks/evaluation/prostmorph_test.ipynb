{
 "cells": [
  {
   "cell_type": "markdown",
   "metadata": {},
   "source": [
    "# Collect results\n",
    "Here we perform MRI/US fusion using the trained VoxelMorph models and collect the results"
   ]
  },
  {
   "cell_type": "code",
   "execution_count": 1,
   "metadata": {
    "collapsed": true
   },
   "outputs": [],
   "source": [
    "from pathlib import Path\n",
    "\n",
    "import numpy as np\n",
    "import tensorflow as tf\n",
    "\n",
    "from notebooks.utils import SmartDataGenerator, split_dataset, dice_coeff, prepare_model"
   ]
  },
  {
   "cell_type": "markdown",
   "metadata": {
    "pycharm": {
     "name": "#%% md\n"
    }
   },
   "source": [
    "Prepare dataset generators using a specific seed for repeatability"
   ]
  },
  {
   "cell_type": "code",
   "execution_count": 2,
   "metadata": {
    "pycharm": {
     "name": "#%%\n"
    }
   },
   "outputs": [],
   "source": [
    "seed = 24052022\n",
    "base_folder = Path(r\"C:\\Users\\ML\\Desktop\\seba_preprocessed_fusion\\numpy_160\")\n",
    "train_data, validation_data, test_data = split_dataset(base_folder, train_test_split=0.95, train_val_split=0.90, seed=seed)\n",
    "\n",
    "size = (160, 160, 160)\n",
    "train_generator = SmartDataGenerator(train_data, dim=size, batch_size=1, seed=seed)\n",
    "validation_generator = SmartDataGenerator(validation_data, dim=size, batch_size=1, seed=seed)\n",
    "test_generator = SmartDataGenerator(test_data, dim=size, batch_size=1, seed=seed)"
   ]
  },
  {
   "cell_type": "markdown",
   "source": [
    "Prepare storing function"
   ],
   "metadata": {
    "collapsed": false
   }
  },
  {
   "cell_type": "code",
   "execution_count": 3,
   "outputs": [],
   "source": [
    "from tqdm.notebook import tqdm\n",
    "from skimage import measure\n",
    "\n",
    "def create_and_store_results(generator, lambda_param, gamma_param, filename):\n",
    "    results = {\n",
    "        \"prostate_dice\": [], \"target_dice\": [], \"target_error\": [],\n",
    "        \"prostate_dice_def\": [], \"target_dice_def\": [], \"target_error_def\": [],\n",
    "        \"prostate_dice_pre\": [], \"target_dice_pre\": [], \"target_error_pre\": []\n",
    "    }\n",
    "    for idx in tqdm(range(len(generator))):\n",
    "        test_input, test_output, mr_targets, us_targets, _ = generator(idx)\n",
    "\n",
    "        test_pred = model.predict(test_input)\n",
    "        prostate_dice_val = dice_coeff(test_pred[2], test_output[2])\n",
    "        results[\"prostate_dice\"].append(prostate_dice_val)\n",
    "        prostate_dice_def_val = dice_coeff(test_pred[2], test_input[2])\n",
    "        results[\"prostate_dice_def\"].append(prostate_dice_def_val)\n",
    "        prostate_dice_def_val = dice_coeff(test_input[2], test_output[2])\n",
    "        results[\"prostate_dice_pre\"].append(prostate_dice_def_val)\n",
    "\n",
    "        mr_targets = mr_targets[0]\n",
    "        us_targets = us_targets[0]\n",
    "        if mr_targets is None or us_targets is None:\n",
    "            print(\"no matching targets here\")\n",
    "            continue\n",
    "\n",
    "        for select_target in range(min(mr_targets.shape[-1], us_targets.shape[-1])):\n",
    "            test_input_target = mr_targets[np.newaxis, ..., [select_target]]\n",
    "            test_output_target = us_targets[np.newaxis, ..., [select_target]]\n",
    "            test_pred_target = model.apply_transform(test_input[0], test_input[1], test_input_target)\n",
    "\n",
    "            # in \"error\" we use /2 because images have an isotropic spacing of 0.5 mm, meaning that the distance is double its size\n",
    "\n",
    "            # Dice between target in MR_def and US\n",
    "            target_dice_val = dice_coeff(test_pred_target, test_output_target)\n",
    "            target_error_val = np.linalg.norm((measure.centroid(test_pred_target) - measure.centroid(test_output_target)) / 2)\n",
    "            results[\"target_dice\"].append(target_dice_val)\n",
    "            results[\"target_error\"].append(target_error_val)\n",
    "\n",
    "            # Dice between target in MR and MR_def\n",
    "            target_dice_val = dice_coeff(test_pred_target, test_input_target)\n",
    "            target_error_val = np.linalg.norm((measure.centroid(test_pred_target) - measure.centroid(test_input_target)) / 2)\n",
    "            results[\"target_dice_def\"].append(target_dice_val)\n",
    "            results[\"target_error_def\"].append(target_error_val)\n",
    "\n",
    "            # Dice between target in MR and US\n",
    "            target_dice_val = dice_coeff(test_input_target, test_output_target)\n",
    "            target_error_val = np.linalg.norm((measure.centroid(test_input_target) - measure.centroid(test_output_target)) / 2)\n",
    "            results[\"target_dice_pre\"].append(target_dice_val)\n",
    "            results[\"target_error_pre\"].append(target_error_val)\n",
    "\n",
    "    # convert everything to ndarray\n",
    "    for k in results.keys():\n",
    "        results[k] = np.array(results[k])\n",
    "\n",
    "    # store results\n",
    "    try:\n",
    "        np.savez_compressed(filename, results)\n",
    "    except Exception:\n",
    "        print(\"Error saving the results!\")\n",
    "\n",
    "    return results"
   ],
   "metadata": {
    "collapsed": false,
    "pycharm": {
     "name": "#%%\n"
    }
   }
  },
  {
   "cell_type": "markdown",
   "source": [
    "### Run the evaluation"
   ],
   "metadata": {
    "collapsed": false
   }
  },
  {
   "cell_type": "markdown",
   "source": [
    "Run for a single model"
   ],
   "metadata": {
    "collapsed": false
   }
  },
  {
   "cell_type": "code",
   "execution_count": 4,
   "outputs": [
    {
     "name": "stdout",
     "output_type": "stream",
     "text": [
      "WARNING:tensorflow:From C:\\Users\\ML\\AppData\\Roaming\\Python\\Python37\\site-packages\\tensorflow\\python\\util\\deprecation.py:602: calling map_fn_v2 (from tensorflow.python.ops.map_fn) with dtype is deprecated and will be removed in a future version.\n",
      "Instructions for updating:\n",
      "Use fn_output_signature instead\n",
      "WARNING:tensorflow:From C:\\Users\\ML\\AppData\\Roaming\\Python\\Python37\\site-packages\\tensorflow\\python\\ops\\array_ops.py:5049: calling gather (from tensorflow.python.ops.array_ops) with validate_indices is deprecated and will be removed in a future version.\n",
      "Instructions for updating:\n",
      "The `validate_indices` argument has no effect. Indices are always validated on CPU and never validated on GPU.\n"
     ]
    },
    {
     "name": "stderr",
     "output_type": "stream",
     "text": [
      "vxm info: mutual information loss is experimental\n"
     ]
    },
    {
     "data": {
      "text/plain": "  0%|          | 0/96 [00:00<?, ?it/s]",
      "application/vnd.jupyter.widget-view+json": {
       "version_major": 2,
       "version_minor": 0,
       "model_id": "eccb8cff01a44ca5971a2e483fe578b1"
      }
     },
     "metadata": {},
     "output_type": "display_data"
    },
    {
     "name": "stdout",
     "output_type": "stream",
     "text": [
      "WARNING:tensorflow:5 out of the last 8 calls to <function Model.make_predict_function.<locals>.predict_function at 0x000001F1605EDC80> triggered tf.function retracing. Tracing is expensive and the excessive number of tracings could be due to (1) creating @tf.function repeatedly in a loop, (2) passing tensors with different shapes, (3) passing Python objects instead of tensors. For (1), please define your @tf.function outside of the loop. For (2), @tf.function has experimental_relax_shapes=True option that relaxes argument shapes that can avoid unnecessary retracing. For (3), please refer to https://www.tensorflow.org/guide/function#controlling_retracing and https://www.tensorflow.org/api_docs/python/tf/function for  more details.\n",
      "WARNING:tensorflow:6 out of the last 10 calls to <function Model.make_predict_function.<locals>.predict_function at 0x000001F1602A7268> triggered tf.function retracing. Tracing is expensive and the excessive number of tracings could be due to (1) creating @tf.function repeatedly in a loop, (2) passing tensors with different shapes, (3) passing Python objects instead of tensors. For (1), please define your @tf.function outside of the loop. For (2), @tf.function has experimental_relax_shapes=True option that relaxes argument shapes that can avoid unnecessary retracing. For (3), please refer to https://www.tensorflow.org/guide/function#controlling_retracing and https://www.tensorflow.org/api_docs/python/tf/function for  more details.\n",
      "no matching targets here\n",
      "no matching targets here\n"
     ]
    },
    {
     "data": {
      "text/plain": "{'prostate_dice': array([0.95043558, 0.81383328, 0.92690575, 0.89836771, 0.87407889,\n        0.92319927, 0.88558975, 0.90540733, 0.91612257, 0.87556305,\n        0.92126262, 0.93972352, 0.84184797, 0.93093002, 0.91912583,\n        0.89987068, 0.86924767, 0.79142318, 0.94662519, 0.74386867,\n        0.91998187, 0.9142625 , 0.89424606, 0.90047016, 0.89529886,\n        0.92896424, 0.92450627, 0.90929773, 0.91130667, 0.90403202,\n        0.90540357, 0.9304895 , 0.92453703, 0.90732339, 0.89687125,\n        0.89766735, 0.8655866 , 0.92617319, 0.9224903 , 0.88813487,\n        0.91123874, 0.94425582, 0.89991589, 0.90619131, 0.9489479 ,\n        0.90951309, 0.91179858, 0.9413974 , 0.91943492, 0.91908873,\n        0.93462474, 0.90936101, 0.91601628, 0.91183731, 0.93274653,\n        0.93585275, 0.91683826, 0.9006607 , 0.91858489, 0.93633496,\n        0.91826337, 0.92916539, 0.91637754, 0.89613632, 0.89174712,\n        0.90324887, 0.87817606, 0.84229602, 0.90429745, 0.87782617,\n        0.93020559, 0.89228826, 0.92268699, 0.93472112, 0.92720794,\n        0.87812387, 0.93713179, 0.89833625, 0.94210804, 0.91698244,\n        0.89398594, 0.91623333, 0.7119463 , 0.94555002, 0.91127267,\n        0.91816005, 0.88834946, 0.91990128, 0.93835253, 0.91700195,\n        0.91790417, 0.85168658, 0.77006956, 0.89191872, 0.9296528 ,\n        0.90673052]),\n 'target_dice': array([4.18313920e-01, 1.03902719e-03, 2.95594755e-05, 2.76727411e-04,\n        1.03721683e-02, 1.69789544e-03, 6.83351955e-04, 2.81474884e-04,\n        7.45706470e-04, 3.32138844e-04, 5.84554420e-04, 3.99825782e-01,\n        2.35275117e-01, 1.21935355e-01, 1.40075598e-04, 1.51151846e-03,\n        1.90924727e-04, 4.74447660e-01, 1.10380164e-01, 7.90964650e-05,\n        6.81406506e-02, 1.90625933e-04, 3.60855154e-04, 3.97784812e-01,\n        2.04320238e-01, 2.57768339e-04, 1.53831576e-04, 5.73260999e-04,\n        2.68537029e-03, 2.46123741e-01, 4.74432345e-02, 2.65624505e-01,\n        3.11396835e-04, 6.28915186e-04, 3.56929799e-04, 1.66911393e-01,\n        4.17846798e-01, 1.38697682e-03, 1.37204079e-02, 4.32489450e-04,\n        1.68227708e-04, 9.68001020e-04, 2.89053890e-04, 3.45158582e-04,\n        1.51138645e-01, 8.40846897e-05, 3.42963510e-04, 1.59122763e-01,\n        7.89923690e-04, 5.23838877e-04, 4.76811567e-01, 1.77919229e-03,\n        8.57422937e-05, 1.60680870e-01, 1.33835154e-04, 1.97241326e-02,\n        7.26366220e-04, 4.10759610e-04, 4.01307359e-01, 1.21103946e-03,\n        1.49725315e-01, 1.27065419e-03, 4.43545148e-03, 1.68083133e-03,\n        1.76416574e-03, 1.54950531e-03, 2.34479420e-04, 1.01388633e-04,\n        1.51526277e-02, 1.98061550e-04, 5.11460220e-03, 1.00681289e-03,\n        2.80983688e-01, 2.08250795e-01, 6.12326090e-04, 4.78688221e-04,\n        1.15358120e-03, 4.43404023e-05, 1.39868634e-01, 3.66416460e-02,\n        7.01074547e-04, 1.27324797e-04, 3.94193992e-04, 4.20592846e-01,\n        2.65546203e-04, 5.82500829e-01, 2.35918626e-03, 4.13075104e-02,\n        3.40722220e-04, 2.76620204e-04, 6.63336855e-01, 1.01955355e-02,\n        1.45392000e-04, 1.60871377e-01, 1.49692556e-04, 2.32593673e-04,\n        2.90768807e-04, 5.31217466e-01, 4.97167359e-01, 1.76367920e-01,\n        3.27951741e-04, 3.90442304e-04, 2.01738880e-02, 1.19255410e-01,\n        3.22167964e-04, 4.98337706e-04, 4.81915267e-02, 3.22461040e-01,\n        5.91927081e-04, 1.72043134e-04, 1.01401495e-03, 3.93594127e-04,\n        1.89398690e-04, 4.78101165e-02, 1.37036875e-02, 1.09794565e-04,\n        4.47989472e-04, 2.72464004e-04, 1.62288501e-01, 4.75095520e-01,\n        1.30712130e-01, 4.23004711e-03]),\n 'target_error': array([ 2.84232391, 15.13342112, 22.13750462, 17.0296037 ,  9.44414407,\n        17.24675662, 20.60542703, 17.20558551,  9.02894043, 10.67907479,\n        17.49323835,  9.4558725 ,  5.97403194,  6.20316235, 13.86719413,\n         7.81047826, 20.18399697,  9.43544384, 10.85575096, 23.26048342,\n         6.37309881, 23.81473485, 16.60686801,  6.02285155,  5.54882511,\n        12.52160117, 19.03780696, 15.33906241,  7.68610025,  7.40901158,\n         9.0693859 ,  4.37191007, 48.60537025, 30.9347409 , 18.43225077,\n         6.53747009,  5.82131239, 10.18005254,  8.29134358, 20.82920457,\n         9.54641683, 12.99345917, 10.33032604, 11.10643479, 17.80774924,\n        19.46342128,  9.15672127,  6.49344384, 12.31405753, 18.30170492,\n         3.4967089 , 12.35492887, 18.19260565,  2.1962091 , 12.02136532,\n        11.04252678, 11.77956861,  6.51691956, 10.29771136, 13.87015516,\n         9.82325416,  9.06320478,  5.52542697, 12.49703155, 12.81400955,\n        16.57050499, 18.44397076, 12.99081811,  9.03320053, 10.95931357,\n        15.2192934 , 10.93682816,  7.3191016 , 15.20919416, 13.70996376,\n        15.25823908, 10.00349718, 22.5264493 ,  6.78335529,  6.15404498,\n         8.65603661, 13.32013067, 33.46818869,  6.26629995, 23.68657159,\n         7.97017883, 12.81159162, 15.06309543, 14.10947455, 11.78998862,\n         6.73313141, 11.38195689, 10.16390317, 13.0233133 , 17.47174032,\n        15.22436247,  8.24752337,  6.23636756,  5.18883684,  9.19032597,\n        23.97687208, 31.15917151, 10.35720784,  5.21954136,  8.34108665,\n        18.03650227, 18.05765524, 12.78563968, 12.99149853,  8.67044236,\n         7.68085513,  9.16264489, 14.28178967, 10.71500994, 11.61689795,\n        28.31999863, 29.01088077, 25.12272939,  7.68170609,  3.41827518,\n         8.7473428 , 15.20962706]),\n 'prostate_dice_def': array([0.78317523, 0.73772844, 0.91275086, 0.85113695, 0.84078698,\n        0.88494728, 0.79883622, 0.87318357, 0.85818651, 0.72744982,\n        0.74111586, 0.83629172, 0.96549446, 0.79369093, 0.75441808,\n        0.77457698, 0.92007864, 0.74358979, 0.79515114, 0.85998606,\n        0.81255297, 0.71272375, 0.93220365, 0.81453516, 0.82930868,\n        0.76117403, 0.75510565, 0.88809505, 0.80246801, 0.91780144,\n        0.85845605, 0.85310775, 0.8251272 , 0.83074382, 0.75184054,\n        0.77748652, 0.77888878, 0.8581263 , 0.77807597, 0.88228398,\n        0.86683477, 0.85042177, 0.73978339, 0.90258629, 0.84208351,\n        0.87220732, 0.85787105, 0.8672958 , 0.70015103, 0.82513231,\n        0.81506777, 0.87836508, 0.83710326, 0.75654452, 0.81032808,\n        0.72758925, 0.80204158, 0.71525512, 0.81786135, 0.89520537,\n        0.87187026, 0.82285718, 0.73996558, 0.80399106, 0.76584137,\n        0.79590148, 0.83885697, 0.88932218, 0.84217358, 0.81083598,\n        0.84992264, 0.81531207, 0.86359918, 0.7418416 , 0.7505952 ,\n        0.82465166, 0.84763257, 0.84233389, 0.93821448, 0.81007934,\n        0.80623529, 0.74522061, 0.92195739, 0.69027173, 0.83842896,\n        0.88942247, 0.85847537, 0.82374841, 0.91748985, 0.78292369,\n        0.82967708, 0.71334761, 0.65332947, 0.81961098, 0.8504671 ,\n        0.76335495]),\n 'target_dice_def': array([1.26655041e-01, 2.39473894e-02, 8.33874598e-01, 6.33010937e-01,\n        3.06657425e-01, 4.96115264e-01, 2.92595943e-01, 4.72913982e-01,\n        9.91070236e-04, 3.45926312e-04, 4.13444434e-04, 5.13547673e-01,\n        3.43154599e-01, 4.54878466e-04, 4.83567157e-01, 7.31436474e-03,\n        4.63696040e-01, 7.31808957e-01, 4.04030562e-01, 1.93023157e-01,\n        4.69948283e-03, 6.24972695e-01, 1.99985529e-01, 1.50681278e-01,\n        1.93969247e-01, 4.74672406e-01, 4.37080148e-01, 1.73169556e-03,\n        2.54931229e-01, 3.31808484e-01, 1.64702415e-04, 6.72056715e-01,\n        7.38769001e-02, 1.85859953e-03, 2.10809202e-02, 2.26221796e-01,\n        3.05170771e-01, 1.27878451e-03, 2.07754097e-04, 2.32081613e-01,\n        4.38261307e-01, 1.44092670e-01, 1.39564570e-01, 6.29040816e-02,\n        8.53809315e-01, 2.94161801e-01, 2.15068177e-01, 1.16287143e-01,\n        7.31023506e-04, 2.02026760e-03, 3.46650350e-03, 1.66652003e-03,\n        4.43684125e-04, 1.17914968e-03, 2.29519723e-01, 5.05531292e-01,\n        4.25737759e-02, 3.62908706e-04, 5.13956392e-01, 1.66171244e-01,\n        3.89474580e-01, 4.41373544e-01, 3.75296214e-03, 1.66682308e-03,\n        7.53193354e-03, 1.96187831e-01, 9.45623448e-03, 3.63840660e-01,\n        3.55394329e-01, 2.08133372e-01, 1.58175647e-01, 7.99850770e-04,\n        7.90512519e-02, 6.06143806e-01, 5.53061629e-04, 4.69474218e-04,\n        1.20727732e-01, 5.80135016e-01, 2.87448087e-04, 1.04739504e-03,\n        1.62500338e-01, 5.61827860e-01, 1.04621988e-03, 4.51276908e-01,\n        7.41590569e-03, 6.60069835e-01, 3.37805893e-01, 6.07769593e-01,\n        2.33235783e-01, 1.35647668e-01, 6.73746198e-01, 1.45661714e-01,\n        4.12357918e-02, 6.81945253e-01, 2.69764594e-01, 6.71422740e-02,\n        3.39655633e-04, 6.01085149e-01, 5.44566261e-01, 4.38569122e-01,\n        4.67225504e-01, 4.40834461e-01, 2.62524213e-02, 2.85364264e-01,\n        4.78018111e-04, 7.56152313e-01, 4.37617502e-01, 7.12323835e-01,\n        1.05269893e-01, 4.96390019e-01, 8.45813722e-02, 3.48617502e-02,\n        1.89758090e-04, 8.89114852e-02, 3.44164530e-01, 8.24754771e-02,\n        3.37815547e-04, 6.36655408e-01, 1.79322040e-01, 5.75647841e-01,\n        5.08174872e-01, 2.91105397e-01]),\n 'target_error_def': array([6.60529336, 4.08782515, 1.13315969, 0.72544404, 3.9604946 ,\n        1.47595189, 2.86817231, 2.80067056, 6.66525725, 7.10179896,\n        6.35659679, 4.17695359, 4.56756404, 6.81330473, 1.62764688,\n        4.32280799, 2.03231826, 2.54587219, 4.01216689, 2.37331975,\n        6.28599866, 1.90489425, 3.46855153, 5.96313683, 3.26140505,\n        1.37568487, 2.40682849, 4.37192837, 1.24054088, 0.7395143 ,\n        7.61572371, 2.52917896, 5.2523527 , 4.18157316, 2.86520555,\n        4.91017373, 6.07203352, 3.58253753, 5.75575363, 3.58379268,\n        2.9150114 , 3.24801026, 5.19456882, 5.16822539, 1.32021126,\n        3.25632089, 5.0085054 , 5.82951465, 4.52016817, 4.62480541,\n        5.44219423, 7.37302812, 5.45545168, 7.08793093, 4.3687104 ,\n        4.393503  , 4.39679551, 5.61800337, 4.62549586, 2.66948578,\n        4.04444144, 1.36815219, 5.44609083, 5.8845656 , 4.05589461,\n        2.13630163, 5.84210466, 4.22051723, 2.92459126, 4.89857953,\n        6.09793372, 9.27056876, 6.65476171, 3.47577657, 4.62266626,\n        6.62488093, 5.51188367, 2.55026893, 6.28542175, 3.45443893,\n        4.03874166, 3.64550473, 5.38118304, 2.06067213, 6.05720885,\n        4.80378306, 2.96770756, 2.95948796, 2.10065853, 4.25355891,\n        3.29509606, 3.92567071, 5.62141169, 3.06831117, 4.11221913,\n        2.81639894, 6.28880804, 3.08838495, 4.30077995, 3.82396306,\n        2.11919248, 2.97551541, 6.31145167, 3.7827281 , 8.94723036,\n        0.908453  , 1.60199686, 2.58679802, 3.81924101, 2.03770225,\n        5.45597456, 5.70663833, 7.10994753, 4.45270735, 3.2309374 ,\n        5.91540366, 7.69296202, 0.84314838, 5.02699963, 3.38701393,\n        4.99535809, 3.09818152]),\n 'prostate_dice_pre': array([0.74787018, 0.5486692 , 0.82352045, 0.77184358, 0.72720925,\n        0.79855707, 0.80898963, 0.82337765, 0.84827724, 0.62714085,\n        0.66566831, 0.7876674 , 0.80784035, 0.75887617, 0.68473842,\n        0.72247897, 0.78133248, 0.57541759, 0.76398375, 0.59274729,\n        0.73077061, 0.71292583, 0.85154057, 0.72943417, 0.82003852,\n        0.7430093 , 0.69197528, 0.82443091, 0.72781687, 0.81848088,\n        0.7834479 , 0.8114419 , 0.83989538, 0.74916621, 0.69828056,\n        0.66162669, 0.64034798, 0.80173402, 0.7496926 , 0.78718675,\n        0.7723613 , 0.82263999, 0.65435234, 0.78072062, 0.78172101,\n        0.77866493, 0.79775232, 0.84007394, 0.66197339, 0.81872483,\n        0.75293072, 0.85513356, 0.75923154, 0.69148573, 0.7467398 ,\n        0.65878182, 0.75910286, 0.65261409, 0.76767724, 0.84928736,\n        0.82264553, 0.74984981, 0.68170326, 0.78494038, 0.67497316,\n        0.81742236, 0.78337167, 0.72936398, 0.75743952, 0.77296084,\n        0.79982164, 0.77887515, 0.83558673, 0.70913006, 0.74337435,\n        0.75980063, 0.78839315, 0.76775952, 0.89242725, 0.73168485,\n        0.71052472, 0.78414293, 0.61845023, 0.64373665, 0.80403508,\n        0.79779039, 0.79454747, 0.81475353, 0.85882771, 0.75953419,\n        0.75177668, 0.6128978 , 0.44741528, 0.83048783, 0.82297498,\n        0.69125724]),\n 'target_dice_pre': array([2.80710409e-01, 7.35835173e-04, 3.45673891e-05, 1.90839695e-04,\n        1.40350877e-04, 1.66944908e-03, 6.28535512e-04, 4.38623974e-04,\n        6.95894224e-04, 6.23830318e-04, 5.99161174e-04, 2.25459506e-01,\n        1.82344799e-01, 2.84090909e-04, 1.10204981e-04, 1.90476190e-03,\n        1.65016502e-04, 4.21460553e-01, 8.41547787e-02, 4.51671183e-04,\n        1.88329547e-01, 1.47405660e-04, 2.57267816e-04, 1.29546284e-01,\n        4.08163265e-04, 5.43773790e-04, 1.55642023e-04, 9.51474786e-04,\n        1.45348837e-03, 1.73459005e-01, 1.16103739e-02, 2.67903960e-01,\n        5.64015792e-04, 5.49148819e-04, 3.29815303e-04, 5.18138314e-01,\n        1.89880425e-02, 7.93650794e-04, 9.95787700e-02, 2.82725474e-04,\n        1.25833648e-04, 9.05797101e-04, 1.82681768e-04, 2.61780105e-04,\n        1.62361007e-01, 1.58378207e-04, 3.48796652e-04, 3.21964625e-01,\n        7.60456274e-04, 5.00751127e-04, 3.77216145e-04, 1.72117040e-03,\n        8.88257239e-05, 1.36612022e-03, 1.25046893e-04, 1.61657883e-02,\n        5.28262018e-04, 2.36183278e-04, 7.62347142e-02, 7.14285714e-04,\n        1.42972359e-02, 9.02527076e-04, 4.23728814e-03, 1.67785235e-03,\n        1.25313283e-03, 1.07991361e-03, 2.02183583e-04, 8.40477391e-05,\n        1.24958421e-01, 1.69865806e-04, 4.94782296e-03, 9.34579439e-04,\n        2.93242492e-01, 2.77062594e-01, 4.20875421e-04, 4.38212095e-04,\n        1.50443809e-04, 3.86279357e-05, 1.62743609e-01, 2.43445693e-02,\n        9.04159132e-04, 1.51423380e-04, 3.90625000e-04, 2.77552894e-01,\n        2.48385494e-04, 3.73010215e-01, 3.69071784e-05, 5.31443545e-02,\n        2.07082212e-04, 2.86286859e-04, 4.80381426e-01, 4.72234866e-02,\n        2.34317343e-02, 2.80858618e-01, 1.65016502e-04, 1.83654729e-04,\n        1.73956262e-03, 5.15294592e-01, 3.27835052e-01, 1.89058367e-01,\n        3.26370757e-04, 3.69685767e-04, 7.50165966e-02, 6.00934787e-03,\n        3.35673541e-01, 4.61467467e-04, 8.64902266e-05, 2.88537820e-01,\n        4.55166136e-04, 9.22425033e-02, 3.35570470e-04, 7.42914222e-02,\n        1.41262890e-04, 6.92856648e-05, 3.99878671e-02, 1.14639459e-04,\n        4.55580866e-04, 2.19058050e-04, 5.34991669e-02, 4.95468094e-01,\n        3.07510681e-02, 1.05108262e-04]),\n 'target_error_pre': array([ 5.85931875, 17.05332346, 21.60509382, 16.83830142, 10.739605  ,\n        18.17267256, 19.05437548, 16.24250306, 11.44203117,  7.57543209,\n        18.47065536,  9.49862652,  7.63706116,  9.35182852, 14.2027384 ,\n         5.55170505, 20.72838918,  9.43122133, 14.61340488, 22.74116467,\n         6.70983386, 23.96275103, 17.29553011,  6.32452488,  4.99639739,\n        12.53114374, 20.13813136, 16.13932568,  7.17235381,  7.43013814,\n         7.15151621,  4.23679253, 44.12212989, 28.40543017, 16.07372451,\n         3.34950698, 11.75078312, 11.73216342,  7.84713007, 20.72620921,\n         8.41207627, 16.0646965 , 12.06149402, 10.34972173, 17.07308976,\n        17.77290118,  9.78212156,  5.0463227 , 12.51386352, 15.17925195,\n         6.73250701,  9.64616123, 18.76092941,  5.11434693, 11.61996859,\n        10.42349822,  8.07288977,  9.33523153, 13.67239966, 13.46492688,\n        11.19451748,  8.20237817,  4.45073844, 13.74405085, 12.83195122,\n        18.5803182 , 14.42471786, 14.16304633,  7.92140979,  9.83597931,\n        11.52126926,  7.20971163,  5.17728609, 11.92161342, 12.32741919,\n        13.09867819, 12.14330708, 21.94674771,  4.95316659,  7.21579969,\n         9.51873398, 16.57590026, 29.22233735,  7.6632733 , 20.10277753,\n        11.78739574, 13.47434078, 12.97771247, 13.35230648, 11.19449004,\n         6.28136492,  9.60928523,  7.95052687, 10.97780052, 18.10094776,\n        15.07054577,  8.92953029,  5.99852856,  6.54770846,  7.9563114 ,\n        24.97483193, 28.53717664,  7.06338529,  8.86374277,  2.56461308,\n        17.18310527, 17.9463236 , 13.80264891, 15.55191798,  6.66312825,\n         8.93460105,  7.0888577 , 16.65869882, 10.77585119, 11.49108147,\n        22.89859057, 23.19909621, 25.02779698, 10.85221035,  4.05410751,\n         9.36164015, 15.68001168])}"
     },
     "execution_count": 4,
     "metadata": {},
     "output_type": "execute_result"
    }
   ],
   "source": [
    "# instantiate the network and load the model\n",
    "hyper = {\n",
    "    'lambda_param': 1.0,\n",
    "    'gamma_param': 2.0\n",
    "}\n",
    "model = prepare_model(inshape=size, lambda_param=hyper['lambda_param'], gamma_param=hyper['gamma_param'])\n",
    "\n",
    "checkpoints_dir = Path(f\"../../models/test_{hyper['lambda_param']}_{hyper['gamma_param']}/checkpoints\")\n",
    "#checkpoints_dir = Path(f\"../../models/test_{hyper['lambda_param']}_{hyper['gamma_param']}_final/checkpoints\")\n",
    "latest_checkpoint = tf.train.latest_checkpoint(checkpoints_dir)\n",
    "model.load_weights(latest_checkpoint)\n",
    "\n",
    "filename = f\"../../results/results_{hyper['lambda_param']}_{hyper['gamma_param']}\"\n",
    "create_and_store_results(test_generator, hyper['lambda_param'], hyper['gamma_param'], filename)"
   ],
   "metadata": {
    "collapsed": false,
    "pycharm": {
     "name": "#%%\n"
    }
   }
  },
  {
   "cell_type": "markdown",
   "source": [
    "Run for all the models"
   ],
   "metadata": {
    "collapsed": false
   }
  },
  {
   "cell_type": "code",
   "execution_count": null,
   "outputs": [],
   "source": [
    "model = prepare_model(inshape=size, lambda_param=0, gamma_param=0)\n",
    "for checkpoints_dir in Path(f\"../models\").iterdir():\n",
    "    _, lambda_param, gamma_param = checkpoints_dir.name.split(\"_\")\n",
    "    latest_checkpoint = tf.train.latest_checkpoint(checkpoints_dir / \"checkpoints\")\n",
    "    model.load_weights(latest_checkpoint)\n",
    "\n",
    "    create_and_store_results(test_generator, lambda_param, gamma_param)"
   ],
   "metadata": {
    "collapsed": false,
    "pycharm": {
     "name": "#%%\n"
    }
   }
  }
 ],
 "metadata": {
  "kernelspec": {
   "display_name": "Python 3 (ipykernel)",
   "language": "python",
   "name": "python3"
  },
  "language_info": {
   "codemirror_mode": {
    "name": "ipython",
    "version": 3
   },
   "file_extension": ".py",
   "mimetype": "text/x-python",
   "name": "python",
   "nbconvert_exporter": "python",
   "pygments_lexer": "ipython3",
   "version": "3.7.3"
  }
 },
 "nbformat": 4,
 "nbformat_minor": 1
}