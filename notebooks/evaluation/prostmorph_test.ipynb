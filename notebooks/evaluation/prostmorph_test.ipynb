{
 "cells": [
  {
   "cell_type": "markdown",
   "metadata": {},
   "source": [
    "# Collect results\n",
    "Here we perform MRI/US fusion using the trained VoxelMorph models and collect the results"
   ]
  },
  {
   "cell_type": "code",
   "execution_count": 2,
   "metadata": {
    "collapsed": true
   },
   "outputs": [],
   "source": [
    "from pathlib import Path\n",
    "\n",
    "import numpy as np\n",
    "import tensorflow as tf\n",
    "\n",
    "from notebooks.utils import SmartDataGenerator, split_dataset, dice_coeff, prepare_model"
   ]
  },
  {
   "cell_type": "markdown",
   "metadata": {
    "pycharm": {
     "name": "#%% md\n"
    }
   },
   "source": [
    "Prepare dataset generators using a specific seed for repeatability"
   ]
  },
  {
   "cell_type": "code",
   "execution_count": 15,
   "metadata": {
    "pycharm": {
     "name": "#%%\n"
    }
   },
   "outputs": [],
   "source": [
    "seed = 24052022\n",
    "base_folder = Path(r\"C:\\Users\\ML\\Desktop\\seba_preprocessed_fusion\\numpy_160\")\n",
    "train_data, validation_data, test_data = split_dataset(base_folder, train_test_split=0.95, train_val_split=0.90, seed=seed)\n",
    "\n",
    "size = (160, 160, 160)\n",
    "train_generator = SmartDataGenerator(train_data, dim=size, batch_size=1, seed=seed)\n",
    "validation_generator = SmartDataGenerator(validation_data, dim=size, batch_size=1, seed=seed)\n",
    "test_generator = SmartDataGenerator(test_data, dim=size, batch_size=1, seed=seed)"
   ]
  },
  {
   "cell_type": "markdown",
   "source": [
    "Prepare storing function"
   ],
   "metadata": {
    "collapsed": false
   }
  },
  {
   "cell_type": "code",
   "execution_count": 27,
   "outputs": [],
   "source": [
    "from tqdm import tqdm\n",
    "from skimage import measure\n",
    "\n",
    "def create_and_store_results(generator, lambda_param, gamma_param):\n",
    "    results = {\n",
    "        \"prostate_dice\": [], \"target_dice\": [], \"target_error\": [],\n",
    "        \"prostate_dice_def\": [], \"target_dice_def\": [], \"target_error_def\": [],\n",
    "        \"prostate_dice_pre\": [], \"target_dice_pre\": [], \"target_error_pre\": []\n",
    "    }\n",
    "    for idx in tqdm(range(len(generator))):\n",
    "        test_input, test_output, mr_targets, us_targets, _ = generator(idx)\n",
    "\n",
    "        test_pred = model.predict(test_input)\n",
    "        prostate_dice_val = dice_coeff(test_pred[2], test_output[2])\n",
    "        results[\"prostate_dice\"].append(prostate_dice_val)\n",
    "        prostate_dice_def_val = dice_coeff(test_pred[2], test_input[2])\n",
    "        results[\"prostate_dice_def\"].append(prostate_dice_def_val)\n",
    "        prostate_dice_def_val = dice_coeff(test_input[2], test_output[2])\n",
    "        results[\"prostate_dice_pre\"].append(prostate_dice_def_val)\n",
    "\n",
    "        mr_targets = mr_targets[0]\n",
    "        us_targets = us_targets[0]\n",
    "        if mr_targets is None or us_targets is None:\n",
    "            print(\"no matching targets here\")\n",
    "            continue\n",
    "\n",
    "        for select_target in range(min(mr_targets.shape[-1], us_targets.shape[-1])):\n",
    "            test_input_target = mr_targets[np.newaxis, ..., [select_target]]\n",
    "            test_output_target = us_targets[np.newaxis, ..., [select_target]]\n",
    "            test_pred_target = model.apply_transform(test_input[0], test_input[1], test_input_target)\n",
    "\n",
    "            # in \"error\" we use /2 because images have an isotropic spacing of 0.5 mm, meaning that the distance is double its size\n",
    "\n",
    "            # Dice between target in MR_def and US\n",
    "            target_dice_val = dice_coeff(test_pred_target, test_output_target)\n",
    "            target_error_val = np.linalg.norm((measure.centroid(test_pred_target) - measure.centroid(test_output_target)) / 2)\n",
    "            results[\"target_dice\"].append(target_dice_val)\n",
    "            results[\"target_error\"].append(target_error_val)\n",
    "\n",
    "            # Dice between target in MR and MR_def\n",
    "            target_dice_val = dice_coeff(test_pred_target, test_input_target)\n",
    "            target_error_val = np.linalg.norm((measure.centroid(test_pred_target) - measure.centroid(test_input_target)) / 2)\n",
    "            results[\"target_dice_def\"].append(target_dice_val)\n",
    "            results[\"target_error_def\"].append(target_error_val)\n",
    "\n",
    "            # Dice between target in MR and US\n",
    "            target_dice_val = dice_coeff(test_input_target, test_output_target)\n",
    "            target_error_val = np.linalg.norm((measure.centroid(test_input_target) - measure.centroid(test_output_target)) / 2)\n",
    "            results[\"target_dice_pre\"].append(target_dice_val)\n",
    "            results[\"target_error_pre\"].append(target_error_val)\n",
    "\n",
    "    # convert everything to ndarray\n",
    "    for k in results.keys():\n",
    "        results[k] = np.array(results[k])\n",
    "\n",
    "    # store results\n",
    "    np.savez_compressed(f\"../results/results_{lambda_param}_{gamma_param}\", results)"
   ],
   "metadata": {
    "collapsed": false,
    "pycharm": {
     "name": "#%%\n"
    }
   }
  },
  {
   "cell_type": "markdown",
   "source": [
    "### Run the evaluation"
   ],
   "metadata": {
    "collapsed": false
   }
  },
  {
   "cell_type": "markdown",
   "source": [
    "Run for a single model"
   ],
   "metadata": {
    "collapsed": false
   }
  },
  {
   "cell_type": "code",
   "execution_count": null,
   "outputs": [],
   "source": [
    "# instantiate the network and load the model\n",
    "hyper = {\n",
    "    'lambda_param': 5.0,\n",
    "    'gamma_param': 3.0\n",
    "}\n",
    "model = prepare_model(inshape=size, lambda_param=hyper['lambda_param'], gamma_param=hyper['gamma_param'])\n",
    "\n",
    "checkpoints_dir = Path(f\"../models/test_{hyper['lambda_param']}_{hyper['gamma_param']}/checkpoints\")\n",
    "latest_checkpoint = tf.train.latest_checkpoint(checkpoints_dir)\n",
    "model.load_weights(latest_checkpoint)\n",
    "\n",
    "create_and_store_results(test_generator, hyper['lambda_param'], hyper['gamma_param'])"
   ],
   "metadata": {
    "collapsed": false,
    "pycharm": {
     "name": "#%%\n",
     "is_executing": true
    }
   }
  },
  {
   "cell_type": "markdown",
   "source": [
    "Run for all the models"
   ],
   "metadata": {
    "collapsed": false
   }
  },
  {
   "cell_type": "code",
   "execution_count": null,
   "outputs": [],
   "source": [
    "model = prepare_model(inshape=size, lambda_param=0, gamma_param=0)\n",
    "for checkpoints_dir in Path(f\"../models\").iterdir():\n",
    "    _, lambda_param, gamma_param = checkpoints_dir.name.split(\"_\")\n",
    "    latest_checkpoint = tf.train.latest_checkpoint(checkpoints_dir / \"checkpoints\")\n",
    "    model.load_weights(latest_checkpoint)\n",
    "\n",
    "    create_and_store_results(test_generator, lambda_param, gamma_param)"
   ],
   "metadata": {
    "collapsed": false,
    "pycharm": {
     "name": "#%%\n",
     "is_executing": true
    }
   }
  }
 ],
 "metadata": {
  "kernelspec": {
   "display_name": "Python 3 (ipykernel)",
   "language": "python",
   "name": "python3"
  },
  "language_info": {
   "codemirror_mode": {
    "name": "ipython",
    "version": 3
   },
   "file_extension": ".py",
   "mimetype": "text/x-python",
   "name": "python",
   "nbconvert_exporter": "python",
   "pygments_lexer": "ipython3",
   "version": "3.7.3"
  }
 },
 "nbformat": 4,
 "nbformat_minor": 1
}