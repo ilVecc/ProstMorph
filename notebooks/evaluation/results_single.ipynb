{
 "cells": [
  {
   "cell_type": "code",
   "execution_count": 1,
   "outputs": [],
   "source": [
    "import numpy as np\n",
    "\n",
    "from notebooks.utils import init_stats, store_stats, print_stats"
   ],
   "metadata": {
    "collapsed": false,
    "pycharm": {
     "name": "#%%\n"
    }
   }
  },
  {
   "cell_type": "code",
   "execution_count": 18,
   "metadata": {
    "collapsed": true
   },
   "outputs": [],
   "source": [
    "results = np.load(f\"../../results/results_1.0_2.0.npz\", allow_pickle=True)['arr_0'].tolist()"
   ]
  },
  {
   "cell_type": "code",
   "execution_count": 19,
   "outputs": [
    {
     "name": "stdout",
     "output_type": "stream",
     "text": [
      "prostate Dice PRE:   75.17±7.56%\n",
      "prostate Dice INTRA: 81.90±6.17%\n",
      "prostate Dice POST:  90.34±3.98%\n",
      "\n",
      "\n",
      "target Dice PRE:   6.71±12.74%\n",
      "TRE PRE:           12.80±6.45mm\n",
      "target Dice INTRA: 25.38±24.02%\n",
      "TRE INTRA:         4.20±1.81mm\n",
      "\n",
      "# valid target Dice: 100.00%\n",
      "valid Dice:          8.42±15.37%\n",
      "valid TRE:           13.03±7.06mm\n",
      "\n",
      "# good target Dice: 13.11%\n",
      "good Dice:          43.91±10.04%\n",
      "good TRE:           6.73±2.65mm\n",
      "\n",
      "# decent target Dice: 100.00%\n",
      "decent Dice:          8.42±15.37%\n",
      "decent TRE:           13.03±7.06mm\n",
      "\n",
      "# bad target Dice: 0.00%\n",
      "bad Dice:          nan±nan%\n",
      "bad TRE:           nan±nanmm\n",
      "\n"
     ]
    }
   ],
   "source": [
    "stats = init_stats(1, 1)\n",
    "stats = store_stats(stats, results, 0, 0)\n",
    "print_stats(stats, 0, 0)"
   ],
   "metadata": {
    "collapsed": false,
    "pycharm": {
     "name": "#%%\n"
    }
   }
  }
 ],
 "metadata": {
  "kernelspec": {
   "display_name": "Python 3",
   "language": "python",
   "name": "python3"
  },
  "language_info": {
   "codemirror_mode": {
    "name": "ipython",
    "version": 2
   },
   "file_extension": ".py",
   "mimetype": "text/x-python",
   "name": "python",
   "nbconvert_exporter": "python",
   "pygments_lexer": "ipython2",
   "version": "2.7.6"
  }
 },
 "nbformat": 4,
 "nbformat_minor": 0
}