{
 "cells": [
  {
   "cell_type": "code",
   "execution_count": null,
   "outputs": [],
   "source": [
    "from pathlib import Path\n",
    "\n",
    "import neurite as ne\n",
    "import numpy as np\n",
    "import tensorflow as tf\n",
    "\n",
    "from notebooks.utils import SmartDataGenerator, split_dataset, dice_coeff, prepare_model\n",
    "import matplotlib.pyplot as plt\n",
    "import seaborn as sns"
   ],
   "metadata": {
    "collapsed": false,
    "pycharm": {
     "name": "#%%\n"
    }
   }
  },
  {
   "cell_type": "code",
   "execution_count": null,
   "metadata": {
    "collapsed": true
   },
   "outputs": [],
   "source": [
    "results = np.load(f\"../results/results_5.0_2.0.npz\", allow_pickle=True)['arr_0'].tolist()"
   ]
  },
  {
   "cell_type": "code",
   "execution_count": null,
   "outputs": [],
   "source": [
    "good_dice_threshold = 0.25\n",
    "\n",
    "valid_dice = results['dice'][np.isfinite(results['dice'])]\n",
    "valid_error = results['error'][np.isfinite(results['error'])]\n",
    "good_dice = results['dice'][results['dice'] > good_dice_threshold]\n",
    "good_error = results['error'][results['dice'] > good_dice_threshold]\n",
    "decent_dice = results['dice'][results['dice'] > 0]\n",
    "decent_error = results['error'][results['dice'] > 0]\n",
    "bad_dice = results['dice'][results['dice'] == 0]\n",
    "bad_error = results['error'][results['dice'] == 0]\n",
    "\n",
    "print(f\"#targets valid dice: {len(valid_dice) / len(results['dice']) * 100:.2f}%\")\n",
    "print(f\"target valid dice: {valid_dice.mean() * 100:.2f}±{valid_dice.std() * 100:.2f}%\")\n",
    "print(f\"target valid error: {valid_error.mean():.2f}±{valid_error.std():.2f}mm\")\n",
    "print()\n",
    "print(f\"#targets good dice: {len(good_dice) / len(results['dice']) * 100:.2f}%\")\n",
    "print(f\"target good dice: {good_dice.mean() * 100:.2f}±{good_dice.std() * 100:.2f}%\")\n",
    "print(f\"target good error: {good_error.mean():.2f}±{good_error.std():.2f}mm\")\n",
    "print()\n",
    "print(f\"#targets decent dice: {len(decent_dice) / len(results['dice']) * 100:.2f}%\")\n",
    "print(f\"target decent dice: {decent_dice.mean() * 100:.2f}±{decent_dice.std() * 100:.2f}%\")\n",
    "print(f\"target decent error: {decent_error.mean():.2f}±{decent_error.std():.2f}mm\")\n",
    "print()\n",
    "print(f\"#targets bad dice: {len(bad_dice) / len(results['dice']) * 100:.2f}%\")\n",
    "print(f\"target bad dice: {bad_dice.mean() * 100:.2f}±{bad_dice.std() * 100:.2f}%\")\n",
    "print(f\"target bad error: {bad_error.mean():.2f}±{bad_error.std():.2f}mm\")"
   ],
   "metadata": {
    "collapsed": false,
    "pycharm": {
     "name": "#%%\n"
    }
   }
  }
 ],
 "metadata": {
  "kernelspec": {
   "display_name": "Python 3",
   "language": "python",
   "name": "python3"
  },
  "language_info": {
   "codemirror_mode": {
    "name": "ipython",
    "version": 2
   },
   "file_extension": ".py",
   "mimetype": "text/x-python",
   "name": "python",
   "nbconvert_exporter": "python",
   "pygments_lexer": "ipython2",
   "version": "2.7.6"
  }
 },
 "nbformat": 4,
 "nbformat_minor": 0
}