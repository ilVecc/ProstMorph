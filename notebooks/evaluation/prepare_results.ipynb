{
 "cells": [
  {
   "cell_type": "markdown",
   "metadata": {},
   "source": [
    "# Collect results\n",
    "Here we perform MRI/US fusion using the trained VoxelMorph models and collect the results"
   ]
  },
  {
   "cell_type": "code",
   "execution_count": 1,
   "metadata": {
    "collapsed": true
   },
   "outputs": [
    {
     "name": "stdout",
     "output_type": "stream",
     "text": [
      "WARNING:tensorflow:From C:\\Users\\ML\\AppData\\Roaming\\Python\\Python37\\site-packages\\tensorflow\\python\\util\\deprecation.py:602: calling map_fn_v2 (from tensorflow.python.ops.map_fn) with dtype is deprecated and will be removed in a future version.\n",
      "Instructions for updating:\n",
      "Use fn_output_signature instead\n",
      "WARNING:tensorflow:From C:\\Users\\ML\\AppData\\Roaming\\Python\\Python37\\site-packages\\tensorflow\\python\\ops\\array_ops.py:5049: calling gather (from tensorflow.python.ops.array_ops) with validate_indices is deprecated and will be removed in a future version.\n",
      "Instructions for updating:\n",
      "The `validate_indices` argument has no effect. Indices are always validated on CPU and never validated on GPU.\n"
     ]
    },
    {
     "name": "stderr",
     "output_type": "stream",
     "text": [
      "vxm info: mutual information loss is experimental\n"
     ]
    }
   ],
   "source": [
    "from notebooks.setup import test_generator, model, config, latest_checkpoint\n",
    "from notebooks.utils import dice_coeff\n",
    "import itertools\n",
    "import numpy as np"
   ]
  },
  {
   "cell_type": "markdown",
   "source": [
    "Prepare storing function"
   ],
   "metadata": {
    "collapsed": false
   }
  },
  {
   "cell_type": "code",
   "execution_count": 2,
   "outputs": [],
   "source": [
    "from tqdm.notebook import tqdm\n",
    "from skimage import measure\n",
    "\n",
    "def create_and_store_results(model, generator, filename):\n",
    "    results = {\n",
    "        \"prostate_dice\": [], \"target_dice\": [], \"target_error\": [],\n",
    "        \"prostate_dice_def\": [], \"target_dice_def\": [], \"target_error_def\": [],\n",
    "        \"prostate_dice_pre\": [], \"target_dice_pre\": [], \"target_error_pre\": []\n",
    "    }\n",
    "    for idx in tqdm(range(len(generator))):\n",
    "        test_input, test_output, mr_targets, us_targets, _ = generator(idx)\n",
    "\n",
    "        test_pred = model.predict(test_input)\n",
    "        prostate_dice_val = dice_coeff(test_pred[2], test_output[2])\n",
    "        results[\"prostate_dice\"].append(prostate_dice_val)\n",
    "        prostate_dice_val = dice_coeff(test_pred[2], test_input[2])\n",
    "        results[\"prostate_dice_def\"].append(prostate_dice_val)\n",
    "        prostate_dice_val = dice_coeff(test_input[2], test_output[2])\n",
    "        results[\"prostate_dice_pre\"].append(prostate_dice_val)\n",
    "\n",
    "        for i, (mr_target, us_target) in enumerate(itertools.zip_longest(mr_targets, us_targets)):\n",
    "            if mr_target is None or us_target is None:\n",
    "                print(f\" /!\\  test data [{idx}] has unpaired targets [{i}]\")\n",
    "                continue\n",
    "\n",
    "            for select_target in range(min(mr_target.shape[-1], us_target.shape[-1])):\n",
    "                test_input_target = mr_target[np.newaxis, ..., [select_target]]\n",
    "                test_output_target = us_target[np.newaxis, ..., [select_target]]\n",
    "                test_pred_target = model.apply_transform(test_input[0], test_input[1], test_input_target)\n",
    "\n",
    "                # in \"error\" we use  *0.5 because images have an isotropic spacing of 0.5mm\n",
    "\n",
    "                # Dice between target in MR_def and US\n",
    "                target_dice_val = dice_coeff(test_pred_target, test_output_target)\n",
    "                target_error_val = np.linalg.norm((measure.centroid(test_pred_target) - measure.centroid(test_output_target))) * 0.5\n",
    "                results[\"target_dice\"].append(target_dice_val)\n",
    "                results[\"target_error\"].append(target_error_val)\n",
    "\n",
    "                # Dice between target in MR and MR_def\n",
    "                target_dice_val = dice_coeff(test_pred_target, test_input_target)\n",
    "                target_error_val = np.linalg.norm((measure.centroid(test_pred_target) - measure.centroid(test_input_target))) * 0.5\n",
    "                results[\"target_dice_def\"].append(target_dice_val)\n",
    "                results[\"target_error_def\"].append(target_error_val)\n",
    "\n",
    "                # Dice between target in MR and US\n",
    "                target_dice_val = dice_coeff(test_input_target, test_output_target)\n",
    "                target_error_val = np.linalg.norm((measure.centroid(test_input_target) - measure.centroid(test_output_target))) * 0.5\n",
    "                results[\"target_dice_pre\"].append(target_dice_val)\n",
    "                results[\"target_error_pre\"].append(target_error_val)\n",
    "\n",
    "    # convert everything to ndarray\n",
    "    for k in results.keys():\n",
    "        results[k] = np.array(results[k])\n",
    "\n",
    "    # store results\n",
    "    try:\n",
    "        np.savez_compressed(filename, results)\n",
    "    except Exception:\n",
    "        print(\"Error saving the results!\")\n",
    "\n",
    "    return results"
   ],
   "metadata": {
    "collapsed": false,
    "pycharm": {
     "name": "#%%\n"
    }
   }
  },
  {
   "cell_type": "markdown",
   "source": [
    "### Run the evaluation"
   ],
   "metadata": {
    "collapsed": false
   }
  },
  {
   "cell_type": "markdown",
   "source": [
    "Run for a single model"
   ],
   "metadata": {
    "collapsed": false
   }
  },
  {
   "cell_type": "code",
   "execution_count": 3,
   "outputs": [
    {
     "data": {
      "text/plain": "  0%|          | 0/96 [00:00<?, ?it/s]",
      "application/vnd.jupyter.widget-view+json": {
       "version_major": 2,
       "version_minor": 0,
       "model_id": "8f09acc771d04f5b98668312136c7d9a"
      }
     },
     "metadata": {},
     "output_type": "display_data"
    },
    {
     "name": "stdout",
     "output_type": "stream",
     "text": [
      "WARNING:tensorflow:5 out of the last 8 calls to <function Model.make_predict_function.<locals>.predict_function at 0x000001FF5E4932F0> triggered tf.function retracing. Tracing is expensive and the excessive number of tracings could be due to (1) creating @tf.function repeatedly in a loop, (2) passing tensors with different shapes, (3) passing Python objects instead of tensors. For (1), please define your @tf.function outside of the loop. For (2), @tf.function has experimental_relax_shapes=True option that relaxes argument shapes that can avoid unnecessary retracing. For (3), please refer to https://www.tensorflow.org/guide/function#controlling_retracing and https://www.tensorflow.org/api_docs/python/tf/function for  more details.\n",
      "WARNING:tensorflow:6 out of the last 10 calls to <function Model.make_predict_function.<locals>.predict_function at 0x000001FF5F342D90> triggered tf.function retracing. Tracing is expensive and the excessive number of tracings could be due to (1) creating @tf.function repeatedly in a loop, (2) passing tensors with different shapes, (3) passing Python objects instead of tensors. For (1), please define your @tf.function outside of the loop. For (2), @tf.function has experimental_relax_shapes=True option that relaxes argument shapes that can avoid unnecessary retracing. For (3), please refer to https://www.tensorflow.org/guide/function#controlling_retracing and https://www.tensorflow.org/api_docs/python/tf/function for  more details.\n",
      " /!\\  test data [48] has unpaired targets [0]\n",
      " /!\\  test data [66] has unpaired targets [0]\n"
     ]
    },
    {
     "data": {
      "text/plain": "{'prostate_dice': array([0.93233704, 0.80693526, 0.91856753, 0.89926599, 0.87984138,\n        0.90226867, 0.88160838, 0.90901067, 0.92525892, 0.89105792,\n        0.89864985, 0.92660821, 0.84010065, 0.93068843, 0.91991185,\n        0.90918233, 0.87873114, 0.78478112, 0.912643  , 0.75700415,\n        0.90528578, 0.91951357, 0.87447211, 0.8923057 , 0.90296393,\n        0.92210983, 0.89915367, 0.90730195, 0.90505327, 0.90043058,\n        0.92422884, 0.93001554, 0.92701784, 0.89742262, 0.88503273,\n        0.89373128, 0.85093318, 0.93154121, 0.92629778, 0.89416135,\n        0.90432243, 0.93668827, 0.87348568, 0.89081687, 0.93974788,\n        0.90639569, 0.9119459 , 0.93767601, 0.91957333, 0.93214844,\n        0.93093394, 0.91192394, 0.91999976, 0.90229611, 0.92027202,\n        0.91221205, 0.91368741, 0.90133231, 0.90410086, 0.92363377,\n        0.92497406, 0.92778322, 0.90280658, 0.92306427, 0.88013928,\n        0.91738698, 0.86559373, 0.84006449, 0.88235396, 0.899946  ,\n        0.92738266, 0.88686321, 0.92032576, 0.93825668, 0.91830085,\n        0.8994793 , 0.92372915, 0.92514528, 0.9303781 , 0.89067154,\n        0.89312214, 0.91417377, 0.74535818, 0.9325804 , 0.90164993,\n        0.90772158, 0.88424319, 0.9193576 , 0.93608501, 0.91652601,\n        0.90958491, 0.83105686, 0.76245663, 0.920258  , 0.93569109,\n        0.90037148]),\n 'target_dice': array([1.76291444e-01, 1.19266905e-03, 2.79824419e-05, 2.83641895e-04,\n        2.21586219e-02, 2.56335138e-03, 8.82102367e-04, 3.82816172e-04,\n        8.89247637e-04, 2.57560155e-04, 8.44349020e-04, 3.53011146e-01,\n        1.38497627e-01, 1.30809060e-01, 1.43504656e-04, 2.10618846e-03,\n        1.91503652e-04, 4.03619404e-01, 3.34496894e-02, 6.86946527e-05,\n        6.43241078e-03, 1.87230205e-04, 3.96086173e-04, 3.74394241e-01,\n        1.45729112e-01, 5.01417244e-04, 2.06660607e-04, 6.53517447e-04,\n        2.71274402e-03, 1.55516486e-01, 4.13021339e-04, 2.32720215e-01,\n        3.97146710e-04, 6.39171624e-04, 3.49854895e-04, 2.18784705e-01,\n        4.03713455e-01, 1.38307951e-03, 1.92863668e-04, 4.45416957e-04,\n        1.84475952e-04, 1.09860474e-03, 1.23381237e-02, 3.63864069e-04,\n        1.45638209e-01, 7.65677948e-05, 3.39985687e-04, 1.21018109e-01,\n        8.56226218e-04, 5.35240126e-04, 1.68651009e-01, 2.11384495e-03,\n        8.91897728e-05, 4.92391215e-02, 1.24004850e-04, 4.75446668e-02,\n        7.25345320e-04, 4.32782606e-04, 3.47407482e-01, 1.19354205e-03,\n        1.45134293e-01, 1.30659888e-03, 4.56635258e-03, 1.47688331e-03,\n        1.67395052e-03, 1.70783511e-03, 2.52567388e-04, 8.74957171e-05,\n        2.32517409e-02, 1.86844590e-04, 5.15356050e-05, 1.12945775e-03,\n        1.83084384e-01, 2.20413247e-01, 5.15286465e-04, 4.55580308e-04,\n        1.79408401e-04, 4.77450712e-05, 5.23697481e-02, 6.35517855e-04,\n        7.17991489e-04, 1.03633571e-04, 3.69800449e-04, 3.70130993e-01,\n        2.81762360e-04, 5.44074779e-01, 1.62595483e-03, 8.47587766e-03,\n        3.41258569e-04, 3.08627138e-04, 6.61811505e-01, 6.22749961e-03,\n        1.14186762e-01, 1.98081759e-01, 1.05029034e-04, 1.93907425e-04,\n        3.04540433e-04, 5.76432530e-01, 5.44461941e-01, 1.17225438e-01,\n        4.51151505e-04, 3.54225212e-04, 6.74825758e-02, 1.00414631e-01,\n        3.91323248e-04, 5.05450592e-04, 1.30699871e-01, 2.85786828e-01,\n        6.51178238e-04, 1.66000355e-04, 4.01174454e-04, 1.16464948e-04,\n        2.29334786e-04, 1.99942976e-02, 2.00895266e-02, 1.02408572e-04,\n        4.40860065e-04, 2.36273987e-04, 2.71259837e-01, 3.97533658e-01,\n        2.08077738e-01, 5.51909360e-05]),\n 'target_error': array([ 4.65941497, 15.93976002, 21.64891379, 17.46056727,  9.28731683,\n        14.90928742, 19.19198169, 17.21680042,  9.47913094, 12.13905594,\n        17.60394185, 10.02437097,  6.50532589,  4.46685137, 13.67209365,\n         9.24159228, 20.97107118,  9.45921227, 12.72919524, 22.95462859,\n         6.71425844, 22.95044243, 17.17814043,  4.80434324,  5.52300376,\n        11.64187178, 18.02684366, 16.88654903,  8.78957729,  8.63732007,\n         9.86938689,  4.04345206, 49.75749186, 30.69901009, 18.05345357,\n         5.50215187,  4.59280928, 10.07629437, 10.01610259, 20.00620553,\n         9.99350499, 12.13796961,  9.18309491, 10.70312655, 17.05735662,\n        18.87757829, 12.24148678,  8.21515322, 10.48547846, 18.27938649,\n         5.61989329, 11.18537558, 18.33334217,  3.59723096, 12.55313062,\n        10.06702299, 10.89385335,  7.68066136, 10.97514678, 14.49389535,\n         9.25974371,  9.45628516,  6.40175251, 11.53479098, 11.63805149,\n        15.69583037, 19.12916113, 12.21922868,  8.86723048,  9.8587052 ,\n        16.58638875, 10.4732073 ,  8.64138056, 14.61396363, 14.36059211,\n        15.11065829, 10.74708371, 22.96243172,  9.75419884,  7.02267604,\n        11.4890433 , 14.66052339, 33.29698904,  6.11421514, 24.41376917,\n         8.56390943, 16.74319918, 14.57834231, 14.37431696, 11.92946806,\n         5.55733695,  9.76230925,  8.28754006, 12.57369156, 16.86630551,\n        13.92447267,  8.5911841 ,  2.87213392,  3.92684689, 10.09018405,\n        22.23625498, 30.99676955,  8.78595234,  5.58564557, 10.37788183,\n        17.94655053, 14.56513339, 13.34770586, 13.34365685,  7.31807415,\n         7.65551375,  8.96874873, 14.85890658, 11.13973484, 11.5127969 ,\n        28.18785307, 30.52451092, 25.96717237,  6.78568473,  3.5967747 ,\n         7.05468817, 15.72176609]),\n 'prostate_dice_def': array([0.77790579, 0.69346687, 0.87206745, 0.80896941, 0.78435215,\n        0.86457472, 0.79009892, 0.85571192, 0.84497251, 0.67969262,\n        0.73293165, 0.81344869, 0.91898242, 0.77614044, 0.72625874,\n        0.74811607, 0.87068701, 0.72217353, 0.79766957, 0.78363142,\n        0.79133036, 0.71963921, 0.90755342, 0.77864754, 0.81289983,\n        0.76828488, 0.75740938, 0.84890296, 0.77911968, 0.84694966,\n        0.7974397 , 0.82727077, 0.81448477, 0.80517963, 0.75224858,\n        0.72297896, 0.74571365, 0.83295541, 0.76901488, 0.85294845,\n        0.82878683, 0.83476183, 0.72573465, 0.86881663, 0.82169876,\n        0.84254635, 0.81105353, 0.84571011, 0.69527204, 0.81297483,\n        0.79088449, 0.8604164 , 0.8092429 , 0.73549276, 0.77249175,\n        0.72058823, 0.77992306, 0.70902837, 0.80139902, 0.86480669,\n        0.8531877 , 0.78222464, 0.73813111, 0.79363769, 0.75050882,\n        0.79599531, 0.80026945, 0.85727528, 0.82678543, 0.79618716,\n        0.83507423, 0.805576  , 0.8527228 , 0.72883274, 0.746732  ,\n        0.79479654, 0.82290507, 0.79807076, 0.91514257, 0.78449103,\n        0.77664442, 0.77038915, 0.84825313, 0.65620376, 0.83293458,\n        0.84207694, 0.84536703, 0.81859096, 0.88333581, 0.78419392,\n        0.80850071, 0.69147632, 0.62279892, 0.83284484, 0.84497949,\n        0.73665918]),\n 'target_dice_def': array([4.39626920e-03, 2.27809154e-02, 6.97919490e-01, 3.89649728e-01,\n        4.46629587e-01, 2.59069097e-03, 9.03344212e-02, 4.00248630e-01,\n        1.26175638e-03, 2.65774523e-04, 5.28444976e-04, 3.44794791e-01,\n        2.42935532e-01, 4.60669498e-04, 3.21070765e-01, 2.01291761e-03,\n        4.07846930e-01, 6.28334755e-01, 2.25523189e-01, 9.18936689e-02,\n        1.30288079e-04, 3.34534648e-01, 1.50706172e-01, 3.70080471e-02,\n        1.29420441e-01, 5.41546971e-01, 1.45831806e-01, 6.58682977e-04,\n        1.17830142e-01, 2.97571000e-01, 1.83462306e-04, 4.65425310e-01,\n        1.43342293e-02, 2.34098546e-03, 8.96929489e-02, 2.30617174e-01,\n        1.50248153e-01, 1.27547078e-03, 2.53228024e-04, 1.12116394e-01,\n        2.31862466e-01, 1.92483108e-03, 4.97081333e-02, 8.65788504e-02,\n        7.54607203e-01, 1.01461308e-01, 3.53444248e-04, 4.04510067e-02,\n        7.87453800e-04, 2.20109052e-03, 2.40604726e-04, 1.95667290e-03,\n        5.54617052e-04, 1.16477334e-03, 1.71820557e-02, 3.47378801e-01,\n        1.17691200e-01, 3.79992821e-04, 3.47902601e-01, 1.79162112e-01,\n        3.32251158e-01, 3.42231139e-01, 3.84625497e-03, 1.46605721e-03,\n        1.87535824e-02, 1.96923522e-02, 8.39428749e-04, 5.10895539e-01,\n        4.17439137e-01, 2.42359248e-01, 5.48711949e-02, 8.75364994e-04,\n        1.58259146e-02, 6.30603414e-01, 4.72663960e-04, 4.47226557e-04,\n        4.12930756e-02, 4.32123600e-01, 3.36232408e-04, 1.31261878e-03,\n        7.68182395e-04, 4.49310093e-01, 8.90344297e-04, 3.91998314e-01,\n        2.43221704e-03, 5.59126672e-01, 7.46159231e-02, 4.04625506e-01,\n        1.89265065e-01, 4.32983225e-02, 6.34911244e-01, 7.66682255e-02,\n        3.22107634e-01, 6.07008114e-01, 2.02805418e-01, 2.01397509e-01,\n        3.58598224e-04, 4.98749081e-01, 4.21340664e-01, 3.11975270e-01,\n        6.27538589e-02, 2.14296597e-01, 4.39075709e-03, 2.57028797e-01,\n        6.47906638e-04, 5.19517768e-01, 2.46166703e-01, 5.84839259e-01,\n        4.57543824e-02, 4.28297245e-01, 3.96145882e-04, 2.42784856e-02,\n        2.29861913e-04, 7.41809762e-02, 2.61204802e-01, 3.89752938e-02,\n        3.33745627e-04, 4.88038170e-01, 1.18081510e-01, 4.29407103e-01,\n        1.03201971e-01, 1.99345440e-01]),\n 'target_error_def': array([ 8.14259001,  3.56503008,  0.8309028 ,  0.81179753,  1.56618752,\n         4.01210314,  1.93906065,  2.74368684,  7.43511794,  7.9845949 ,\n         5.82064237,  5.70002744,  4.50082471,  7.71306726,  1.54383367,\n         5.30305931,  1.82968731,  3.06721745,  2.0495744 ,  4.75245222,\n         6.57296255,  3.67088917,  3.11679503,  6.67163887,  3.18027038,\n         1.3333807 ,  3.86584786,  5.2234278 ,  2.31674728,  2.21379826,\n         8.48584836,  3.40342669,  6.80725646,  3.90433709,  2.59459742,\n         4.03709044,  7.89740643,  3.96302626,  7.17696622,  4.74868355,\n         3.63802868,  4.14969679,  6.45586693,  7.08787445,  1.71916473,\n         3.35165098,  8.66237589,  6.65938707,  5.01796073,  5.69174328,\n         7.97532151,  7.39803685,  6.54135924,  7.52185599,  5.92743137,\n         3.01757847,  3.52521776,  5.17826762,  4.91670319,  2.4043871 ,\n         4.18857916,  1.30494452,  7.10967071,  7.42154277,  3.9144964 ,\n         3.21728491,  6.98154554,  2.23503315,  2.16807958,  4.46491594,\n         7.69241267,  8.73230048,  8.1344604 ,  2.80911111,  4.66636296,\n         7.78750795,  6.02745975,  3.16181069,  7.94036367,  3.09771999,\n         5.21754232,  2.57262122,  5.84591179,  1.79800284,  5.28432707,\n         6.06559031,  7.04920153,  2.66746491,  2.22143903,  4.41974735,\n         2.83807251,  4.69352492,  1.47026749,  3.67664527,  5.20667788,\n         2.21137465,  5.7883737 ,  4.25503864,  4.5786905 ,  5.59781648,\n         4.29355437,  2.53967855,  5.78341525,  5.60674371, 10.44058456,\n         1.20359685,  4.8442109 ,  3.03020512,  3.84496338,  1.38964256,\n         6.69358743,  5.48429253,  6.85328475,  4.5105864 ,  3.65776423,\n         5.58701073,  9.04715703,  1.79248288,  5.9583813 ,  3.44636079,\n         5.98243471,  3.30777919]),\n 'prostate_dice_pre': array([0.74787018, 0.5486692 , 0.82352045, 0.77184358, 0.72720925,\n        0.79855707, 0.80898963, 0.82337765, 0.84827724, 0.62714085,\n        0.66566831, 0.7876674 , 0.80784035, 0.75887617, 0.68473842,\n        0.72247897, 0.78133248, 0.57541759, 0.76398375, 0.59274729,\n        0.73077061, 0.71292583, 0.85154057, 0.72943417, 0.82003852,\n        0.7430093 , 0.69197528, 0.82443091, 0.72781687, 0.81848088,\n        0.7834479 , 0.8114419 , 0.83989538, 0.74916621, 0.69828056,\n        0.66162669, 0.64034798, 0.80173402, 0.7496926 , 0.78718675,\n        0.7723613 , 0.82263999, 0.65435234, 0.78072062, 0.78172101,\n        0.77866493, 0.79775232, 0.84007394, 0.66197339, 0.81872483,\n        0.75293072, 0.85513356, 0.75923154, 0.69148573, 0.7467398 ,\n        0.65878182, 0.75910286, 0.65261409, 0.76767724, 0.84928736,\n        0.82264553, 0.74984981, 0.68170326, 0.78494038, 0.67497316,\n        0.81742236, 0.78337167, 0.72936398, 0.75743952, 0.77296084,\n        0.79982164, 0.77887515, 0.83558673, 0.70913006, 0.74337435,\n        0.75980063, 0.78839315, 0.76775952, 0.89242725, 0.73168485,\n        0.71052472, 0.78414293, 0.61845023, 0.64373665, 0.80403508,\n        0.79779039, 0.79454747, 0.81475353, 0.85882771, 0.75953419,\n        0.75177668, 0.6128978 , 0.44741528, 0.83048783, 0.82297498,\n        0.69125724]),\n 'target_dice_pre': array([2.80710409e-01, 7.35835173e-04, 3.45673891e-05, 1.90839695e-04,\n        1.40350877e-04, 1.66944908e-03, 6.28535512e-04, 4.38623974e-04,\n        6.95894224e-04, 6.23830318e-04, 5.99161174e-04, 2.25459506e-01,\n        1.82344799e-01, 2.84090909e-04, 1.10204981e-04, 1.90476190e-03,\n        1.65016502e-04, 4.21460553e-01, 8.41547787e-02, 4.51671183e-04,\n        1.88329547e-01, 1.47405660e-04, 2.57267816e-04, 1.29546284e-01,\n        4.08163265e-04, 5.43773790e-04, 1.55642023e-04, 9.51474786e-04,\n        1.45348837e-03, 1.73459005e-01, 1.16103739e-02, 2.67903960e-01,\n        5.64015792e-04, 5.49148819e-04, 3.29815303e-04, 5.18138314e-01,\n        1.89880425e-02, 7.93650794e-04, 9.95787700e-02, 2.82725474e-04,\n        1.25833648e-04, 9.05797101e-04, 1.82681768e-04, 2.61780105e-04,\n        1.62361007e-01, 1.58378207e-04, 3.48796652e-04, 3.21964625e-01,\n        7.60456274e-04, 5.00751127e-04, 3.77216145e-04, 1.72117040e-03,\n        8.88257239e-05, 1.36612022e-03, 1.25046893e-04, 1.61657883e-02,\n        5.28262018e-04, 2.36183278e-04, 7.62347142e-02, 7.14285714e-04,\n        1.42972359e-02, 9.02527076e-04, 4.23728814e-03, 1.67785235e-03,\n        1.25313283e-03, 1.07991361e-03, 2.02183583e-04, 8.40477391e-05,\n        1.24958421e-01, 1.69865806e-04, 4.94782296e-03, 9.34579439e-04,\n        2.93242492e-01, 2.77062594e-01, 4.20875421e-04, 4.38212095e-04,\n        1.50443809e-04, 3.86279357e-05, 1.62743609e-01, 2.43445693e-02,\n        9.04159132e-04, 1.51423380e-04, 3.90625000e-04, 2.77552894e-01,\n        2.48385494e-04, 3.73010215e-01, 3.69071784e-05, 5.31443545e-02,\n        2.07082212e-04, 2.86286859e-04, 4.80381426e-01, 4.72234866e-02,\n        2.34317343e-02, 2.80858618e-01, 1.65016502e-04, 1.83654729e-04,\n        1.73956262e-03, 5.15294592e-01, 3.27835052e-01, 1.89058367e-01,\n        3.26370757e-04, 3.69685767e-04, 7.50165966e-02, 6.00934787e-03,\n        3.35673541e-01, 4.61467467e-04, 8.64902266e-05, 2.88537820e-01,\n        4.55166136e-04, 9.22425033e-02, 3.35570470e-04, 7.42914222e-02,\n        1.41262890e-04, 6.92856648e-05, 3.99878671e-02, 1.14639459e-04,\n        4.55580866e-04, 2.19058050e-04, 5.34991669e-02, 4.95468094e-01,\n        3.07510681e-02, 1.05108262e-04]),\n 'target_error_pre': array([ 5.85931875, 17.05332346, 21.60509382, 16.83830142, 10.739605  ,\n        18.17267256, 19.05437548, 16.24250306, 11.44203117,  7.57543209,\n        18.47065536,  9.49862652,  7.63706116,  9.35182852, 14.2027384 ,\n         5.55170505, 20.72838918,  9.43122133, 14.61340488, 22.74116467,\n         6.70983386, 23.96275103, 17.29553011,  6.32452488,  4.99639739,\n        12.53114374, 20.13813136, 16.13932568,  7.17235381,  7.43013814,\n         7.15151621,  4.23679253, 44.12212989, 28.40543017, 16.07372451,\n         3.34950698, 11.75078312, 11.73216342,  7.84713007, 20.72620921,\n         8.41207627, 16.0646965 , 12.06149402, 10.34972173, 17.07308976,\n        17.77290118,  9.78212156,  5.0463227 , 12.51386352, 15.17925195,\n         6.73250701,  9.64616123, 18.76092941,  5.11434693, 11.61996859,\n        10.42349822,  8.07288977,  9.33523153, 13.67239966, 13.46492688,\n        11.19451748,  8.20237817,  4.45073844, 13.74405085, 12.83195122,\n        18.5803182 , 14.42471786, 14.16304633,  7.92140979,  9.83597931,\n        11.52126926,  7.20971163,  5.17728609, 11.92161342, 12.32741919,\n        13.09867819, 12.14330708, 21.94674771,  4.95316659,  7.21579969,\n         9.51873398, 16.57590026, 29.22233735,  7.6632733 , 20.10277753,\n        11.78739574, 13.47434078, 12.97771247, 13.35230648, 11.19449004,\n         6.28136492,  9.60928523,  7.95052687, 10.97780052, 18.10094776,\n        15.07054577,  8.92953029,  5.99852856,  6.54770846,  7.9563114 ,\n        24.97483193, 28.53717664,  7.06338529,  8.86374277,  2.56461308,\n        17.18310527, 17.9463236 , 13.80264891, 15.55191798,  6.66312825,\n         8.93460105,  7.0888577 , 16.65869882, 10.77585119, 11.49108147,\n        22.89859057, 23.19909621, 25.02779698, 10.85221035,  4.05410751,\n         9.36164015, 15.68001168])}"
     },
     "execution_count": 3,
     "metadata": {},
     "output_type": "execute_result"
    }
   ],
   "source": [
    "# instantiate the network and load the model\n",
    "model.load_weights(latest_checkpoint)\n",
    "\n",
    "filename = f\"../../results/results_{config['name']}\"\n",
    "create_and_store_results(model, test_generator, filename)"
   ],
   "metadata": {
    "collapsed": false,
    "pycharm": {
     "name": "#%%\n"
    }
   }
  },
  {
   "cell_type": "markdown",
   "source": [
    "Run for all the models"
   ],
   "metadata": {
    "collapsed": false
   }
  },
  {
   "cell_type": "code",
   "execution_count": null,
   "outputs": [],
   "source": [
    "import tensorflow as tf\n",
    "from pathlib import Path\n",
    "from notebooks.setup import size\n",
    "from notebooks.utils import prepare_model\n",
    "\n",
    "model = prepare_model(inshape=size, sim_param=0, lambda_param=0, gamma_param=0)\n",
    "for checkpoints_dir in Path(f\"../../models\").iterdir():\n",
    "    info = checkpoints_dir.name.split(\"_\")\n",
    "    if len(info) > 3:\n",
    "        print(\"special model, ignoring\")\n",
    "        continue\n",
    "    _, lambda_param, gamma_param = info\n",
    "    latest_checkpoint = tf.train.latest_checkpoint(checkpoints_dir / \"checkpoints\")\n",
    "    model.load_weights(latest_checkpoint)\n",
    "\n",
    "    filename = f\"../../results/results_{lambda_param}_{gamma_param}\"\n",
    "    create_and_store_results(model, test_generator, filename)"
   ],
   "metadata": {
    "collapsed": false,
    "pycharm": {
     "name": "#%%\n"
    }
   }
  }
 ],
 "metadata": {
  "kernelspec": {
   "display_name": "Python 3 (ipykernel)",
   "language": "python",
   "name": "python3"
  },
  "language_info": {
   "codemirror_mode": {
    "name": "ipython",
    "version": 3
   },
   "file_extension": ".py",
   "mimetype": "text/x-python",
   "name": "python",
   "nbconvert_exporter": "python",
   "pygments_lexer": "ipython3",
   "version": "3.7.3"
  }
 },
 "nbformat": 4,
 "nbformat_minor": 1
}