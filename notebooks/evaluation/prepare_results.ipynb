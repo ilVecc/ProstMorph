{
 "cells": [
  {
   "cell_type": "markdown",
   "metadata": {},
   "source": [
    "# Collect results\n",
    "Here we perform MRI/US fusion using the trained VoxelMorph models and collect the results"
   ]
  },
  {
   "cell_type": "code",
   "execution_count": 1,
   "metadata": {
    "collapsed": true
   },
   "outputs": [
    {
     "name": "stdout",
     "output_type": "stream",
     "text": [
      "WARNING:tensorflow:From C:\\Users\\ML\\AppData\\Roaming\\Python\\Python37\\site-packages\\tensorflow\\python\\util\\deprecation.py:602: calling map_fn_v2 (from tensorflow.python.ops.map_fn) with dtype is deprecated and will be removed in a future version.\n",
      "Instructions for updating:\n",
      "Use fn_output_signature instead\n",
      "WARNING:tensorflow:From C:\\Users\\ML\\AppData\\Roaming\\Python\\Python37\\site-packages\\tensorflow\\python\\ops\\array_ops.py:5049: calling gather (from tensorflow.python.ops.array_ops) with validate_indices is deprecated and will be removed in a future version.\n",
      "Instructions for updating:\n",
      "The `validate_indices` argument has no effect. Indices are always validated on CPU and never validated on GPU.\n"
     ]
    },
    {
     "name": "stderr",
     "output_type": "stream",
     "text": [
      "vxm info: mutual information loss is experimental\n"
     ]
    }
   ],
   "source": [
    "from notebooks.setup import test_generator, model, config, latest_checkpoint\n",
    "from notebooks.utils import dice_coeff\n",
    "import itertools\n",
    "import numpy as np"
   ]
  },
  {
   "cell_type": "markdown",
   "source": [
    "Prepare storing function"
   ],
   "metadata": {
    "collapsed": false
   }
  },
  {
   "cell_type": "code",
   "execution_count": 2,
   "outputs": [],
   "source": [
    "from tqdm.notebook import tqdm\n",
    "from skimage import measure\n",
    "\n",
    "def create_and_store_results(model, generator, filename):\n",
    "    results = {\n",
    "        \"prostate_dice\": [], \"target_dice\": [], \"target_error\": [],\n",
    "        \"prostate_dice_def\": [], \"target_dice_def\": [], \"target_error_def\": [],\n",
    "        \"prostate_dice_pre\": [], \"target_dice_pre\": [], \"target_error_pre\": []\n",
    "    }\n",
    "    for idx in tqdm(range(len(generator))):\n",
    "        test_input, test_output, mr_targets, us_targets, _ = generator(idx)\n",
    "\n",
    "        test_pred = model.predict(test_input)\n",
    "        prostate_dice_val = dice_coeff(test_pred[2], test_output[2])\n",
    "        results[\"prostate_dice\"].append(prostate_dice_val)\n",
    "        prostate_dice_val = dice_coeff(test_pred[2], test_input[2])\n",
    "        results[\"prostate_dice_def\"].append(prostate_dice_val)\n",
    "        prostate_dice_val = dice_coeff(test_input[2], test_output[2])\n",
    "        results[\"prostate_dice_pre\"].append(prostate_dice_val)\n",
    "\n",
    "        for i, (mr_target, us_target) in enumerate(itertools.zip_longest(mr_targets, us_targets)):\n",
    "            if mr_target is None or us_target is None:\n",
    "                print(f\" /!\\  test data [{idx}] has unpaired targets [{i}]\")\n",
    "                continue\n",
    "\n",
    "            for select_target in range(min(mr_target.shape[-1], us_target.shape[-1])):\n",
    "                test_input_target = mr_target[np.newaxis, ..., [select_target]]\n",
    "                test_output_target = us_target[np.newaxis, ..., [select_target]]\n",
    "                test_pred_target = model.apply_transform(test_input[0], test_input[1], test_input_target)\n",
    "\n",
    "                # in \"error\" we use  *0.5 because images have an isotropic spacing of 0.5mm\n",
    "\n",
    "                # Dice between target in MR_def and US\n",
    "                target_dice_val = dice_coeff(test_pred_target, test_output_target)\n",
    "                target_error_val = np.linalg.norm((measure.centroid(test_pred_target) - measure.centroid(test_output_target))) * 0.5\n",
    "                results[\"target_dice\"].append(target_dice_val)\n",
    "                results[\"target_error\"].append(target_error_val)\n",
    "\n",
    "                # Dice between target in MR and MR_def\n",
    "                target_dice_val = dice_coeff(test_pred_target, test_input_target)\n",
    "                target_error_val = np.linalg.norm((measure.centroid(test_pred_target) - measure.centroid(test_input_target))) * 0.5\n",
    "                results[\"target_dice_def\"].append(target_dice_val)\n",
    "                results[\"target_error_def\"].append(target_error_val)\n",
    "\n",
    "                # Dice between target in MR and US\n",
    "                target_dice_val = dice_coeff(test_input_target, test_output_target)\n",
    "                target_error_val = np.linalg.norm((measure.centroid(test_input_target) - measure.centroid(test_output_target))) * 0.5\n",
    "                results[\"target_dice_pre\"].append(target_dice_val)\n",
    "                results[\"target_error_pre\"].append(target_error_val)\n",
    "\n",
    "    # convert everything to ndarray\n",
    "    for k in results.keys():\n",
    "        results[k] = np.array(results[k])\n",
    "\n",
    "    # store results\n",
    "    try:\n",
    "        np.savez_compressed(filename, results)\n",
    "    except Exception:\n",
    "        print(\"Error saving the results!\")\n",
    "\n",
    "    return results"
   ],
   "metadata": {
    "collapsed": false,
    "pycharm": {
     "name": "#%%\n"
    }
   }
  },
  {
   "cell_type": "markdown",
   "source": [
    "### Run the evaluation"
   ],
   "metadata": {
    "collapsed": false
   }
  },
  {
   "cell_type": "markdown",
   "source": [
    "Run for a single model"
   ],
   "metadata": {
    "collapsed": false
   }
  },
  {
   "cell_type": "code",
   "execution_count": 4,
   "outputs": [
    {
     "name": "stdout",
     "output_type": "stream",
     "text": [
      "WARNING:tensorflow:From C:\\Users\\ML\\AppData\\Roaming\\Python\\Python37\\site-packages\\tensorflow\\python\\util\\deprecation.py:602: calling map_fn_v2 (from tensorflow.python.ops.map_fn) with dtype is deprecated and will be removed in a future version.\n",
      "Instructions for updating:\n",
      "Use fn_output_signature instead\n",
      "WARNING:tensorflow:From C:\\Users\\ML\\AppData\\Roaming\\Python\\Python37\\site-packages\\tensorflow\\python\\ops\\array_ops.py:5049: calling gather (from tensorflow.python.ops.array_ops) with validate_indices is deprecated and will be removed in a future version.\n",
      "Instructions for updating:\n",
      "The `validate_indices` argument has no effect. Indices are always validated on CPU and never validated on GPU.\n"
     ]
    },
    {
     "name": "stderr",
     "output_type": "stream",
     "text": [
      "vxm info: mutual information loss is experimental\n"
     ]
    },
    {
     "data": {
      "text/plain": "  0%|          | 0/96 [00:00<?, ?it/s]",
      "application/vnd.jupyter.widget-view+json": {
       "version_major": 2,
       "version_minor": 0,
       "model_id": "1f2de99c27464d6c9df3f1117c3fb436"
      }
     },
     "metadata": {},
     "output_type": "display_data"
    },
    {
     "name": "stdout",
     "output_type": "stream",
     "text": [
      "WARNING:tensorflow:5 out of the last 8 calls to <function Model.make_predict_function.<locals>.predict_function at 0x0000020C6809B598> triggered tf.function retracing. Tracing is expensive and the excessive number of tracings could be due to (1) creating @tf.function repeatedly in a loop, (2) passing tensors with different shapes, (3) passing Python objects instead of tensors. For (1), please define your @tf.function outside of the loop. For (2), @tf.function has experimental_relax_shapes=True option that relaxes argument shapes that can avoid unnecessary retracing. For (3), please refer to https://www.tensorflow.org/guide/function#controlling_retracing and https://www.tensorflow.org/api_docs/python/tf/function for  more details.\n",
      "WARNING:tensorflow:6 out of the last 10 calls to <function Model.make_predict_function.<locals>.predict_function at 0x0000020C602E7EA0> triggered tf.function retracing. Tracing is expensive and the excessive number of tracings could be due to (1) creating @tf.function repeatedly in a loop, (2) passing tensors with different shapes, (3) passing Python objects instead of tensors. For (1), please define your @tf.function outside of the loop. For (2), @tf.function has experimental_relax_shapes=True option that relaxes argument shapes that can avoid unnecessary retracing. For (3), please refer to https://www.tensorflow.org/guide/function#controlling_retracing and https://www.tensorflow.org/api_docs/python/tf/function for  more details.\n",
      " /!\\  test data [48] has unpaired targets [0]\n",
      " /!\\  test data [66] has unpaired targets [0]\n"
     ]
    },
    {
     "data": {
      "text/plain": "{'prostate_dice': array([0.91869912, 0.75918459, 0.89592761, 0.89619003, 0.85775538,\n        0.89246712, 0.86910642, 0.89455009, 0.90213038, 0.87024531,\n        0.89112001, 0.91365095, 0.81571669, 0.90591561, 0.89551297,\n        0.88877972, 0.8509952 , 0.74769889, 0.90416269, 0.71163294,\n        0.88402234, 0.89212798, 0.86995622, 0.86565515, 0.88999425,\n        0.9020369 , 0.87806071, 0.8983652 , 0.89945231, 0.89123902,\n        0.89315729, 0.92085957, 0.91208281, 0.88400813, 0.87932055,\n        0.8594467 , 0.84390872, 0.91545001, 0.90845353, 0.87402146,\n        0.88481258, 0.92294359, 0.84043093, 0.86798186, 0.92201922,\n        0.88982705, 0.87607058, 0.92469503, 0.88897921, 0.90330394,\n        0.90463912, 0.89403541, 0.9039655 , 0.86564326, 0.90648353,\n        0.88911593, 0.90111953, 0.88543659, 0.90071152, 0.89482004,\n        0.90556911, 0.9144566 , 0.89932506, 0.89435959, 0.86180107,\n        0.91710287, 0.85359133, 0.82356925, 0.85689804, 0.87366227,\n        0.9013515 , 0.87947305, 0.89577393, 0.92052053, 0.91591848,\n        0.8846314 , 0.91016405, 0.89514557, 0.92140127, 0.87348538,\n        0.86430315, 0.90167315, 0.73389532, 0.90277742, 0.89305789,\n        0.88014202, 0.85750257, 0.91371046, 0.92362861, 0.89489155,\n        0.89606092, 0.82035482, 0.74008003, 0.89320868, 0.91379986,\n        0.89109295]),\n 'target_dice': array([3.47699686e-01, 1.14080074e-03, 2.69063348e-05, 2.89294670e-04,\n        1.50494224e-03, 2.10943302e-03, 6.88088113e-04, 5.22764059e-03,\n        8.37928369e-04, 2.47552249e-04, 5.40303459e-04, 3.84450308e-01,\n        1.33471216e-01, 5.82665937e-02, 1.33242042e-04, 1.69978043e-03,\n        1.64453623e-04, 4.15996090e-01, 1.71942285e-02, 5.19497439e-05,\n        1.87021913e-02, 1.43291716e-04, 3.76330329e-04, 3.08576930e-01,\n        8.04253195e-02, 5.68054125e-04, 1.71534115e-04, 8.90808825e-04,\n        2.79541715e-03, 1.93835766e-01, 8.54582620e-04, 2.76375677e-01,\n        5.37444751e-04, 6.01498592e-04, 3.53937490e-04, 5.27651216e-02,\n        3.03553354e-01, 1.42103088e-03, 1.71159735e-04, 4.17710007e-04,\n        1.84632333e-04, 1.14786657e-03, 1.17991127e-03, 3.61056878e-04,\n        1.39692980e-01, 7.16071698e-05, 3.65963304e-04, 9.30314800e-02,\n        7.92929685e-04, 5.46111744e-04, 3.77734143e-01, 1.60868028e-03,\n        8.91398190e-05, 8.59072222e-03, 1.23389713e-04, 3.64971543e-02,\n        6.73396466e-04, 4.30993800e-04, 3.03193468e-01, 1.13346588e-03,\n        1.03058183e-01, 9.71464188e-04, 4.06403056e-03, 1.79786585e-03,\n        1.76227299e-03, 1.63725392e-03, 2.41472359e-04, 9.08605550e-05,\n        4.57756868e-02, 1.96063283e-04, 6.92917597e-05, 9.94777117e-04,\n        1.85562320e-01, 2.01894681e-01, 6.45837462e-04, 3.93968246e-04,\n        1.73896623e-04, 3.63826933e-05, 5.30552925e-02, 5.24633557e-03,\n        6.93048065e-04, 1.58688969e-04, 3.84617913e-04, 3.63707665e-01,\n        1.68720393e-04, 5.49580044e-01, 4.05320368e-05, 1.52195378e-02,\n        3.51564203e-04, 1.97340433e-04, 6.13404196e-01, 1.10899506e-02,\n        1.36966832e-04, 1.92143074e-01, 1.06917991e-04, 2.32313807e-04,\n        1.06171204e-03, 5.30164389e-01, 4.81028844e-01, 7.12669358e-02,\n        3.07552047e-04, 3.75288636e-04, 1.74420518e-02, 1.13915433e-02,\n        4.25535717e-04, 5.51133362e-04, 1.12689328e-01, 2.88902142e-01,\n        5.81257318e-04, 1.45003644e-04, 3.58936004e-04, 1.30449343e-03,\n        2.03892048e-04, 3.71115792e-03, 2.53737961e-02, 1.14191748e-04,\n        4.15284118e-04, 2.99764865e-04, 1.18079978e-01, 3.26945013e-01,\n        2.03081862e-01, 4.24668108e-05]),\n 'target_error': array([ 3.0473231 , 15.95955105, 21.78279914, 16.55189918,  9.66690312,\n        16.10542985, 18.96587678, 17.11706483, 11.00341113,  9.90423822,\n        18.1062604 ,  8.78679694,  6.55579403,  7.18330701, 15.56684613,\n         8.13964807, 20.9652878 ,  9.19753835, 13.30673993, 23.52286767,\n         7.1220298 , 23.2908545 , 16.51157988,  5.76442059,  5.05447397,\n        12.54699871, 18.46946353, 17.69910043,  8.85025835,  7.69033629,\n        10.41589275,  3.35005203, 48.92950638, 31.95723228, 19.41243179,\n         6.9403618 ,  6.91278705, 11.25422806,  8.80237998, 20.62959856,\n         9.87801989, 13.8496819 , 10.28658969, 10.80983902, 17.22256615,\n        18.96964261, 12.01586733,  7.51537484, 10.12347045, 18.14315864,\n         4.24863528, 12.55802707, 15.58110135,  5.02064022, 11.18401516,\n        10.50759962, 11.82520584,  8.26531819, 11.27890908, 15.28648076,\n        10.30108399,  9.74836933,  7.4202209 , 11.39689199, 12.47219956,\n        17.21643413, 19.50848799, 14.33399089,  8.18674792, 12.12110817,\n        14.74877205, 12.87020187,  8.23990124, 14.70920467, 12.04108969,\n        15.53252348, 10.46881494, 21.23642602,  9.11752475,  6.43273223,\n        11.02868709, 16.28349893, 32.55811748,  5.60278782, 24.04725893,\n         8.4376908 , 14.53383084, 14.50372051, 14.90728453, 11.67748623,\n         6.43753154,  9.47973684,  8.93420786, 12.17399877, 17.58115618,\n        14.98715006,  7.35072224,  5.26520471,  4.30983144, 10.85401959,\n        23.20840335, 32.84627849, 10.09761224,  7.30540577,  9.6331459 ,\n        18.32942545, 14.21431078, 13.78935608, 14.2403435 ,  9.58195429,\n         8.50678586,  9.22931906, 15.50116586, 12.30419418, 11.85799515,\n        27.63093194, 30.33723787, 26.68070502,  9.26583714,  4.38651766,\n         7.8906312 , 14.86919358]),\n 'prostate_dice_def': array([0.77996641, 0.69296021, 0.88754546, 0.81308586, 0.81651131,\n        0.87517655, 0.76762853, 0.8568939 , 0.850834  , 0.7103587 ,\n        0.72773598, 0.82282157, 0.93270186, 0.79008309, 0.74813941,\n        0.75917272, 0.88947235, 0.7394967 , 0.79555007, 0.76468547,\n        0.81756935, 0.69821091, 0.91287426, 0.80004217, 0.82137425,\n        0.76994531, 0.77020746, 0.8617922 , 0.79387521, 0.8634388 ,\n        0.82511607, 0.83561086, 0.81810473, 0.80190453, 0.74199851,\n        0.75705346, 0.73955612, 0.84402329, 0.76942511, 0.86874979,\n        0.83920343, 0.83827063, 0.74557661, 0.88811013, 0.8281564 ,\n        0.85560974, 0.82746005, 0.85236236, 0.68512075, 0.8034533 ,\n        0.80606203, 0.86185551, 0.81019607, 0.77196682, 0.79841355,\n        0.72492177, 0.78883531, 0.70197086, 0.79800834, 0.88882158,\n        0.86036127, 0.79530107, 0.74157897, 0.7925486 , 0.7630068 ,\n        0.80854672, 0.77069487, 0.86798511, 0.83621739, 0.79247883,\n        0.83863327, 0.79690678, 0.87084318, 0.72735007, 0.76906598,\n        0.79787951, 0.8388949 , 0.812637  , 0.92383821, 0.80436254,\n        0.79304882, 0.7553588 , 0.8503291 , 0.67407041, 0.83352553,\n        0.86105522, 0.84822837, 0.8142606 , 0.88953039, 0.78524283,\n        0.82569024, 0.69743868, 0.63903345, 0.81758757, 0.84486193,\n        0.74207541]),\n 'target_dice_def': array([4.22278849e-02, 1.40598867e-02, 7.17168090e-01, 3.93212561e-01,\n        2.75753106e-01, 3.11632003e-01, 4.59093830e-01, 5.74101537e-01,\n        1.16087492e-03, 2.55131262e-04, 4.86811733e-04, 3.82452212e-01,\n        3.10181736e-01, 4.69939693e-04, 4.19056740e-01, 1.63850831e-03,\n        5.86759122e-01, 6.35273906e-01, 2.20422413e-01, 1.52566912e-01,\n        1.30457310e-04, 3.81945470e-01, 6.76209729e-02, 2.74623674e-01,\n        3.69296310e-01, 4.94459563e-01, 2.95151446e-01, 9.00434202e-04,\n        5.12691834e-02, 2.96644614e-01, 1.79624448e-04, 6.21854742e-01,\n        7.55498968e-02, 1.63796332e-03, 1.56162832e-03, 1.00059254e-01,\n        2.85079319e-01, 1.30767761e-03, 2.17084739e-04, 2.45747479e-01,\n        2.10718682e-01, 2.04695251e-01, 1.73188705e-01, 1.43950478e-01,\n        7.65433024e-01, 3.40102738e-01, 1.35142145e-01, 1.11322735e-01,\n        2.54658614e-03, 2.39735062e-03, 2.58245408e-04, 1.51600699e-03,\n        5.52689707e-04, 1.30009242e-03, 1.68640739e-01, 5.85427409e-01,\n        4.48706674e-02, 3.78613093e-04, 5.24130538e-01, 1.14143858e-01,\n        3.62230764e-01, 2.25989837e-01, 3.48357824e-03, 1.78184823e-03,\n        2.26249194e-02, 1.97155386e-01, 3.46409640e-03, 2.95162636e-01,\n        2.65600732e-01, 9.47845412e-02, 1.40911007e-01, 7.92235857e-04,\n        1.12778821e-02, 5.27144222e-01, 5.80256065e-04, 3.87705752e-04,\n        1.69779893e-01, 6.84835449e-01, 3.15455956e-04, 1.24052842e-03,\n        7.39698867e-04, 5.73056377e-01, 2.04133736e-03, 4.38475071e-01,\n        2.99483349e-02, 5.97971204e-01, 2.49312626e-01, 5.99006538e-01,\n        9.49781306e-02, 2.09635132e-01, 6.68182475e-01, 2.39721412e-01,\n        2.61954583e-01, 6.36980645e-01, 2.09563606e-01, 3.80114304e-02,\n        3.36207983e-04, 5.32183829e-01, 5.34656545e-01, 2.92831467e-01,\n        3.38758435e-01, 1.17363527e-02, 1.02726791e-02, 1.33705978e-01,\n        7.47395884e-04, 3.57989962e-01, 2.82063606e-01, 6.15939605e-01,\n        2.29075948e-01, 3.97403282e-01, 1.14194614e-02, 5.37975491e-04,\n        2.04308617e-04, 6.05338897e-02, 3.15515606e-01, 1.41769506e-01,\n        3.18878569e-04, 3.68128210e-01, 1.07619337e-01, 4.78334693e-01,\n        3.81456118e-01, 1.13763282e-01]),\n 'target_error_def': array([ 7.82808225,  4.11490643,  0.69651317,  0.95743041,  3.11482154,\n         2.14890491,  1.35051612,  1.61422657,  6.91826212,  6.12016963,\n         4.88005553,  5.13225463,  2.99717652,  6.27036836,  2.1132996 ,\n         3.98693811,  0.8016513 ,  3.58324335,  1.95211166,  1.45773426,\n         6.32984268,  2.78749163,  4.37515097,  4.38622603,  1.89445089,\n         0.85584349,  3.21624971,  5.44413908,  2.17619492,  1.92855173,\n         8.13758163,  2.8025287 ,  5.03617838,  5.0955028 ,  4.12819341,\n         5.32490497,  5.29814149,  4.28438949,  6.48225342,  2.94914898,\n         3.9730508 ,  2.22772434,  4.66917808,  4.72605312,  1.04446646,\n         2.22157746,  5.67331893,  6.34052183,  4.32990809,  4.17900478,\n         5.55318608,  8.05309116,  6.75875463,  8.31182115,  4.36428038,\n         2.86440341,  3.90073655,  5.8409575 ,  3.52564809,  3.10438715,\n         3.05465079,  2.03938928,  7.36704056,  8.07336303,  3.44771072,\n         1.82756977,  6.56923955,  5.17686117,  3.01316966,  5.09177413,\n         5.75647357, 10.74209897,  7.9656141 ,  2.95971036,  4.82906803,\n         6.81362004,  4.6354451 ,  1.48504157,  7.65188974,  3.21397422,\n         2.50125328,  1.78977632,  4.24081486,  2.0963922 ,  4.12516193,\n         5.41596792,  3.10373462,  2.04230081,  3.03458191,  3.27467389,\n         2.76306077,  3.48186497,  2.61486471,  3.77100296,  5.02150849,\n         2.63496737,  5.09558002,  2.10052605,  3.644347  ,  5.51054273,\n         2.81738149,  4.52191458,  5.96492563,  6.46778803,  9.81148562,\n         1.1633333 ,  3.89430269,  3.69388149,  2.47476362,  2.97448247,\n         5.23812309,  5.73201606,  8.04677138,  4.79183029,  3.69706739,\n         4.86340864,  9.21324445,  2.039661  ,  5.19726024,  2.69317836,\n         4.37108526,  3.72535552]),\n 'prostate_dice_pre': array([0.74787018, 0.5486692 , 0.82352045, 0.77184358, 0.72720925,\n        0.79855707, 0.80898963, 0.82337765, 0.84827724, 0.62714085,\n        0.66566831, 0.7876674 , 0.80784035, 0.75887617, 0.68473842,\n        0.72247897, 0.78133248, 0.57541759, 0.76398375, 0.59274729,\n        0.73077061, 0.71292583, 0.85154057, 0.72943417, 0.82003852,\n        0.7430093 , 0.69197528, 0.82443091, 0.72781687, 0.81848088,\n        0.7834479 , 0.8114419 , 0.83989538, 0.74916621, 0.69828056,\n        0.66162669, 0.64034798, 0.80173402, 0.7496926 , 0.78718675,\n        0.7723613 , 0.82263999, 0.65435234, 0.78072062, 0.78172101,\n        0.77866493, 0.79775232, 0.84007394, 0.66197339, 0.81872483,\n        0.75293072, 0.85513356, 0.75923154, 0.69148573, 0.7467398 ,\n        0.65878182, 0.75910286, 0.65261409, 0.76767724, 0.84928736,\n        0.82264553, 0.74984981, 0.68170326, 0.78494038, 0.67497316,\n        0.81742236, 0.78337167, 0.72936398, 0.75743952, 0.77296084,\n        0.79982164, 0.77887515, 0.83558673, 0.70913006, 0.74337435,\n        0.75980063, 0.78839315, 0.76775952, 0.89242725, 0.73168485,\n        0.71052472, 0.78414293, 0.61845023, 0.64373665, 0.80403508,\n        0.79779039, 0.79454747, 0.81475353, 0.85882771, 0.75953419,\n        0.75177668, 0.6128978 , 0.44741528, 0.83048783, 0.82297498,\n        0.69125724]),\n 'target_dice_pre': array([2.80710409e-01, 7.35835173e-04, 3.45673891e-05, 1.90839695e-04,\n        1.40350877e-04, 1.66944908e-03, 6.28535512e-04, 4.38623974e-04,\n        6.95894224e-04, 6.23830318e-04, 5.99161174e-04, 2.25459506e-01,\n        1.82344799e-01, 2.84090909e-04, 1.10204981e-04, 1.90476190e-03,\n        1.65016502e-04, 4.21460553e-01, 8.41547787e-02, 4.51671183e-04,\n        1.88329547e-01, 1.47405660e-04, 2.57267816e-04, 1.29546284e-01,\n        4.08163265e-04, 5.43773790e-04, 1.55642023e-04, 9.51474786e-04,\n        1.45348837e-03, 1.73459005e-01, 1.16103739e-02, 2.67903960e-01,\n        5.64015792e-04, 5.49148819e-04, 3.29815303e-04, 5.18138314e-01,\n        1.89880425e-02, 7.93650794e-04, 9.95787700e-02, 2.82725474e-04,\n        1.25833648e-04, 9.05797101e-04, 1.82681768e-04, 2.61780105e-04,\n        1.62361007e-01, 1.58378207e-04, 3.48796652e-04, 3.21964625e-01,\n        7.60456274e-04, 5.00751127e-04, 3.77216145e-04, 1.72117040e-03,\n        8.88257239e-05, 1.36612022e-03, 1.25046893e-04, 1.61657883e-02,\n        5.28262018e-04, 2.36183278e-04, 7.62347142e-02, 7.14285714e-04,\n        1.42972359e-02, 9.02527076e-04, 4.23728814e-03, 1.67785235e-03,\n        1.25313283e-03, 1.07991361e-03, 2.02183583e-04, 8.40477391e-05,\n        1.24958421e-01, 1.69865806e-04, 4.94782296e-03, 9.34579439e-04,\n        2.93242492e-01, 2.77062594e-01, 4.20875421e-04, 4.38212095e-04,\n        1.50443809e-04, 3.86279357e-05, 1.62743609e-01, 2.43445693e-02,\n        9.04159132e-04, 1.51423380e-04, 3.90625000e-04, 2.77552894e-01,\n        2.48385494e-04, 3.73010215e-01, 3.69071784e-05, 5.31443545e-02,\n        2.07082212e-04, 2.86286859e-04, 4.80381426e-01, 4.72234866e-02,\n        2.34317343e-02, 2.80858618e-01, 1.65016502e-04, 1.83654729e-04,\n        1.73956262e-03, 5.15294592e-01, 3.27835052e-01, 1.89058367e-01,\n        3.26370757e-04, 3.69685767e-04, 7.50165966e-02, 6.00934787e-03,\n        3.35673541e-01, 4.61467467e-04, 8.64902266e-05, 2.88537820e-01,\n        4.55166136e-04, 9.22425033e-02, 3.35570470e-04, 7.42914222e-02,\n        1.41262890e-04, 6.92856648e-05, 3.99878671e-02, 1.14639459e-04,\n        4.55580866e-04, 2.19058050e-04, 5.34991669e-02, 4.95468094e-01,\n        3.07510681e-02, 1.05108262e-04]),\n 'target_error_pre': array([ 5.85931875, 17.05332346, 21.60509382, 16.83830142, 10.739605  ,\n        18.17267256, 19.05437548, 16.24250306, 11.44203117,  7.57543209,\n        18.47065536,  9.49862652,  7.63706116,  9.35182852, 14.2027384 ,\n         5.55170505, 20.72838918,  9.43122133, 14.61340488, 22.74116467,\n         6.70983386, 23.96275103, 17.29553011,  6.32452488,  4.99639739,\n        12.53114374, 20.13813136, 16.13932568,  7.17235381,  7.43013814,\n         7.15151621,  4.23679253, 44.12212989, 28.40543017, 16.07372451,\n         3.34950698, 11.75078312, 11.73216342,  7.84713007, 20.72620921,\n         8.41207627, 16.0646965 , 12.06149402, 10.34972173, 17.07308976,\n        17.77290118,  9.78212156,  5.0463227 , 12.51386352, 15.17925195,\n         6.73250701,  9.64616123, 18.76092941,  5.11434693, 11.61996859,\n        10.42349822,  8.07288977,  9.33523153, 13.67239966, 13.46492688,\n        11.19451748,  8.20237817,  4.45073844, 13.74405085, 12.83195122,\n        18.5803182 , 14.42471786, 14.16304633,  7.92140979,  9.83597931,\n        11.52126926,  7.20971163,  5.17728609, 11.92161342, 12.32741919,\n        13.09867819, 12.14330708, 21.94674771,  4.95316659,  7.21579969,\n         9.51873398, 16.57590026, 29.22233735,  7.6632733 , 20.10277753,\n        11.78739574, 13.47434078, 12.97771247, 13.35230648, 11.19449004,\n         6.28136492,  9.60928523,  7.95052687, 10.97780052, 18.10094776,\n        15.07054577,  8.92953029,  5.99852856,  6.54770846,  7.9563114 ,\n        24.97483193, 28.53717664,  7.06338529,  8.86374277,  2.56461308,\n        17.18310527, 17.9463236 , 13.80264891, 15.55191798,  6.66312825,\n         8.93460105,  7.0888577 , 16.65869882, 10.77585119, 11.49108147,\n        22.89859057, 23.19909621, 25.02779698, 10.85221035,  4.05410751,\n         9.36164015, 15.68001168])}"
     },
     "execution_count": 4,
     "metadata": {},
     "output_type": "execute_result"
    }
   ],
   "source": [
    "# instantiate the network and load the model\n",
    "model.load_weights(latest_checkpoint)\n",
    "\n",
    "filename = f\"../../results/results_{config['lambda_param']}_{config['gamma_param']}\"\n",
    "create_and_store_results(model, test_generator, filename)"
   ],
   "metadata": {
    "collapsed": false,
    "pycharm": {
     "name": "#%%\n"
    }
   }
  },
  {
   "cell_type": "markdown",
   "source": [
    "Run for all the models"
   ],
   "metadata": {
    "collapsed": false
   }
  },
  {
   "cell_type": "code",
   "execution_count": 4,
   "outputs": [
    {
     "name": "stdout",
     "output_type": "stream",
     "text": [
      "WARNING:tensorflow:Unresolved object in checkpoint: (root).optimizer.iter\n",
      "WARNING:tensorflow:Unresolved object in checkpoint: (root).optimizer.beta_1\n",
      "WARNING:tensorflow:Unresolved object in checkpoint: (root).optimizer.beta_2\n",
      "WARNING:tensorflow:Unresolved object in checkpoint: (root).optimizer.decay\n",
      "WARNING:tensorflow:Unresolved object in checkpoint: (root).optimizer.learning_rate\n",
      "WARNING:tensorflow:A checkpoint was restored (e.g. tf.train.Checkpoint.restore or tf.keras.Model.load_weights) but not all checkpointed values were used. See above for specific issues. Use expect_partial() on the load status object, e.g. tf.train.Checkpoint.restore(...).expect_partial(), to silence these warnings, or use assert_consumed() to make the check explicit. See https://www.tensorflow.org/guide/checkpoint#loading_mechanics for details.\n"
     ]
    },
    {
     "name": "stderr",
     "output_type": "stream",
     "text": [
      "vxm info: mutual information loss is experimental\n"
     ]
    },
    {
     "data": {
      "text/plain": "  0%|          | 0/96 [00:00<?, ?it/s]",
      "application/vnd.jupyter.widget-view+json": {
       "version_major": 2,
       "version_minor": 0,
       "model_id": "8ff156e938d04a6998ccd02a3e6bb35c"
      }
     },
     "metadata": {},
     "output_type": "display_data"
    },
    {
     "name": "stdout",
     "output_type": "stream",
     "text": [
      "WARNING:tensorflow:5 out of the last 8 calls to <function Model.make_predict_function.<locals>.predict_function at 0x000001938F85AD90> triggered tf.function retracing. Tracing is expensive and the excessive number of tracings could be due to (1) creating @tf.function repeatedly in a loop, (2) passing tensors with different shapes, (3) passing Python objects instead of tensors. For (1), please define your @tf.function outside of the loop. For (2), @tf.function has experimental_relax_shapes=True option that relaxes argument shapes that can avoid unnecessary retracing. For (3), please refer to https://www.tensorflow.org/guide/function#controlling_retracing and https://www.tensorflow.org/api_docs/python/tf/function for  more details.\n",
      "WARNING:tensorflow:6 out of the last 10 calls to <function Model.make_predict_function.<locals>.predict_function at 0x00000193965C4840> triggered tf.function retracing. Tracing is expensive and the excessive number of tracings could be due to (1) creating @tf.function repeatedly in a loop, (2) passing tensors with different shapes, (3) passing Python objects instead of tensors. For (1), please define your @tf.function outside of the loop. For (2), @tf.function has experimental_relax_shapes=True option that relaxes argument shapes that can avoid unnecessary retracing. For (3), please refer to https://www.tensorflow.org/guide/function#controlling_retracing and https://www.tensorflow.org/api_docs/python/tf/function for  more details.\n"
     ]
    },
    {
     "name": "stderr",
     "output_type": "stream",
     "text": [
      "C:\\Users\\ML\\AppData\\Local\\Programs\\Python\\Python37\\lib\\site-packages\\skimage\\measure\\_moments.py:359: RuntimeWarning: invalid value encountered in true_divide\n",
      "  / M[(0,) * image.ndim])  # weighted sum of all points\n"
     ]
    },
    {
     "name": "stdout",
     "output_type": "stream",
     "text": [
      " /!\\  test data [48] has unpaired targets [0]\n",
      " /!\\  test data [66] has unpaired targets [0]\n"
     ]
    },
    {
     "data": {
      "text/plain": "  0%|          | 0/96 [00:00<?, ?it/s]",
      "application/vnd.jupyter.widget-view+json": {
       "version_major": 2,
       "version_minor": 0,
       "model_id": "4abff3fb8d5a41cc85ab4a441f17a0dd"
      }
     },
     "metadata": {},
     "output_type": "display_data"
    },
    {
     "name": "stdout",
     "output_type": "stream",
     "text": [
      " /!\\  test data [48] has unpaired targets [0]\n",
      " /!\\  test data [66] has unpaired targets [0]\n"
     ]
    },
    {
     "data": {
      "text/plain": "  0%|          | 0/96 [00:00<?, ?it/s]",
      "application/vnd.jupyter.widget-view+json": {
       "version_major": 2,
       "version_minor": 0,
       "model_id": "71f0867c2d8d4f27937e2a0bd315d7ea"
      }
     },
     "metadata": {},
     "output_type": "display_data"
    },
    {
     "name": "stdout",
     "output_type": "stream",
     "text": [
      " /!\\  test data [48] has unpaired targets [0]\n",
      " /!\\  test data [66] has unpaired targets [0]\n"
     ]
    },
    {
     "data": {
      "text/plain": "  0%|          | 0/96 [00:00<?, ?it/s]",
      "application/vnd.jupyter.widget-view+json": {
       "version_major": 2,
       "version_minor": 0,
       "model_id": "35ad3a87603a4b5facfa9eb3bc97f0cf"
      }
     },
     "metadata": {},
     "output_type": "display_data"
    },
    {
     "name": "stdout",
     "output_type": "stream",
     "text": [
      " /!\\  test data [48] has unpaired targets [0]\n",
      " /!\\  test data [66] has unpaired targets [0]\n"
     ]
    },
    {
     "data": {
      "text/plain": "  0%|          | 0/96 [00:00<?, ?it/s]",
      "application/vnd.jupyter.widget-view+json": {
       "version_major": 2,
       "version_minor": 0,
       "model_id": "ae5658f0762e4e77bc0749777f5bd64b"
      }
     },
     "metadata": {},
     "output_type": "display_data"
    },
    {
     "name": "stdout",
     "output_type": "stream",
     "text": [
      " /!\\  test data [48] has unpaired targets [0]\n",
      " /!\\  test data [66] has unpaired targets [0]\n"
     ]
    },
    {
     "data": {
      "text/plain": "  0%|          | 0/96 [00:00<?, ?it/s]",
      "application/vnd.jupyter.widget-view+json": {
       "version_major": 2,
       "version_minor": 0,
       "model_id": "c6d4dea83ac4472288fbff96f1dfe255"
      }
     },
     "metadata": {},
     "output_type": "display_data"
    },
    {
     "name": "stdout",
     "output_type": "stream",
     "text": [
      " /!\\  test data [48] has unpaired targets [0]\n",
      " /!\\  test data [66] has unpaired targets [0]\n"
     ]
    },
    {
     "data": {
      "text/plain": "  0%|          | 0/96 [00:00<?, ?it/s]",
      "application/vnd.jupyter.widget-view+json": {
       "version_major": 2,
       "version_minor": 0,
       "model_id": "080290eb0d684b108efc4917c88c292e"
      }
     },
     "metadata": {},
     "output_type": "display_data"
    },
    {
     "name": "stdout",
     "output_type": "stream",
     "text": [
      " /!\\  test data [48] has unpaired targets [0]\n",
      " /!\\  test data [66] has unpaired targets [0]\n",
      "special model, ignoring\n",
      "special model, ignoring\n"
     ]
    },
    {
     "data": {
      "text/plain": "  0%|          | 0/96 [00:00<?, ?it/s]",
      "application/vnd.jupyter.widget-view+json": {
       "version_major": 2,
       "version_minor": 0,
       "model_id": "8f56266724b044c3bd89ac9af48b5b73"
      }
     },
     "metadata": {},
     "output_type": "display_data"
    },
    {
     "name": "stdout",
     "output_type": "stream",
     "text": [
      " /!\\  test data [48] has unpaired targets [0]\n",
      " /!\\  test data [66] has unpaired targets [0]\n"
     ]
    },
    {
     "data": {
      "text/plain": "  0%|          | 0/96 [00:00<?, ?it/s]",
      "application/vnd.jupyter.widget-view+json": {
       "version_major": 2,
       "version_minor": 0,
       "model_id": "90603616f9ce4fc5b6e60543601f8320"
      }
     },
     "metadata": {},
     "output_type": "display_data"
    },
    {
     "name": "stdout",
     "output_type": "stream",
     "text": [
      " /!\\  test data [48] has unpaired targets [0]\n",
      " /!\\  test data [66] has unpaired targets [0]\n"
     ]
    },
    {
     "data": {
      "text/plain": "  0%|          | 0/96 [00:00<?, ?it/s]",
      "application/vnd.jupyter.widget-view+json": {
       "version_major": 2,
       "version_minor": 0,
       "model_id": "0caa6770b8224d38a6b3bf0dbf55e506"
      }
     },
     "metadata": {},
     "output_type": "display_data"
    },
    {
     "name": "stdout",
     "output_type": "stream",
     "text": [
      " /!\\  test data [48] has unpaired targets [0]\n",
      " /!\\  test data [66] has unpaired targets [0]\n",
      "special model, ignoring\n",
      "special model, ignoring\n"
     ]
    },
    {
     "data": {
      "text/plain": "  0%|          | 0/96 [00:00<?, ?it/s]",
      "application/vnd.jupyter.widget-view+json": {
       "version_major": 2,
       "version_minor": 0,
       "model_id": "c59cf1e6d23741f29b278dbe8f5f6637"
      }
     },
     "metadata": {},
     "output_type": "display_data"
    },
    {
     "name": "stdout",
     "output_type": "stream",
     "text": [
      " /!\\  test data [48] has unpaired targets [0]\n",
      " /!\\  test data [66] has unpaired targets [0]\n"
     ]
    },
    {
     "data": {
      "text/plain": "  0%|          | 0/96 [00:00<?, ?it/s]",
      "application/vnd.jupyter.widget-view+json": {
       "version_major": 2,
       "version_minor": 0,
       "model_id": "a47418939c6144789c1910f554c7827b"
      }
     },
     "metadata": {},
     "output_type": "display_data"
    },
    {
     "name": "stdout",
     "output_type": "stream",
     "text": [
      " /!\\  test data [48] has unpaired targets [0]\n",
      " /!\\  test data [66] has unpaired targets [0]\n"
     ]
    },
    {
     "data": {
      "text/plain": "  0%|          | 0/96 [00:00<?, ?it/s]",
      "application/vnd.jupyter.widget-view+json": {
       "version_major": 2,
       "version_minor": 0,
       "model_id": "8948fdcd3470459cb813cc134b44ef9c"
      }
     },
     "metadata": {},
     "output_type": "display_data"
    },
    {
     "name": "stdout",
     "output_type": "stream",
     "text": [
      " /!\\  test data [48] has unpaired targets [0]\n",
      " /!\\  test data [66] has unpaired targets [0]\n"
     ]
    },
    {
     "data": {
      "text/plain": "  0%|          | 0/96 [00:00<?, ?it/s]",
      "application/vnd.jupyter.widget-view+json": {
       "version_major": 2,
       "version_minor": 0,
       "model_id": "75da4a624788425e9fe84936a6ca6ded"
      }
     },
     "metadata": {},
     "output_type": "display_data"
    },
    {
     "name": "stdout",
     "output_type": "stream",
     "text": [
      " /!\\  test data [48] has unpaired targets [0]\n",
      " /!\\  test data [66] has unpaired targets [0]\n"
     ]
    },
    {
     "data": {
      "text/plain": "  0%|          | 0/96 [00:00<?, ?it/s]",
      "application/vnd.jupyter.widget-view+json": {
       "version_major": 2,
       "version_minor": 0,
       "model_id": "22ad20bc67c74411846348366ccb9dc4"
      }
     },
     "metadata": {},
     "output_type": "display_data"
    },
    {
     "name": "stdout",
     "output_type": "stream",
     "text": [
      " /!\\  test data [48] has unpaired targets [0]\n",
      " /!\\  test data [66] has unpaired targets [0]\n"
     ]
    },
    {
     "data": {
      "text/plain": "  0%|          | 0/96 [00:00<?, ?it/s]",
      "application/vnd.jupyter.widget-view+json": {
       "version_major": 2,
       "version_minor": 0,
       "model_id": "42aca614b5bd4b3095f71f2f14d4fb95"
      }
     },
     "metadata": {},
     "output_type": "display_data"
    },
    {
     "name": "stdout",
     "output_type": "stream",
     "text": [
      " /!\\  test data [48] has unpaired targets [0]\n",
      " /!\\  test data [66] has unpaired targets [0]\n",
      "special model, ignoring\n"
     ]
    },
    {
     "data": {
      "text/plain": "  0%|          | 0/96 [00:00<?, ?it/s]",
      "application/vnd.jupyter.widget-view+json": {
       "version_major": 2,
       "version_minor": 0,
       "model_id": "5534a3b9c89747d1848fb790f9acd63c"
      }
     },
     "metadata": {},
     "output_type": "display_data"
    },
    {
     "name": "stdout",
     "output_type": "stream",
     "text": [
      " /!\\  test data [48] has unpaired targets [0]\n",
      " /!\\  test data [66] has unpaired targets [0]\n"
     ]
    },
    {
     "data": {
      "text/plain": "  0%|          | 0/96 [00:00<?, ?it/s]",
      "application/vnd.jupyter.widget-view+json": {
       "version_major": 2,
       "version_minor": 0,
       "model_id": "7d004509439b45f4b12ddfd6ead84ba5"
      }
     },
     "metadata": {},
     "output_type": "display_data"
    },
    {
     "name": "stdout",
     "output_type": "stream",
     "text": [
      " /!\\  test data [48] has unpaired targets [0]\n",
      " /!\\  test data [66] has unpaired targets [0]\n"
     ]
    },
    {
     "data": {
      "text/plain": "  0%|          | 0/96 [00:00<?, ?it/s]",
      "application/vnd.jupyter.widget-view+json": {
       "version_major": 2,
       "version_minor": 0,
       "model_id": "5090eba07e26462a86227c733d202cc0"
      }
     },
     "metadata": {},
     "output_type": "display_data"
    },
    {
     "name": "stdout",
     "output_type": "stream",
     "text": [
      " /!\\  test data [48] has unpaired targets [0]\n",
      " /!\\  test data [66] has unpaired targets [0]\n"
     ]
    }
   ],
   "source": [
    "import tensorflow as tf\n",
    "from pathlib import Path\n",
    "from notebooks.setup import size\n",
    "from notebooks.utils import prepare_model\n",
    "\n",
    "model = prepare_model(inshape=size, sim_param=0, lambda_param=0, gamma_param=0)\n",
    "for checkpoints_dir in Path(f\"../../models\").iterdir():\n",
    "    info = checkpoints_dir.name.split(\"_\")\n",
    "    if len(info) > 3:\n",
    "        print(\"special model, ignoring\")\n",
    "        continue\n",
    "    _, lambda_param, gamma_param = info\n",
    "    latest_checkpoint = tf.train.latest_checkpoint(checkpoints_dir / \"checkpoints\")\n",
    "    model.load_weights(latest_checkpoint)\n",
    "\n",
    "    filename = f\"../../results/results_{lambda_param}_{gamma_param}\"\n",
    "    create_and_store_results(model, test_generator, filename)"
   ],
   "metadata": {
    "collapsed": false,
    "pycharm": {
     "name": "#%%\n"
    }
   }
  }
 ],
 "metadata": {
  "kernelspec": {
   "display_name": "Python 3 (ipykernel)",
   "language": "python",
   "name": "python3"
  },
  "language_info": {
   "codemirror_mode": {
    "name": "ipython",
    "version": 3
   },
   "file_extension": ".py",
   "mimetype": "text/x-python",
   "name": "python",
   "nbconvert_exporter": "python",
   "pygments_lexer": "ipython3",
   "version": "3.7.3"
  }
 },
 "nbformat": 4,
 "nbformat_minor": 1
}