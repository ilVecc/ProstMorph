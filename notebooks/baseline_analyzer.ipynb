{
 "cells": [
  {
   "cell_type": "code",
   "execution_count": 1,
   "outputs": [],
   "source": [
    "import SimpleITK as sitk\n",
    "from pathlib import Path\n",
    "import itertools\n",
    "import json\n",
    "import numpy as np\n",
    "from tqdm import tqdm\n",
    "from notebooks.utils import init_stats, store_stats, print_stats"
   ],
   "metadata": {
    "collapsed": false,
    "pycharm": {
     "name": "#%%\n"
    }
   }
  },
  {
   "cell_type": "markdown",
   "source": [
    "# Compute Slicer baseline\n",
    "\n",
    "Here we morph prostates and targets using the Prostate MRI-US Contour Propagation algorithm and we collect the Dice coefficient between warped\n",
    "MRI and US, for both prostates and targets. We also compute some shape errors on the targets, like centroid distance, volume and roundness difference."
   ],
   "metadata": {
    "collapsed": false
   }
  },
  {
   "cell_type": "code",
   "execution_count": 7,
   "outputs": [],
   "source": [
    "base_path = Path(r\"R:\\DATASET_PROSTATE\")\n",
    "path_reg = base_path / \"reg\"\n",
    "path_mr = base_path / \"mri\"\n",
    "path_us = base_path / \"us\"\n",
    "\n",
    "dice_filter = sitk.LabelOverlapMeasuresImageFilter()\n",
    "shape_filter = sitk.LabelShapeStatisticsImageFilter()\n",
    "shape_filter.ComputePerimeterOff()\n",
    "shape_filter.ComputeFeretDiameterOff()\n",
    "shape_filter.ComputeOrientedBoundingBoxOff()\n",
    "\n",
    "def load_and_stats(mr_seg_path, us_seg_path, transform_pre, transform_def, shape_stats=False, eval_deformation=True, eval_initial=True):\n",
    "    # load\n",
    "    mr_seg = sitk.ReadImage(str(mr_seg_path), imageIO=\"NrrdImageIO\")\n",
    "    us_seg = sitk.ReadImage(str(us_seg_path), imageIO=\"NrrdImageIO\")\n",
    "    # deform MR\n",
    "    transform = sitk.CompositeTransform(transform_pre)\n",
    "    transform.AddTransform(transform_def)\n",
    "    mr_seg_def = sitk.Resample(mr_seg, us_seg, transform, sitk.sitkNearestNeighbor)\n",
    "\n",
    "    stats = {}\n",
    "\n",
    "    ###\n",
    "    #  Get stats of MR_def and US\n",
    "    ###\n",
    "\n",
    "    # calculate Dice between MR and US\n",
    "    dice_filter.Execute(us_seg, mr_seg_def)\n",
    "    stats[\"dice\"] = dice_filter.GetDiceCoefficient()\n",
    "\n",
    "    if shape_stats:\n",
    "        # calculate other stats\n",
    "        shape_filter.Execute(mr_seg_def)\n",
    "        # get MR stats\n",
    "        if shape_filter.GetNumberOfLabels() > 0:\n",
    "            mr_def_centroid = np.array(shape_filter.GetCentroid(1))\n",
    "            mr_def_elongation = shape_filter.GetElongation(1)\n",
    "            mr_def_roundness = shape_filter.GetRoundness(1)\n",
    "            mr_def_flatness = shape_filter.GetFlatness(1)\n",
    "            mr_def_size = shape_filter.GetPhysicalSize(1)\n",
    "        else:\n",
    "            print(\"MR segmentation annihilated after deformation, no results here...\")\n",
    "            mr_def_centroid = np.array([np.inf, np.inf, np.inf])\n",
    "            mr_def_elongation = 0\n",
    "            mr_def_roundness = 0\n",
    "            mr_def_flatness = 0\n",
    "            mr_def_size = np.inf\n",
    "\n",
    "        # get US stats\n",
    "        shape_filter.Execute(us_seg)\n",
    "        us_centroid = np.array(shape_filter.GetCentroid(1))\n",
    "        us_elongation = shape_filter.GetElongation(1)\n",
    "        us_roundness = shape_filter.GetRoundness(1)\n",
    "        us_flatness = shape_filter.GetFlatness(1)\n",
    "        us_size = shape_filter.GetPhysicalSize(1)\n",
    "\n",
    "        # get the errors\n",
    "        stats[\"error_centroid\"] = np.linalg.norm(mr_def_centroid - us_centroid)\n",
    "        stats[\"error_elongation\"] = np.linalg.norm(mr_def_elongation - us_elongation)\n",
    "        stats[\"error_roundness\"] = np.linalg.norm(mr_def_roundness - us_roundness)\n",
    "        stats[\"error_flatness\"] = np.linalg.norm(mr_def_flatness - us_flatness)\n",
    "        stats[\"error_size\"] = np.linalg.norm(mr_def_size - us_size)\n",
    "\n",
    "    ###\n",
    "    #  Get stats of MR pre- and post-deformation\n",
    "    ###\n",
    "    if eval_initial or eval_deformation:\n",
    "        # images must be in same space for the Dice filter!\n",
    "        mr_seg = sitk.Resample(mr_seg, us_seg, transform_pre, sitk.sitkNearestNeighbor)\n",
    "        # get MR stats\n",
    "        shape_filter.Execute(mr_seg)\n",
    "        mr_centroid = np.array(shape_filter.GetCentroid(1))\n",
    "        mr_elongation = shape_filter.GetElongation(1)\n",
    "        mr_roundness = shape_filter.GetRoundness(1)\n",
    "        mr_flatness = shape_filter.GetFlatness(1)\n",
    "        mr_size = shape_filter.GetPhysicalSize(1)\n",
    "\n",
    "    if eval_deformation:\n",
    "        # calculate Dice between MR and MR_def\n",
    "        dice_filter.Execute(mr_seg, mr_seg_def)\n",
    "        stats[\"dice_def\"] = dice_filter.GetDiceCoefficient()\n",
    "\n",
    "        if shape_stats:\n",
    "            # get the errors\n",
    "            stats[\"error_centroid_def\"] = np.linalg.norm(mr_def_centroid - mr_centroid)\n",
    "            stats[\"error_elongation_def\"] = np.linalg.norm(mr_def_elongation - mr_elongation)\n",
    "            stats[\"error_roundness_def\"] = np.linalg.norm(mr_def_roundness - mr_roundness)\n",
    "            stats[\"error_flatness_def\"] = np.linalg.norm(mr_def_flatness - mr_flatness)\n",
    "            stats[\"error_size_def\"] = np.linalg.norm(mr_def_size - mr_size)\n",
    "\n",
    "    if eval_initial:\n",
    "        # calculate Dice between MR and US\n",
    "        dice_filter.Execute(mr_seg, us_seg)\n",
    "        stats[\"dice_pre\"] = dice_filter.GetDiceCoefficient()\n",
    "\n",
    "        if shape_stats:\n",
    "            # get the errors\n",
    "            stats[\"error_centroid_pre\"] = np.linalg.norm(mr_centroid - us_centroid)\n",
    "            stats[\"error_elongation_pre\"] = np.linalg.norm(mr_elongation - us_elongation)\n",
    "            stats[\"error_roundness_pre\"] = np.linalg.norm(mr_roundness - us_roundness)\n",
    "            stats[\"error_flatness_pre\"] = np.linalg.norm(mr_flatness - us_flatness)\n",
    "            stats[\"error_size_pre\"] = np.linalg.norm(mr_size - us_size)\n",
    "\n",
    "    return stats\n",
    "\n",
    "def create_baseline_data(path_reg_patient, path_mr_data, path_us_data):\n",
    "\n",
    "    results = {}\n",
    "\n",
    "    # find the files\n",
    "    path_pre = path_reg_patient / f\"pre_{path_mr_data.name}_{path_us_data.name}.h5\"\n",
    "    path_def = path_reg_patient / f\"def_{path_mr_data.name}_{path_us_data.name}.h5\"\n",
    "    # load the transforms\n",
    "    trans_pre = sitk.ReadTransform(str(path_pre))\n",
    "    trans_def = sitk.ReadTransform(str(path_def))\n",
    "\n",
    "    #######\n",
    "    # Dice of prostate\n",
    "    paths_prostate_mr = list(path_mr_data.rglob(\"Prostate*\"))[0]\n",
    "    paths_prostate_us = list(path_us_data.rglob(\"Prostate*\"))[0]\n",
    "    stats = load_and_stats(paths_prostate_mr, paths_prostate_us, trans_pre, trans_def, shape_stats=False)\n",
    "    results[f\"prostate\"] = stats\n",
    "    # print(f\"\\t\\tdone prostate: {stats['dice']*100:.2f}%\")\n",
    "\n",
    "    #######\n",
    "    # Dice of targets\n",
    "    paths_targets_mr = sorted(path_mr_data.rglob(\"Target*\"))\n",
    "    paths_targets_us = sorted(path_us_data.rglob(\"Target*\"))\n",
    "    length = min(len(paths_targets_mr), len(paths_targets_us))\n",
    "    # for each pair of targets (here we consider targets with same names, since they are the same actual target)\n",
    "    for path_target_mr, path_target_us in zip(paths_targets_mr[:length], paths_targets_us[:length]):\n",
    "        # make names\n",
    "        mr_target_name, us_target_name = path_target_mr.stem.split('_')[0], path_target_us.stem.split('_')[0]\n",
    "        # find stats\n",
    "        stats = load_and_stats(path_target_mr, path_target_us, trans_pre, trans_def, shape_stats=True)\n",
    "        results[f\"{mr_target_name}_{us_target_name}\"] = stats\n",
    "        # log some stats\n",
    "        # print(f\"\\t\\tdone {mr_target_name} vs {us_target_name}: {stats['dice']*100:.2f}%  --  {stats['error_centroid']:.2f} mm\")\n",
    "\n",
    "    return results"
   ],
   "metadata": {
    "collapsed": false,
    "pycharm": {
     "name": "#%%\n"
    }
   }
  },
  {
   "cell_type": "markdown",
   "source": [
    "Compute all of the cases"
   ],
   "metadata": {
    "collapsed": false
   }
  },
  {
   "cell_type": "code",
   "execution_count": null,
   "outputs": [],
   "source": [
    "def batch_create_baseline(path_reg, path_mr, path_us):\n",
    "    # create data for each patient registration\n",
    "    for reg_patient in tqdm(path_reg.iterdir()):\n",
    "        print(f\"{reg_patient.name}\")\n",
    "        mr_patient, us_patient = path_mr / reg_patient.name, path_us / reg_patient.name\n",
    "        mr_data_names, us_data_names = [f.name for f in mr_patient.iterdir()], [f.name for f in us_patient.iterdir()]\n",
    "\n",
    "        for mr_data_name, us_data_name in itertools.product(mr_data_names, us_data_names):\n",
    "            # prepare patient folders\n",
    "            mr_data, us_data = mr_patient / mr_data_name, us_patient / us_data_name\n",
    "            print(f\"\\t{mr_data.name} | {us_data.name}\")\n",
    "\n",
    "            results = create_baseline_data(reg_patient, mr_data, us_data)\n",
    "\n",
    "            # save everything\n",
    "            with open(str(reg_patient / f\"results_{mr_data_name}_{us_data_name}.json\"), \"w\") as f:\n",
    "                json.dump(results, f)\n",
    "\n",
    "batch_create_baseline(path_reg, path_mr, path_us)"
   ],
   "metadata": {
    "collapsed": false,
    "pycharm": {
     "name": "#%%\n"
    }
   }
  },
  {
   "cell_type": "markdown",
   "source": [
    "Compute a specific subset of cases"
   ],
   "metadata": {
    "collapsed": false
   }
  },
  {
   "cell_type": "code",
   "execution_count": null,
   "outputs": [],
   "source": [
    "base_path = Path(r\"R:\\DATASET_PROSTATE\")\n",
    "path_reg = base_path / \"reg\"\n",
    "path_mr = base_path / \"mri\"\n",
    "path_us = base_path / \"us\"\n",
    "\n",
    "dice_filter = sitk.LabelOverlapMeasuresImageFilter()\n",
    "shape_filter = sitk.LabelShapeStatisticsImageFilter()\n",
    "shape_filter.ComputePerimeterOff()\n",
    "shape_filter.ComputeFeretDiameterOff()\n",
    "shape_filter.ComputeOrientedBoundingBoxOff()\n",
    "\n",
    "def tmp_load(mr_seg_path, us_seg_path, transform_pre):\n",
    "    # load\n",
    "    mr_seg = sitk.ReadImage(str(mr_seg_path), imageIO=\"NrrdImageIO\")\n",
    "    us_seg = sitk.ReadImage(str(us_seg_path), imageIO=\"NrrdImageIO\")\n",
    "    # images must be in same space for the Dice filter!\n",
    "    mr_seg = sitk.Resample(mr_seg, us_seg, transform_pre, sitk.sitkNearestNeighbor)\n",
    "\n",
    "    stats = {}\n",
    "\n",
    "    # get US stats\n",
    "    shape_filter.Execute(us_seg)\n",
    "    us_centroid = np.array(shape_filter.GetCentroid(1))\n",
    "    us_elongation = shape_filter.GetElongation(1)\n",
    "    us_roundness = shape_filter.GetRoundness(1)\n",
    "    us_flatness = shape_filter.GetFlatness(1)\n",
    "    us_size = shape_filter.GetPhysicalSize(1)\n",
    "\n",
    "    # get MR stats\n",
    "    shape_filter.Execute(mr_seg)\n",
    "    mr_centroid = np.array(shape_filter.GetCentroid(1))\n",
    "    mr_elongation = shape_filter.GetElongation(1)\n",
    "    mr_roundness = shape_filter.GetRoundness(1)\n",
    "    mr_flatness = shape_filter.GetFlatness(1)\n",
    "    mr_size = shape_filter.GetPhysicalSize(1)\n",
    "\n",
    "    # calculate Dice between MR and US\n",
    "    dice_filter.Execute(mr_seg, us_seg)\n",
    "    stats[\"dice_pre\"] = dice_filter.GetDiceCoefficient()\n",
    "\n",
    "    # get the errors\n",
    "    stats[\"error_centroid_pre\"] = np.linalg.norm(mr_centroid - us_centroid)\n",
    "    stats[\"error_elongation_pre\"] = np.linalg.norm(mr_elongation - us_elongation)\n",
    "    stats[\"error_roundness_pre\"] = np.linalg.norm(mr_roundness - us_roundness)\n",
    "    stats[\"error_flatness_pre\"] = np.linalg.norm(mr_flatness - us_flatness)\n",
    "    stats[\"error_size_pre\"] = np.linalg.norm(mr_size - us_size)\n",
    "\n",
    "    return stats\n",
    "\n",
    "def tmp(path_reg_patient, path_mr_data, path_us_data):\n",
    "\n",
    "    results = {}\n",
    "\n",
    "    # find the files\n",
    "    path_pre = path_reg_patient / f\"pre_{path_mr_data.name}_{path_us_data.name}.h5\"\n",
    "    # load the transforms\n",
    "    trans_pre = sitk.ReadTransform(str(path_pre))\n",
    "\n",
    "    #######\n",
    "    # Dice of prostate\n",
    "    paths_prostate_mr = list(path_mr_data.rglob(\"Prostate*\"))[0]\n",
    "    paths_prostate_us = list(path_us_data.rglob(\"Prostate*\"))[0]\n",
    "    results[f\"prostate\"] = tmp_load(paths_prostate_mr, paths_prostate_us, trans_pre)\n",
    "\n",
    "    #######\n",
    "    # Dice of targets\n",
    "    paths_targets_mr = sorted(path_mr_data.rglob(\"Target*\"))\n",
    "    paths_targets_us = sorted(path_us_data.rglob(\"Target*\"))\n",
    "    length = min(len(paths_targets_mr), len(paths_targets_us))\n",
    "    # for each pair of targets (here we consider targets with same names, since they are the same actual target)\n",
    "    for path_target_mr, path_target_us in zip(paths_targets_mr[:length], paths_targets_us[:length]):\n",
    "        # make names\n",
    "        mr_target_name, us_target_name = path_target_mr.stem.split('_')[0], path_target_us.stem.split('_')[0]\n",
    "        # find stats\n",
    "        results[f\"{mr_target_name}_{us_target_name}\"] = tmp_load(path_target_mr, path_target_us, trans_pre)\n",
    "\n",
    "    return results\n",
    "\n",
    "\n",
    "paths = [Path(r\"R:\\DATASET_PROSTATE\\numpy_160\\paziente507_Dato2_Dato2.npz\"),\n",
    "Path(r\"R:\\DATASET_PROSTATE\\numpy_160\\paziente999_Dato1_Dato1.npz\"),\n",
    "Path(r\"R:\\DATASET_PROSTATE\\numpy_160\\paziente331_Dato1_Dato1.npz\"),\n",
    "Path(r\"R:\\DATASET_PROSTATE\\numpy_160\\paziente949_Dato1_Dato1.npz\"),\n",
    "Path(r\"R:\\DATASET_PROSTATE\\numpy_160\\paziente103_Dato1_Dato2.npz\"),\n",
    "Path(r\"R:\\DATASET_PROSTATE\\numpy_160\\paziente622_Dato1_Dato1.npz\"),\n",
    "Path(r\"R:\\DATASET_PROSTATE\\numpy_160\\paziente255_Dato1_Dato1.npz\"),\n",
    "Path(r\"R:\\DATASET_PROSTATE\\numpy_160\\paziente134_Dato3_Dato2.npz\"),\n",
    "Path(r\"R:\\DATASET_PROSTATE\\numpy_160\\paziente1043_Dato1_Dato1.npz\"),\n",
    "Path(r\"R:\\DATASET_PROSTATE\\numpy_160\\paziente640_Dato1_Dato3.npz\"),\n",
    "Path(r\"R:\\DATASET_PROSTATE\\numpy_160\\paziente461_Dato1_Dato2.npz\"),\n",
    "Path(r\"R:\\DATASET_PROSTATE\\numpy_160\\paziente9_Dato2_Dato1.npz\"),\n",
    "Path(r\"R:\\DATASET_PROSTATE\\numpy_160\\paziente213_Dato2_Dato3.npz\"),\n",
    "Path(r\"R:\\DATASET_PROSTATE\\numpy_160\\paziente38_Dato1_Dato2.npz\"),\n",
    "Path(r\"R:\\DATASET_PROSTATE\\numpy_160\\paziente443_Dato1_Dato1.npz\"),\n",
    "Path(r\"R:\\DATASET_PROSTATE\\numpy_160\\paziente911_Dato1_Dato3.npz\"),\n",
    "Path(r\"R:\\DATASET_PROSTATE\\numpy_160\\paziente675_Dato2_Dato2.npz\"),\n",
    "Path(r\"R:\\DATASET_PROSTATE\\numpy_160\\paziente250_Dato1_Dato1.npz\"),\n",
    "Path(r\"R:\\DATASET_PROSTATE\\numpy_160\\paziente563_Dato1_Dato1.npz\"),\n",
    "Path(r\"R:\\DATASET_PROSTATE\\numpy_160\\paziente501_Dato1_Dato4.npz\"),\n",
    "Path(r\"R:\\DATASET_PROSTATE\\numpy_160\\paziente1_Dato1_Dato2.npz\"),\n",
    "Path(r\"R:\\DATASET_PROSTATE\\numpy_160\\paziente203_Dato1_Dato2.npz\"),\n",
    "Path(r\"R:\\DATASET_PROSTATE\\numpy_160\\paziente202_Dato1_Dato3.npz\"),\n",
    "Path(r\"R:\\DATASET_PROSTATE\\numpy_160\\paziente1142_Dato1_Dato1.npz\"),\n",
    "Path(r\"R:\\DATASET_PROSTATE\\numpy_160\\paziente335_Dato1_Dato1.npz\"),\n",
    "Path(r\"R:\\DATASET_PROSTATE\\numpy_160\\paziente382_Dato1_Dato1.npz\"),\n",
    "Path(r\"R:\\DATASET_PROSTATE\\numpy_160\\paziente563_Dato2_Dato2.npz\"),\n",
    "Path(r\"R:\\DATASET_PROSTATE\\numpy_160\\paziente663_Dato1_Dato2.npz\"),\n",
    "Path(r\"R:\\DATASET_PROSTATE\\numpy_160\\paziente173_Dato1_Dato1.npz\"),\n",
    "Path(r\"R:\\DATASET_PROSTATE\\numpy_160\\paziente152_Dato1_Dato1.npz\"),\n",
    "Path(r\"R:\\DATASET_PROSTATE\\numpy_160\\paziente576_Dato1_Dato1.npz\"),\n",
    "Path(r\"R:\\DATASET_PROSTATE\\numpy_160\\paziente848_Dato1_Dato1.npz\"),\n",
    "Path(r\"R:\\DATASET_PROSTATE\\numpy_160\\paziente911_Dato2_Dato2.npz\"),\n",
    "Path(r\"R:\\DATASET_PROSTATE\\numpy_160\\paziente13_Dato1_Dato3.npz\"),\n",
    "Path(r\"R:\\DATASET_PROSTATE\\numpy_160\\paziente282_Dato2_Dato2.npz\"),\n",
    "Path(r\"R:\\DATASET_PROSTATE\\numpy_160\\paziente608_Dato1_Dato2.npz\"),\n",
    "Path(r\"R:\\DATASET_PROSTATE\\numpy_160\\paziente177_Dato1_Dato2.npz\"),\n",
    "Path(r\"R:\\DATASET_PROSTATE\\numpy_160\\paziente676_Dato2_Dato3.npz\"),\n",
    "Path(r\"R:\\DATASET_PROSTATE\\numpy_160\\paziente364_Dato1_Dato1.npz\"),\n",
    "Path(r\"R:\\DATASET_PROSTATE\\numpy_160\\paziente220_Dato1_Dato1.npz\"),\n",
    "Path(r\"R:\\DATASET_PROSTATE\\numpy_160\\paziente640_Dato2_Dato2.npz\"),\n",
    "Path(r\"R:\\DATASET_PROSTATE\\numpy_160\\paziente493_Dato1_Dato1.npz\"),\n",
    "Path(r\"R:\\DATASET_PROSTATE\\numpy_160\\paziente400_Dato1_Dato2.npz\"),\n",
    "Path(r\"R:\\DATASET_PROSTATE\\numpy_160\\paziente1078_Dato2_Dato1.npz\"),\n",
    "Path(r\"R:\\DATASET_PROSTATE\\numpy_160\\paziente1039_Dato1_Dato1.npz\"),\n",
    "Path(r\"R:\\DATASET_PROSTATE\\numpy_160\\paziente610_Dato2_Dato2.npz\"),\n",
    "Path(r\"R:\\DATASET_PROSTATE\\numpy_160\\paziente289_Dato1_Dato1.npz\"),\n",
    "Path(r\"R:\\DATASET_PROSTATE\\numpy_160\\paziente213_Dato1_Dato2.npz\"),\n",
    "Path(r\"R:\\DATASET_PROSTATE\\numpy_160\\paziente349_Dato1_Dato2.npz\"),\n",
    "Path(r\"R:\\DATASET_PROSTATE\\numpy_160\\paziente22_Dato1_Dato2.npz\"),\n",
    "Path(r\"R:\\DATASET_PROSTATE\\numpy_160\\paziente892_Dato1_Dato1.npz\"),\n",
    "Path(r\"R:\\DATASET_PROSTATE\\numpy_160\\paziente373_Dato1_Dato1.npz\"),\n",
    "Path(r\"R:\\DATASET_PROSTATE\\numpy_160\\paziente1048_Dato1_Dato2.npz\"),\n",
    "Path(r\"R:\\DATASET_PROSTATE\\numpy_160\\paziente971_Dato2_Dato1.npz\"),\n",
    "Path(r\"R:\\DATASET_PROSTATE\\numpy_160\\paziente306_Dato1_Dato1.npz\"),\n",
    "Path(r\"R:\\DATASET_PROSTATE\\numpy_160\\paziente61_Dato2_Dato6.npz\"),\n",
    "Path(r\"R:\\DATASET_PROSTATE\\numpy_160\\paziente459_Dato1_Dato2.npz\"),\n",
    "Path(r\"R:\\DATASET_PROSTATE\\numpy_160\\paziente554_Dato1_Dato1.npz\"),\n",
    "Path(r\"R:\\DATASET_PROSTATE\\numpy_160\\paziente110_Dato1_Dato1.npz\"),\n",
    "Path(r\"R:\\DATASET_PROSTATE\\numpy_160\\paziente816_Dato1_Dato1.npz\"),\n",
    "Path(r\"R:\\DATASET_PROSTATE\\numpy_160\\paziente231_Dato2_Dato4.npz\"),\n",
    "Path(r\"R:\\DATASET_PROSTATE\\numpy_160\\paziente819_Dato1_Dato1.npz\"),\n",
    "Path(r\"R:\\DATASET_PROSTATE\\numpy_160\\paziente672_Dato1_Dato1.npz\"),\n",
    "Path(r\"R:\\DATASET_PROSTATE\\numpy_160\\paziente229_Dato1_Dato3.npz\"),\n",
    "Path(r\"R:\\DATASET_PROSTATE\\numpy_160\\paziente486_Dato1_Dato1.npz\"),\n",
    "Path(r\"R:\\DATASET_PROSTATE\\numpy_160\\paziente24_Dato2_Dato2.npz\"),\n",
    "Path(r\"R:\\DATASET_PROSTATE\\numpy_160\\paziente677_Dato1_Dato1.npz\"),\n",
    "Path(r\"R:\\DATASET_PROSTATE\\numpy_160\\paziente685_Dato1_Dato3.npz\"),\n",
    "Path(r\"R:\\DATASET_PROSTATE\\numpy_160\\paziente688_Dato1_Dato1.npz\"),\n",
    "Path(r\"R:\\DATASET_PROSTATE\\numpy_160\\paziente117_Dato2_Dato3.npz\"),\n",
    "Path(r\"R:\\DATASET_PROSTATE\\numpy_160\\paziente1092_Dato1_Dato1.npz\"),\n",
    "Path(r\"R:\\DATASET_PROSTATE\\numpy_160\\paziente1028_Dato1_Dato1.npz\"),\n",
    "Path(r\"R:\\DATASET_PROSTATE\\numpy_160\\paziente698_Dato1_Dato1.npz\"),\n",
    "Path(r\"R:\\DATASET_PROSTATE\\numpy_160\\paziente247_Dato1_Dato1.npz\"),\n",
    "Path(r\"R:\\DATASET_PROSTATE\\numpy_160\\paziente523_Dato4_Dato3.npz\"),\n",
    "Path(r\"R:\\DATASET_PROSTATE\\numpy_160\\paziente566_Dato2_Dato2.npz\"),\n",
    "Path(r\"R:\\DATASET_PROSTATE\\numpy_160\\paziente760_Dato1_Dato4.npz\"),\n",
    "Path(r\"R:\\DATASET_PROSTATE\\numpy_160\\paziente507_Dato4_Dato3.npz\"),\n",
    "Path(r\"R:\\DATASET_PROSTATE\\numpy_160\\paziente217_Dato2_Dato3.npz\"),\n",
    "Path(r\"R:\\DATASET_PROSTATE\\numpy_160\\paziente529_Dato1_Dato4.npz\"),\n",
    "Path(r\"R:\\DATASET_PROSTATE\\numpy_160\\paziente1134_Dato1_Dato1.npz\"),\n",
    "Path(r\"R:\\DATASET_PROSTATE\\numpy_160\\paziente613_Dato2_Dato2.npz\"),\n",
    "Path(r\"R:\\DATASET_PROSTATE\\numpy_160\\paziente960_Dato1_Dato1.npz\"),\n",
    "Path(r\"R:\\DATASET_PROSTATE\\numpy_160\\paziente89_Dato2_Dato2.npz\"),\n",
    "Path(r\"R:\\DATASET_PROSTATE\\numpy_160\\paziente597_Dato1_Dato1.npz\"),\n",
    "Path(r\"R:\\DATASET_PROSTATE\\numpy_160\\paziente432_Dato2_Dato2.npz\"),\n",
    "Path(r\"R:\\DATASET_PROSTATE\\numpy_160\\paziente569_Dato1_Dato2.npz\"),\n",
    "Path(r\"R:\\DATASET_PROSTATE\\numpy_160\\paziente1055_Dato1_Dato1.npz\"),\n",
    "Path(r\"R:\\DATASET_PROSTATE\\numpy_160\\paziente1022_Dato1_Dato1.npz\"),\n",
    "Path(r\"R:\\DATASET_PROSTATE\\numpy_160\\paziente817_Dato1_Dato1.npz\"),\n",
    "Path(r\"R:\\DATASET_PROSTATE\\numpy_160\\paziente720_Dato4_Dato3.npz\"),\n",
    "Path(r\"R:\\DATASET_PROSTATE\\numpy_160\\paziente326_Dato1_Dato3.npz\"),\n",
    "Path(r\"R:\\DATASET_PROSTATE\\numpy_160\\paziente773_Dato1_Dato2.npz\"),\n",
    "Path(r\"R:\\DATASET_PROSTATE\\numpy_160\\paziente665_Dato1_Dato1.npz\"),\n",
    "Path(r\"R:\\DATASET_PROSTATE\\numpy_160\\paziente823_Dato2_Dato2.npz\"),\n",
    "Path(r\"R:\\DATASET_PROSTATE\\numpy_160\\paziente823_Dato1_Dato1.npz\")]\n",
    "\n",
    "def batch_create_baseline_paths(paths):\n",
    "    # create data for each patient registration\n",
    "    for case in tqdm(paths):\n",
    "        print(f\"{case.stem}\")\n",
    "        patient_name, mr_data_name, us_data_name = case.stem.split(\"_\")\n",
    "        reg_patient, mr_patient, us_patient = path_reg / patient_name, path_mr / patient_name, path_us / patient_name\n",
    "\n",
    "        # prepare patient folders\n",
    "        mr_data, us_data = mr_patient / mr_data_name, us_patient / us_data_name\n",
    "        print(f\"\\t{mr_data.name} | {us_data.name}\")\n",
    "\n",
    "        with open(str(reg_patient / f\"results_{mr_data_name}_{us_data_name}.json\"), \"r\") as f:\n",
    "            results = json.load(f)\n",
    "\n",
    "        # results = create_baseline_data(reg_patient, mr_data, us_data)\n",
    "        new_results = tmp(reg_patient, mr_data, us_data)\n",
    "\n",
    "        for k in results.keys():\n",
    "            results[k] = {**results[k], **new_results[k]}\n",
    "\n",
    "        # save everything\n",
    "        with open(str(reg_patient / f\"results_{mr_data_name}_{us_data_name}.json\"), \"w\") as f:\n",
    "            json.dump(results, f)\n",
    "\n",
    "batch_create_baseline_paths(paths)"
   ],
   "metadata": {
    "collapsed": false,
    "pycharm": {
     "name": "#%%\n"
    }
   }
  },
  {
   "cell_type": "markdown",
   "source": [
    "# Evaluate Slicer baseline"
   ],
   "metadata": {
    "collapsed": false
   }
  },
  {
   "cell_type": "code",
   "execution_count": 2,
   "outputs": [],
   "source": [
    "def calculate_score_paths(results_list):\n",
    "    scores = {\n",
    "        \"prostate_dice\": [], \"target_dice\": [], \"target_error\": [],\n",
    "        \"prostate_dice_def\": [], \"target_dice_def\": [], \"target_error_def\": [],\n",
    "        \"prostate_dice_pre\": [], \"target_dice_pre\": [], \"target_error_pre\": []\n",
    "    }\n",
    "    for stats_file in results_list:\n",
    "        with open(stats_file, \"r\", encoding=\"utf8\") as f:\n",
    "            stats = json.load(f)\n",
    "            scores[\"prostate_dice\"].append(stats[\"prostate\"][\"dice\"])\n",
    "            scores[\"prostate_dice_def\"].append(stats[\"prostate\"][\"dice_def\"])\n",
    "            scores[\"prostate_dice_pre\"].append(stats[\"prostate\"][\"dice_pre\"])\n",
    "            stats = [stats[k] for k in stats.keys() if k != \"prostate\"]\n",
    "            scores[\"target_dice\"].extend([s['dice'] for s in stats])\n",
    "            scores[\"target_error\"].extend([s['error_centroid'] for s in stats])\n",
    "            scores[\"target_dice_def\"].extend([s['dice_def'] for s in stats])\n",
    "            scores[\"target_error_def\"].extend([s['error_centroid_def'] for s in stats])\n",
    "            scores[\"target_dice_pre\"].extend([s['dice_pre'] for s in stats])\n",
    "            scores[\"target_error_pre\"].extend([s['error_centroid_pre'] for s in stats])\n",
    "\n",
    "    # convert everything to ndarray\n",
    "    for k in scores.keys():\n",
    "        scores[k] = np.array(scores[k])\n",
    "\n",
    "    return scores\n",
    "\n",
    "def calculate_score(base_folder):\n",
    "    scores = {\n",
    "        \"prostate_dice\": [], \"target_dice\": [], \"target_error\": [],\n",
    "        \"prostate_dice_def\": [], \"target_dice_def\": [], \"target_error_def\": [],\n",
    "        \"prostate_dice_pre\": [], \"target_dice_pre\": [], \"target_error_pre\": []\n",
    "    }\n",
    "    for folder in base_folder.iterdir():\n",
    "        folder_scores = calculate_score_paths(folder.rglob(\"results*\"))\n",
    "        for k in folder_scores.keys():\n",
    "            scores[k].extend(folder_scores[k])\n",
    "\n",
    "    for k in scores.keys():\n",
    "        scores[k] = np.array(scores[k])\n",
    "\n",
    "    return scores"
   ],
   "metadata": {
    "collapsed": false,
    "pycharm": {
     "name": "#%%\n"
    }
   }
  },
  {
   "cell_type": "markdown",
   "source": [
    "Evaluate all the cases"
   ],
   "metadata": {
    "collapsed": false
   }
  },
  {
   "cell_type": "code",
   "execution_count": null,
   "outputs": [],
   "source": [
    "reg_folder = Path(r\"R:\\DATASET_PROSTATE\\reg\")\n",
    "results = calculate_score(reg_folder)"
   ],
   "metadata": {
    "collapsed": false,
    "pycharm": {
     "name": "#%%\n"
    }
   }
  },
  {
   "cell_type": "markdown",
   "source": [
    "Evaluate the subset of cases"
   ],
   "metadata": {
    "collapsed": false
   }
  },
  {
   "cell_type": "code",
   "execution_count": 5,
   "outputs": [],
   "source": [
    "reg_folder = Path(r\"R:\\DATASET_PROSTATE\\reg\")\n",
    "paths = [Path(r\"R:\\DATASET_PROSTATE\\numpy_160\\paziente507_Dato2_Dato2.npz\"),\n",
    "Path(r\"R:\\DATASET_PROSTATE\\numpy_160\\paziente999_Dato1_Dato1.npz\"),\n",
    "Path(r\"R:\\DATASET_PROSTATE\\numpy_160\\paziente331_Dato1_Dato1.npz\"),\n",
    "Path(r\"R:\\DATASET_PROSTATE\\numpy_160\\paziente949_Dato1_Dato1.npz\"),\n",
    "Path(r\"R:\\DATASET_PROSTATE\\numpy_160\\paziente103_Dato1_Dato2.npz\"),\n",
    "Path(r\"R:\\DATASET_PROSTATE\\numpy_160\\paziente622_Dato1_Dato1.npz\"),\n",
    "Path(r\"R:\\DATASET_PROSTATE\\numpy_160\\paziente255_Dato1_Dato1.npz\"),\n",
    "Path(r\"R:\\DATASET_PROSTATE\\numpy_160\\paziente134_Dato3_Dato2.npz\"),\n",
    "Path(r\"R:\\DATASET_PROSTATE\\numpy_160\\paziente1043_Dato1_Dato1.npz\"),\n",
    "Path(r\"R:\\DATASET_PROSTATE\\numpy_160\\paziente640_Dato1_Dato3.npz\"),\n",
    "Path(r\"R:\\DATASET_PROSTATE\\numpy_160\\paziente461_Dato1_Dato2.npz\"),\n",
    "Path(r\"R:\\DATASET_PROSTATE\\numpy_160\\paziente9_Dato2_Dato1.npz\"),\n",
    "Path(r\"R:\\DATASET_PROSTATE\\numpy_160\\paziente213_Dato2_Dato3.npz\"),\n",
    "Path(r\"R:\\DATASET_PROSTATE\\numpy_160\\paziente38_Dato1_Dato2.npz\"),\n",
    "Path(r\"R:\\DATASET_PROSTATE\\numpy_160\\paziente443_Dato1_Dato1.npz\"),\n",
    "Path(r\"R:\\DATASET_PROSTATE\\numpy_160\\paziente911_Dato1_Dato3.npz\"),\n",
    "Path(r\"R:\\DATASET_PROSTATE\\numpy_160\\paziente675_Dato2_Dato2.npz\"),\n",
    "Path(r\"R:\\DATASET_PROSTATE\\numpy_160\\paziente250_Dato1_Dato1.npz\"),\n",
    "Path(r\"R:\\DATASET_PROSTATE\\numpy_160\\paziente563_Dato1_Dato1.npz\"),\n",
    "Path(r\"R:\\DATASET_PROSTATE\\numpy_160\\paziente501_Dato1_Dato4.npz\"),\n",
    "Path(r\"R:\\DATASET_PROSTATE\\numpy_160\\paziente1_Dato1_Dato2.npz\"),\n",
    "Path(r\"R:\\DATASET_PROSTATE\\numpy_160\\paziente203_Dato1_Dato2.npz\"),\n",
    "Path(r\"R:\\DATASET_PROSTATE\\numpy_160\\paziente202_Dato1_Dato3.npz\"),\n",
    "Path(r\"R:\\DATASET_PROSTATE\\numpy_160\\paziente1142_Dato1_Dato1.npz\"),\n",
    "Path(r\"R:\\DATASET_PROSTATE\\numpy_160\\paziente335_Dato1_Dato1.npz\"),\n",
    "Path(r\"R:\\DATASET_PROSTATE\\numpy_160\\paziente382_Dato1_Dato1.npz\"),\n",
    "Path(r\"R:\\DATASET_PROSTATE\\numpy_160\\paziente563_Dato2_Dato2.npz\"),\n",
    "Path(r\"R:\\DATASET_PROSTATE\\numpy_160\\paziente663_Dato1_Dato2.npz\"),\n",
    "Path(r\"R:\\DATASET_PROSTATE\\numpy_160\\paziente173_Dato1_Dato1.npz\"),\n",
    "Path(r\"R:\\DATASET_PROSTATE\\numpy_160\\paziente152_Dato1_Dato1.npz\"),\n",
    "Path(r\"R:\\DATASET_PROSTATE\\numpy_160\\paziente576_Dato1_Dato1.npz\"),\n",
    "Path(r\"R:\\DATASET_PROSTATE\\numpy_160\\paziente848_Dato1_Dato1.npz\"),\n",
    "Path(r\"R:\\DATASET_PROSTATE\\numpy_160\\paziente911_Dato2_Dato2.npz\"),\n",
    "Path(r\"R:\\DATASET_PROSTATE\\numpy_160\\paziente13_Dato1_Dato3.npz\"),\n",
    "Path(r\"R:\\DATASET_PROSTATE\\numpy_160\\paziente282_Dato2_Dato2.npz\"),\n",
    "Path(r\"R:\\DATASET_PROSTATE\\numpy_160\\paziente608_Dato1_Dato2.npz\"),\n",
    "Path(r\"R:\\DATASET_PROSTATE\\numpy_160\\paziente177_Dato1_Dato2.npz\"),\n",
    "Path(r\"R:\\DATASET_PROSTATE\\numpy_160\\paziente676_Dato2_Dato3.npz\"),\n",
    "Path(r\"R:\\DATASET_PROSTATE\\numpy_160\\paziente364_Dato1_Dato1.npz\"),\n",
    "Path(r\"R:\\DATASET_PROSTATE\\numpy_160\\paziente220_Dato1_Dato1.npz\"),\n",
    "Path(r\"R:\\DATASET_PROSTATE\\numpy_160\\paziente640_Dato2_Dato2.npz\"),\n",
    "Path(r\"R:\\DATASET_PROSTATE\\numpy_160\\paziente493_Dato1_Dato1.npz\"),\n",
    "Path(r\"R:\\DATASET_PROSTATE\\numpy_160\\paziente400_Dato1_Dato2.npz\"),\n",
    "Path(r\"R:\\DATASET_PROSTATE\\numpy_160\\paziente1078_Dato2_Dato1.npz\"),\n",
    "Path(r\"R:\\DATASET_PROSTATE\\numpy_160\\paziente1039_Dato1_Dato1.npz\"),\n",
    "Path(r\"R:\\DATASET_PROSTATE\\numpy_160\\paziente610_Dato2_Dato2.npz\"),\n",
    "Path(r\"R:\\DATASET_PROSTATE\\numpy_160\\paziente289_Dato1_Dato1.npz\"),\n",
    "Path(r\"R:\\DATASET_PROSTATE\\numpy_160\\paziente213_Dato1_Dato2.npz\"),\n",
    "Path(r\"R:\\DATASET_PROSTATE\\numpy_160\\paziente349_Dato1_Dato2.npz\"),\n",
    "Path(r\"R:\\DATASET_PROSTATE\\numpy_160\\paziente22_Dato1_Dato2.npz\"),\n",
    "Path(r\"R:\\DATASET_PROSTATE\\numpy_160\\paziente892_Dato1_Dato1.npz\"),\n",
    "Path(r\"R:\\DATASET_PROSTATE\\numpy_160\\paziente373_Dato1_Dato1.npz\"),\n",
    "Path(r\"R:\\DATASET_PROSTATE\\numpy_160\\paziente1048_Dato1_Dato2.npz\"),\n",
    "Path(r\"R:\\DATASET_PROSTATE\\numpy_160\\paziente971_Dato2_Dato1.npz\"),\n",
    "Path(r\"R:\\DATASET_PROSTATE\\numpy_160\\paziente306_Dato1_Dato1.npz\"),\n",
    "Path(r\"R:\\DATASET_PROSTATE\\numpy_160\\paziente61_Dato2_Dato6.npz\"),\n",
    "Path(r\"R:\\DATASET_PROSTATE\\numpy_160\\paziente459_Dato1_Dato2.npz\"),\n",
    "Path(r\"R:\\DATASET_PROSTATE\\numpy_160\\paziente554_Dato1_Dato1.npz\"),\n",
    "Path(r\"R:\\DATASET_PROSTATE\\numpy_160\\paziente110_Dato1_Dato1.npz\"),\n",
    "Path(r\"R:\\DATASET_PROSTATE\\numpy_160\\paziente816_Dato1_Dato1.npz\"),\n",
    "Path(r\"R:\\DATASET_PROSTATE\\numpy_160\\paziente231_Dato2_Dato4.npz\"),\n",
    "Path(r\"R:\\DATASET_PROSTATE\\numpy_160\\paziente819_Dato1_Dato1.npz\"),\n",
    "Path(r\"R:\\DATASET_PROSTATE\\numpy_160\\paziente672_Dato1_Dato1.npz\"),\n",
    "Path(r\"R:\\DATASET_PROSTATE\\numpy_160\\paziente229_Dato1_Dato3.npz\"),\n",
    "Path(r\"R:\\DATASET_PROSTATE\\numpy_160\\paziente486_Dato1_Dato1.npz\"),\n",
    "Path(r\"R:\\DATASET_PROSTATE\\numpy_160\\paziente24_Dato2_Dato2.npz\"),\n",
    "Path(r\"R:\\DATASET_PROSTATE\\numpy_160\\paziente677_Dato1_Dato1.npz\"),\n",
    "Path(r\"R:\\DATASET_PROSTATE\\numpy_160\\paziente685_Dato1_Dato3.npz\"),\n",
    "Path(r\"R:\\DATASET_PROSTATE\\numpy_160\\paziente688_Dato1_Dato1.npz\"),\n",
    "Path(r\"R:\\DATASET_PROSTATE\\numpy_160\\paziente117_Dato2_Dato3.npz\"),\n",
    "Path(r\"R:\\DATASET_PROSTATE\\numpy_160\\paziente1092_Dato1_Dato1.npz\"),\n",
    "Path(r\"R:\\DATASET_PROSTATE\\numpy_160\\paziente1028_Dato1_Dato1.npz\"),\n",
    "Path(r\"R:\\DATASET_PROSTATE\\numpy_160\\paziente698_Dato1_Dato1.npz\"),\n",
    "Path(r\"R:\\DATASET_PROSTATE\\numpy_160\\paziente247_Dato1_Dato1.npz\"),\n",
    "Path(r\"R:\\DATASET_PROSTATE\\numpy_160\\paziente523_Dato4_Dato3.npz\"),\n",
    "Path(r\"R:\\DATASET_PROSTATE\\numpy_160\\paziente566_Dato2_Dato2.npz\"),\n",
    "Path(r\"R:\\DATASET_PROSTATE\\numpy_160\\paziente760_Dato1_Dato4.npz\"),\n",
    "Path(r\"R:\\DATASET_PROSTATE\\numpy_160\\paziente507_Dato4_Dato3.npz\"),\n",
    "Path(r\"R:\\DATASET_PROSTATE\\numpy_160\\paziente217_Dato2_Dato3.npz\"),\n",
    "Path(r\"R:\\DATASET_PROSTATE\\numpy_160\\paziente529_Dato1_Dato4.npz\"),\n",
    "Path(r\"R:\\DATASET_PROSTATE\\numpy_160\\paziente1134_Dato1_Dato1.npz\"),\n",
    "Path(r\"R:\\DATASET_PROSTATE\\numpy_160\\paziente613_Dato2_Dato2.npz\"),\n",
    "Path(r\"R:\\DATASET_PROSTATE\\numpy_160\\paziente960_Dato1_Dato1.npz\"),\n",
    "Path(r\"R:\\DATASET_PROSTATE\\numpy_160\\paziente89_Dato2_Dato2.npz\"),\n",
    "Path(r\"R:\\DATASET_PROSTATE\\numpy_160\\paziente597_Dato1_Dato1.npz\"),\n",
    "Path(r\"R:\\DATASET_PROSTATE\\numpy_160\\paziente432_Dato2_Dato2.npz\"),\n",
    "Path(r\"R:\\DATASET_PROSTATE\\numpy_160\\paziente569_Dato1_Dato2.npz\"),\n",
    "Path(r\"R:\\DATASET_PROSTATE\\numpy_160\\paziente1055_Dato1_Dato1.npz\"),\n",
    "Path(r\"R:\\DATASET_PROSTATE\\numpy_160\\paziente1022_Dato1_Dato1.npz\"),\n",
    "Path(r\"R:\\DATASET_PROSTATE\\numpy_160\\paziente817_Dato1_Dato1.npz\"),\n",
    "Path(r\"R:\\DATASET_PROSTATE\\numpy_160\\paziente720_Dato4_Dato3.npz\"),\n",
    "Path(r\"R:\\DATASET_PROSTATE\\numpy_160\\paziente326_Dato1_Dato3.npz\"),\n",
    "Path(r\"R:\\DATASET_PROSTATE\\numpy_160\\paziente773_Dato1_Dato2.npz\"),\n",
    "Path(r\"R:\\DATASET_PROSTATE\\numpy_160\\paziente665_Dato1_Dato1.npz\"),\n",
    "Path(r\"R:\\DATASET_PROSTATE\\numpy_160\\paziente823_Dato2_Dato2.npz\"),\n",
    "Path(r\"R:\\DATASET_PROSTATE\\numpy_160\\paziente823_Dato1_Dato1.npz\")]\n",
    "reg_paths = [p.stem.split(\"_\") for p in paths]\n",
    "reg_paths = [reg_folder / patient_name / f\"results_{mr_data_name}_{us_data_name}.json\" for patient_name, mr_data_name, us_data_name in reg_paths]\n",
    "results = calculate_score_paths(reg_paths)"
   ],
   "metadata": {
    "collapsed": false,
    "pycharm": {
     "name": "#%%\n"
    }
   }
  },
  {
   "cell_type": "markdown",
   "source": [
    "Print stats"
   ],
   "metadata": {
    "collapsed": false
   }
  },
  {
   "cell_type": "code",
   "execution_count": 6,
   "outputs": [
    {
     "name": "stdout",
     "output_type": "stream",
     "text": [
      "prostate Dice PRE:   56.97±15.96%\n",
      "prostate Dice INTRA: 57.54±16.40%\n",
      "prostate Dice POST:  92.70±9.79%\n",
      "\n",
      "\n",
      "target Dice PRE:   3.44±8.83%\n",
      "TRE PRE:           15.80±6.62mm\n",
      "target Dice INTRA: 5.59±11.90%\n",
      "TRE INTRA:         inf±nanmm\n",
      "\n",
      "# valid target Dice: 100.00%\n",
      "valid Dice:          18.77±22.09%\n",
      "valid TRE:           9.61±6.93mm\n",
      "\n",
      "# good target Dice: 34.19%\n",
      "good Dice:          46.43±13.35%\n",
      "good TRE:           4.26±1.82mm\n",
      "\n",
      "# decent target Dice: 64.96%\n",
      "decent Dice:          28.90±21.41%\n",
      "decent TRE:           6.18±3.41mm\n",
      "\n",
      "# bad target Dice: 35.04%\n",
      "bad Dice:          0.00±0.00%\n",
      "bad TRE:           inf±nanmm\n",
      "\n"
     ]
    }
   ],
   "source": [
    "stats = init_stats(1, 1)\n",
    "stats = store_stats(stats, results, 0, 0)\n",
    "print_stats(stats, 0, 0)"
   ],
   "metadata": {
    "collapsed": false,
    "pycharm": {
     "name": "#%%\n"
    }
   }
  },
  {
   "cell_type": "code",
   "execution_count": 29,
   "outputs": [
    {
     "data": {
      "text/plain": "<Figure size 432x288 with 1 Axes>",
      "image/png": "[encoded data removed]"
     },
     "metadata": {
      "needs_background": "light"
     },
     "output_type": "display_data"
    }
   ],
   "source": [
    "import matplotlib.pyplot as plt\n",
    "\n",
    "plt.hist(results[\"dice\"], bins=50, range=(0.0, 1.0))\n",
    "plt.show()"
   ],
   "metadata": {
    "collapsed": false,
    "pycharm": {
     "name": "#%%\n"
    }
   }
  },
  {
   "cell_type": "code",
   "execution_count": 48,
   "outputs": [
    {
     "data": {
      "text/plain": "<Figure size 432x288 with 1 Axes>",
      "image/png": "[encoded data removed]"
     },
     "metadata": {
      "needs_background": "light"
     },
     "output_type": "display_data"
    }
   ],
   "source": [
    "plt.hist(good_dice, bins=50, range=(0.0, 1.0))\n",
    "plt.show()"
   ],
   "metadata": {
    "collapsed": false,
    "pycharm": {
     "name": "#%%\n"
    }
   }
  },
  {
   "cell_type": "code",
   "execution_count": 31,
   "outputs": [
    {
     "data": {
      "text/plain": "<Figure size 432x288 with 1 Axes>",
      "image/png": "[encoded data removed]"
     },
     "metadata": {
      "needs_background": "light"
     },
     "output_type": "display_data"
    }
   ],
   "source": [
    "plt.hist(results[\"error\"][results[\"error\"] != np.inf], bins=20)\n",
    "plt.show()"
   ],
   "metadata": {
    "collapsed": false,
    "pycharm": {
     "name": "#%%\n"
    }
   }
  },
  {
   "cell_type": "code",
   "execution_count": 49,
   "outputs": [],
   "source": [
    "for f in Path(r\"R:\\DATASET_PROSTATE\\numpy_160\").iterdir():\n",
    "    np.load(f)"
   ],
   "metadata": {
    "collapsed": false,
    "pycharm": {
     "name": "#%%\n"
    }
   }
  }
 ],
 "metadata": {
  "kernelspec": {
   "display_name": "Python 3",
   "language": "python",
   "name": "python3"
  },
  "language_info": {
   "codemirror_mode": {
    "name": "ipython",
    "version": 2
   },
   "file_extension": ".py",
   "mimetype": "text/x-python",
   "name": "python",
   "nbconvert_exporter": "python",
   "pygments_lexer": "ipython2",
   "version": "2.7.6"
  }
 },
 "nbformat": 4,
 "nbformat_minor": 0
}