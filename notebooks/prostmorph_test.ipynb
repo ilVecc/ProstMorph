{
 "cells": [
  {
   "cell_type": "markdown",
   "source": [
    "# Testing\n",
    "\n",
    "(just load an input and watch the morphing)"
   ],
   "metadata": {
    "collapsed": false
   }
  },
  {
   "cell_type": "code",
   "execution_count": null,
   "outputs": [],
   "source": [
    "import neurite as ne\n",
    "import numpy as np\n",
    "from notebooks.setup import test_generator, model, latest_checkpoint"
   ],
   "metadata": {
    "collapsed": false,
    "pycharm": {
     "name": "#%%\n"
    }
   }
  },
  {
   "cell_type": "markdown",
   "source": [
    "Eventually load the latest checkpoint"
   ],
   "metadata": {
    "collapsed": false
   }
  },
  {
   "cell_type": "code",
   "execution_count": null,
   "metadata": {
    "collapsed": true
   },
   "outputs": [],
   "source": [
    "model.load_weights(latest_checkpoint)"
   ]
  },
  {
   "cell_type": "code",
   "execution_count": null,
   "outputs": [],
   "source": [
    "model.evaluate(test_generator, return_dict=True)"
   ],
   "metadata": {
    "collapsed": false,
    "pycharm": {
     "name": "#%%\n"
    }
   }
  },
  {
   "cell_type": "markdown",
   "source": [
    "Qualitative test for prostate deformation"
   ],
   "metadata": {
    "collapsed": false
   }
  },
  {
   "cell_type": "code",
   "execution_count": null,
   "outputs": [],
   "source": [
    "test_input, test_output, mr_targets, us_targets, _ = test_generator(10)\n",
    "test_pred = model.predict(test_input)\n",
    "# model.evaluate(test_input, test_output, return_dict=True)"
   ],
   "metadata": {
    "collapsed": false,
    "pycharm": {
     "name": "#%%\n"
    }
   }
  },
  {
   "cell_type": "code",
   "execution_count": null,
   "outputs": [],
   "source": [
    "n_slice = 36\n",
    "images = [img[0, :, :, n_slice * 2].squeeze() for img in [test_input[0], test_pred[0], test_input[1]]]\n",
    "images += [img[0, :, :, n_slice].squeeze() for img in [test_input[2], test_pred[2], test_output[2]]]\n",
    "titles = ['moving', 'moved', 'fixed', 'moving_seg', 'moved_seg', 'fixed_seg']\n",
    "_ = ne.plot.slices(images, titles=titles, cmaps=['gray'], do_colorbars=True, grid=(2, 3), width=12)"
   ],
   "metadata": {
    "collapsed": false,
    "pycharm": {
     "name": "#%%\n"
    }
   }
  },
  {
   "cell_type": "code",
   "execution_count": null,
   "outputs": [],
   "source": [
    "from skimage.transform import resize\n",
    "import matplotlib.pyplot as plt\n",
    "\n",
    "selector = 35\n",
    "\n",
    "def compose_image(us_image, mr_image, us_seg, mr_seg, selector=50, four_by_four=False):\n",
    "    # image\n",
    "    n_slice_img = int(selector / 100.0 * us_image.shape[3])\n",
    "    mr_image, us_image = [img[0, :, :, n_slice_img, 0] for img in [mr_image, us_image]]\n",
    "\n",
    "    if four_by_four:\n",
    "        overlapped = mr_image.copy()\n",
    "        overlapped[0:40, 0:40] = us_image[0:40, 0:40]\n",
    "        overlapped[0:40, 80:120] = us_image[0:40, 80:120]\n",
    "        overlapped[40:80, 40:80] = us_image[40:80, 40:80]\n",
    "        overlapped[40:80, 120:160] = us_image[40:80, 120:160]\n",
    "        overlapped[80:120, 0:40] = us_image[80:120, 0:40]\n",
    "        overlapped[80:120, 80:120] = us_image[80:120, 80:120]\n",
    "        overlapped[120:160, 40:80] = us_image[120:160, 40:80]\n",
    "        overlapped[120:160, 120:160] = us_image[120:160, 120:160]\n",
    "    else:\n",
    "        overlapped = mr_image.copy()\n",
    "        overlapped[0:80, 0:80] = us_image[0:80, 0:80]\n",
    "        overlapped[80:160, 80:160] = us_image[80:160, 80:160]\n",
    "\n",
    "    # mask\n",
    "    n_slice_mask = int(selector / 100 * us_seg.shape[3])\n",
    "    mr_seg, us_seg = [resize(img[0, :, :, n_slice_mask, 0].astype(float), output_shape=(160, 160)) for img in [mr_seg, us_seg]]\n",
    "    mask = np.zeros(shape=(us_seg.shape[0], us_seg.shape[1], 4))\n",
    "    mask[:, :, 0] = us_seg\n",
    "    mask[:, :, 2] = mr_seg\n",
    "    mask = (mask > 0.5).astype(float)\n",
    "    mask[:, :, 3] = np.bitwise_or(us_seg > 0.5, mr_seg > 0.5)\n",
    "\n",
    "    return overlapped, mask, n_slice_img, n_slice_mask\n",
    "\n",
    "overlapped, mask_seg, n_image_slice, _ = compose_image(test_output[0], test_pred[0], test_output[2], test_pred[2], selector)\n",
    "_, mask_target, _, _ = compose_image(test_output[0], test_pred[0], us_targets[0][np.newaxis, ...], mr_targets[0][np.newaxis, ...], selector)\n",
    "\n",
    "plt.figure(figsize=(8, 8))\n",
    "plt.imshow(overlapped, cmap=\"gray\", interpolation=\"nearest\")\n",
    "plt.imshow(mask_seg, alpha=0.20, interpolation='bicubic')\n",
    "plt.imshow(mask_target, alpha=0.35, interpolation='bicubic')\n",
    "plt.axis('off')\n",
    "plt.show()"
   ],
   "metadata": {
    "collapsed": false,
    "pycharm": {
     "name": "#%%\n"
    }
   }
  },
  {
   "cell_type": "code",
   "execution_count": null,
   "outputs": [],
   "source": [
    "plt.figure(figsize=(8, 8))\n",
    "plt.imshow(test_pred[0][0, ..., n_image_slice, 0], cmap=\"gray\", interpolation=\"nearest\")\n",
    "plt.axis('off')\n",
    "plt.show()"
   ],
   "metadata": {
    "collapsed": false,
    "pycharm": {
     "name": "#%%\n"
    }
   }
  },
  {
   "cell_type": "code",
   "execution_count": null,
   "outputs": [],
   "source": [
    "plt.figure(figsize=(8, 8))\n",
    "plt.imshow(test_output[0][0, ..., n_image_slice, 0], cmap=\"gray\", interpolation=\"nearest\")\n",
    "plt.axis('off')\n",
    "plt.show()"
   ],
   "metadata": {
    "collapsed": false,
    "pycharm": {
     "name": "#%%\n"
    }
   }
  },
  {
   "cell_type": "code",
   "execution_count": null,
   "outputs": [],
   "source": [
    "plt.figure(figsize=(8, 8))\n",
    "plt.imshow(test_input[0][0, ..., n_image_slice, 0], cmap=\"gray\", interpolation=\"nearest\")\n",
    "plt.axis('off')\n",
    "plt.show()"
   ],
   "metadata": {
    "collapsed": false,
    "pycharm": {
     "name": "#%%\n"
    }
   }
  },
  {
   "cell_type": "markdown",
   "source": [
    "Plot flow (doesn't work, some kind of resampling is needed)"
   ],
   "metadata": {
    "collapsed": false
   }
  },
  {
   "cell_type": "code",
   "execution_count": null,
   "outputs": [],
   "source": [
    "flow = test_pred[1].squeeze()\n",
    "_ = ne.plot.flow([flow[:, :, i, [0,1]] for i in range(0, 80, 8)], width=25)"
   ],
   "metadata": {
    "collapsed": false,
    "pycharm": {
     "name": "#%%\n"
    }
   }
  },
  {
   "cell_type": "code",
   "execution_count": null,
   "outputs": [],
   "source": [
    "# import k3d\n",
    "#\n",
    "# flow = test_pred[1].squeeze()\n",
    "#\n",
    "# plot = k3d.plot()\n",
    "# plot += k3d.factory.vector_field(flow)\n",
    "# plot.display()"
   ],
   "metadata": {
    "collapsed": false,
    "pycharm": {
     "name": "#%%\n"
    }
   }
  }
 ],
 "metadata": {
  "kernelspec": {
   "display_name": "Python 3",
   "language": "python",
   "name": "python3"
  },
  "language_info": {
   "codemirror_mode": {
    "name": "ipython",
    "version": 2
   },
   "file_extension": ".py",
   "mimetype": "text/x-python",
   "name": "python",
   "nbconvert_exporter": "python",
   "pygments_lexer": "ipython2",
   "version": "2.7.6"
  }
 },
 "nbformat": 4,
 "nbformat_minor": 0
}